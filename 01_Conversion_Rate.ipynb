{
  "nbformat": 4,
  "nbformat_minor": 0,
  "metadata": {
    "colab": {
      "name": "01.Conversion Rate.ipynb",
      "provenance": [],
      "collapsed_sections": [],
      "authorship_tag": "ABX9TyNhYGhSuRgA0lHDou0s6a06",
      "include_colab_link": true
    },
    "kernelspec": {
      "name": "python3",
      "display_name": "Python 3"
    },
    "language_info": {
      "name": "python"
    }
  },
  "cells": [
    {
      "cell_type": "markdown",
      "metadata": {
        "id": "view-in-github",
        "colab_type": "text"
      },
      "source": [
        "<a href=\"https://colab.research.google.com/github/TracyWang0110/Machine-learning-projects/blob/main/01_Conversion_Rate.ipynb\" target=\"_parent\"><img src=\"https://colab.research.google.com/assets/colab-badge.svg\" alt=\"Open In Colab\"/></a>"
      ]
    },
    {
      "cell_type": "code",
      "metadata": {
        "id": "jkMiXx90CMyW"
      },
      "source": [
        "import warnings\n",
        "warnings.simplefilter('ignore')\n",
        "\n",
        "import numpy as np\n",
        "import pandas as pd\n",
        "import seaborn as sns\n",
        "import matplotlib.pyplot as plt\n",
        "from sklearn.metrics import auc, roc_curve, classification_report"
      ],
      "execution_count": null,
      "outputs": []
    },
    {
      "cell_type": "code",
      "metadata": {
        "id": "Mqk9WLlSDif0"
      },
      "source": [
        "data=pd.read_csv(\"https://drive.google.com/uc?export=download&id=1LU5be_H1TD2Pp1OmI202to3YyKo9AzFY\")"
      ],
      "execution_count": null,
      "outputs": []
    },
    {
      "cell_type": "markdown",
      "metadata": {
        "id": "Rx5USNqREfXt"
      },
      "source": [
        "Load Dataset\n"
      ]
    },
    {
      "cell_type": "code",
      "metadata": {
        "colab": {
          "base_uri": "https://localhost:8080/",
          "height": 204
        },
        "id": "yjgNxLQUEq4p",
        "outputId": "b15f3b2a-739e-4764-e9a5-edc59544cd27"
      },
      "source": [
        "data.head()"
      ],
      "execution_count": null,
      "outputs": [
        {
          "output_type": "execute_result",
          "data": {
            "text/html": [
              "<div>\n",
              "<style scoped>\n",
              "    .dataframe tbody tr th:only-of-type {\n",
              "        vertical-align: middle;\n",
              "    }\n",
              "\n",
              "    .dataframe tbody tr th {\n",
              "        vertical-align: top;\n",
              "    }\n",
              "\n",
              "    .dataframe thead th {\n",
              "        text-align: right;\n",
              "    }\n",
              "</style>\n",
              "<table border=\"1\" class=\"dataframe\">\n",
              "  <thead>\n",
              "    <tr style=\"text-align: right;\">\n",
              "      <th></th>\n",
              "      <th>country</th>\n",
              "      <th>age</th>\n",
              "      <th>new_user</th>\n",
              "      <th>source</th>\n",
              "      <th>total_pages_visited</th>\n",
              "      <th>converted</th>\n",
              "    </tr>\n",
              "  </thead>\n",
              "  <tbody>\n",
              "    <tr>\n",
              "      <th>0</th>\n",
              "      <td>UK</td>\n",
              "      <td>25</td>\n",
              "      <td>1</td>\n",
              "      <td>Ads</td>\n",
              "      <td>1</td>\n",
              "      <td>0</td>\n",
              "    </tr>\n",
              "    <tr>\n",
              "      <th>1</th>\n",
              "      <td>US</td>\n",
              "      <td>23</td>\n",
              "      <td>1</td>\n",
              "      <td>Seo</td>\n",
              "      <td>5</td>\n",
              "      <td>0</td>\n",
              "    </tr>\n",
              "    <tr>\n",
              "      <th>2</th>\n",
              "      <td>US</td>\n",
              "      <td>28</td>\n",
              "      <td>1</td>\n",
              "      <td>Seo</td>\n",
              "      <td>4</td>\n",
              "      <td>0</td>\n",
              "    </tr>\n",
              "    <tr>\n",
              "      <th>3</th>\n",
              "      <td>China</td>\n",
              "      <td>39</td>\n",
              "      <td>1</td>\n",
              "      <td>Seo</td>\n",
              "      <td>5</td>\n",
              "      <td>0</td>\n",
              "    </tr>\n",
              "    <tr>\n",
              "      <th>4</th>\n",
              "      <td>US</td>\n",
              "      <td>30</td>\n",
              "      <td>1</td>\n",
              "      <td>Seo</td>\n",
              "      <td>6</td>\n",
              "      <td>0</td>\n",
              "    </tr>\n",
              "  </tbody>\n",
              "</table>\n",
              "</div>"
            ],
            "text/plain": [
              "  country  age  new_user source  total_pages_visited  converted\n",
              "0      UK   25         1    Ads                    1          0\n",
              "1      US   23         1    Seo                    5          0\n",
              "2      US   28         1    Seo                    4          0\n",
              "3   China   39         1    Seo                    5          0\n",
              "4      US   30         1    Seo                    6          0"
            ]
          },
          "metadata": {},
          "execution_count": 5
        }
      ]
    },
    {
      "cell_type": "code",
      "metadata": {
        "colab": {
          "base_uri": "https://localhost:8080/"
        },
        "id": "BiR4fQWMHh4t",
        "outputId": "10461675-ca98-4fae-cae8-38dceaa23ba8"
      },
      "source": [
        "data.info()"
      ],
      "execution_count": null,
      "outputs": [
        {
          "output_type": "stream",
          "name": "stdout",
          "text": [
            "<class 'pandas.core.frame.DataFrame'>\n",
            "RangeIndex: 316200 entries, 0 to 316199\n",
            "Data columns (total 6 columns):\n",
            " #   Column               Non-Null Count   Dtype \n",
            "---  ------               --------------   ----- \n",
            " 0   country              316200 non-null  object\n",
            " 1   age                  316200 non-null  int64 \n",
            " 2   new_user             316200 non-null  int64 \n",
            " 3   source               316200 non-null  object\n",
            " 4   total_pages_visited  316200 non-null  int64 \n",
            " 5   converted            316200 non-null  int64 \n",
            "dtypes: int64(4), object(2)\n",
            "memory usage: 14.5+ MB\n"
          ]
        }
      ]
    },
    {
      "cell_type": "code",
      "metadata": {
        "colab": {
          "base_uri": "https://localhost:8080/",
          "height": 410
        },
        "id": "dthBcPrvHt6c",
        "outputId": "1feca74c-b68c-4e6e-e800-eac893cf3f52"
      },
      "source": [
        "data.describe(include ='all')"
      ],
      "execution_count": null,
      "outputs": [
        {
          "output_type": "execute_result",
          "data": {
            "text/html": [
              "<div>\n",
              "<style scoped>\n",
              "    .dataframe tbody tr th:only-of-type {\n",
              "        vertical-align: middle;\n",
              "    }\n",
              "\n",
              "    .dataframe tbody tr th {\n",
              "        vertical-align: top;\n",
              "    }\n",
              "\n",
              "    .dataframe thead th {\n",
              "        text-align: right;\n",
              "    }\n",
              "</style>\n",
              "<table border=\"1\" class=\"dataframe\">\n",
              "  <thead>\n",
              "    <tr style=\"text-align: right;\">\n",
              "      <th></th>\n",
              "      <th>country</th>\n",
              "      <th>age</th>\n",
              "      <th>new_user</th>\n",
              "      <th>source</th>\n",
              "      <th>total_pages_visited</th>\n",
              "      <th>converted</th>\n",
              "    </tr>\n",
              "  </thead>\n",
              "  <tbody>\n",
              "    <tr>\n",
              "      <th>count</th>\n",
              "      <td>316200</td>\n",
              "      <td>316200.000000</td>\n",
              "      <td>316200.000000</td>\n",
              "      <td>316200</td>\n",
              "      <td>316200.000000</td>\n",
              "      <td>316200.000000</td>\n",
              "    </tr>\n",
              "    <tr>\n",
              "      <th>unique</th>\n",
              "      <td>4</td>\n",
              "      <td>NaN</td>\n",
              "      <td>NaN</td>\n",
              "      <td>3</td>\n",
              "      <td>NaN</td>\n",
              "      <td>NaN</td>\n",
              "    </tr>\n",
              "    <tr>\n",
              "      <th>top</th>\n",
              "      <td>US</td>\n",
              "      <td>NaN</td>\n",
              "      <td>NaN</td>\n",
              "      <td>Seo</td>\n",
              "      <td>NaN</td>\n",
              "      <td>NaN</td>\n",
              "    </tr>\n",
              "    <tr>\n",
              "      <th>freq</th>\n",
              "      <td>178092</td>\n",
              "      <td>NaN</td>\n",
              "      <td>NaN</td>\n",
              "      <td>155040</td>\n",
              "      <td>NaN</td>\n",
              "      <td>NaN</td>\n",
              "    </tr>\n",
              "    <tr>\n",
              "      <th>mean</th>\n",
              "      <td>NaN</td>\n",
              "      <td>30.569858</td>\n",
              "      <td>0.685465</td>\n",
              "      <td>NaN</td>\n",
              "      <td>4.872966</td>\n",
              "      <td>0.032258</td>\n",
              "    </tr>\n",
              "    <tr>\n",
              "      <th>std</th>\n",
              "      <td>NaN</td>\n",
              "      <td>8.271802</td>\n",
              "      <td>0.464331</td>\n",
              "      <td>NaN</td>\n",
              "      <td>3.341104</td>\n",
              "      <td>0.176685</td>\n",
              "    </tr>\n",
              "    <tr>\n",
              "      <th>min</th>\n",
              "      <td>NaN</td>\n",
              "      <td>17.000000</td>\n",
              "      <td>0.000000</td>\n",
              "      <td>NaN</td>\n",
              "      <td>1.000000</td>\n",
              "      <td>0.000000</td>\n",
              "    </tr>\n",
              "    <tr>\n",
              "      <th>25%</th>\n",
              "      <td>NaN</td>\n",
              "      <td>24.000000</td>\n",
              "      <td>0.000000</td>\n",
              "      <td>NaN</td>\n",
              "      <td>2.000000</td>\n",
              "      <td>0.000000</td>\n",
              "    </tr>\n",
              "    <tr>\n",
              "      <th>50%</th>\n",
              "      <td>NaN</td>\n",
              "      <td>30.000000</td>\n",
              "      <td>1.000000</td>\n",
              "      <td>NaN</td>\n",
              "      <td>4.000000</td>\n",
              "      <td>0.000000</td>\n",
              "    </tr>\n",
              "    <tr>\n",
              "      <th>75%</th>\n",
              "      <td>NaN</td>\n",
              "      <td>36.000000</td>\n",
              "      <td>1.000000</td>\n",
              "      <td>NaN</td>\n",
              "      <td>7.000000</td>\n",
              "      <td>0.000000</td>\n",
              "    </tr>\n",
              "    <tr>\n",
              "      <th>max</th>\n",
              "      <td>NaN</td>\n",
              "      <td>123.000000</td>\n",
              "      <td>1.000000</td>\n",
              "      <td>NaN</td>\n",
              "      <td>29.000000</td>\n",
              "      <td>1.000000</td>\n",
              "    </tr>\n",
              "  </tbody>\n",
              "</table>\n",
              "</div>"
            ],
            "text/plain": [
              "       country            age  ...  total_pages_visited      converted\n",
              "count   316200  316200.000000  ...        316200.000000  316200.000000\n",
              "unique       4            NaN  ...                  NaN            NaN\n",
              "top         US            NaN  ...                  NaN            NaN\n",
              "freq    178092            NaN  ...                  NaN            NaN\n",
              "mean       NaN      30.569858  ...             4.872966       0.032258\n",
              "std        NaN       8.271802  ...             3.341104       0.176685\n",
              "min        NaN      17.000000  ...             1.000000       0.000000\n",
              "25%        NaN      24.000000  ...             2.000000       0.000000\n",
              "50%        NaN      30.000000  ...             4.000000       0.000000\n",
              "75%        NaN      36.000000  ...             7.000000       0.000000\n",
              "max        NaN     123.000000  ...            29.000000       1.000000\n",
              "\n",
              "[11 rows x 6 columns]"
            ]
          },
          "metadata": {},
          "execution_count": 10
        }
      ]
    },
    {
      "cell_type": "code",
      "metadata": {
        "colab": {
          "base_uri": "https://localhost:8080/"
        },
        "id": "HUfhZP47LX3O",
        "outputId": "cf94e270-82aa-4086-b8b1-07b3605450e3"
      },
      "source": [
        "data.value_counts('country')"
      ],
      "execution_count": null,
      "outputs": [
        {
          "output_type": "execute_result",
          "data": {
            "text/plain": [
              "country\n",
              "US         178092\n",
              "China       76602\n",
              "UK          48450\n",
              "Germany     13056\n",
              "dtype: int64"
            ]
          },
          "metadata": {},
          "execution_count": 15
        }
      ]
    },
    {
      "cell_type": "markdown",
      "metadata": {
        "id": "DLqNQbawMaNj"
      },
      "source": [
        "the site is probably a US site, although it does have a large Chinese user base as well user base is pretty young\n",
        "conversion rate at around 3% is industry standard. It makes sense.\n",
        "everything seems to make sense here except for max age 123 yrs! Let’s investigate it:"
      ]
    },
    {
      "cell_type": "code",
      "metadata": {
        "colab": {
          "base_uri": "https://localhost:8080/",
          "height": 111
        },
        "id": "NPBhpkQlMxbq",
        "outputId": "e651b691-b836-4bb0-8d6d-1dc6490cf780"
      },
      "source": [
        "data[data['age']>90]"
      ],
      "execution_count": null,
      "outputs": [
        {
          "output_type": "execute_result",
          "data": {
            "text/html": [
              "<div>\n",
              "<style scoped>\n",
              "    .dataframe tbody tr th:only-of-type {\n",
              "        vertical-align: middle;\n",
              "    }\n",
              "\n",
              "    .dataframe tbody tr th {\n",
              "        vertical-align: top;\n",
              "    }\n",
              "\n",
              "    .dataframe thead th {\n",
              "        text-align: right;\n",
              "    }\n",
              "</style>\n",
              "<table border=\"1\" class=\"dataframe\">\n",
              "  <thead>\n",
              "    <tr style=\"text-align: right;\">\n",
              "      <th></th>\n",
              "      <th>country</th>\n",
              "      <th>age</th>\n",
              "      <th>new_user</th>\n",
              "      <th>source</th>\n",
              "      <th>total_pages_visited</th>\n",
              "      <th>converted</th>\n",
              "    </tr>\n",
              "  </thead>\n",
              "  <tbody>\n",
              "    <tr>\n",
              "      <th>90928</th>\n",
              "      <td>Germany</td>\n",
              "      <td>123</td>\n",
              "      <td>0</td>\n",
              "      <td>Seo</td>\n",
              "      <td>15</td>\n",
              "      <td>1</td>\n",
              "    </tr>\n",
              "    <tr>\n",
              "      <th>295581</th>\n",
              "      <td>UK</td>\n",
              "      <td>111</td>\n",
              "      <td>0</td>\n",
              "      <td>Ads</td>\n",
              "      <td>10</td>\n",
              "      <td>1</td>\n",
              "    </tr>\n",
              "  </tbody>\n",
              "</table>\n",
              "</div>"
            ],
            "text/plain": [
              "        country  age  new_user source  total_pages_visited  converted\n",
              "90928   Germany  123         0    Seo                   15          1\n",
              "295581       UK  111         0    Ads                   10          1"
            ]
          },
          "metadata": {},
          "execution_count": 18
        }
      ]
    },
    {
      "cell_type": "markdown",
      "metadata": {
        "id": "wi5hAIvGM-jh"
      },
      "source": [
        "Those 123 and 111 values seem unrealistic. How many users are we talking about:\n",
        "It is just 2 users! In this case, we can remove them, nothing will change. In general, depending on the problem, you can:\n",
        "remove the entire row saying you don’t trust the data treat those values as NAs\n",
        "if there is a pattern, try to figure out what went wrong.\n",
        "\n",
        "In doubt, always go with removing the row. It is the safest choice.\n",
        "You probably also want to emphasize in the text that wrong data is worrisome and can be an indicator of some bug in the logging code. Therefore, you’d like to talk to the software engineer who implemented the code to see if, perhaps, there are some bugs which affect the data significantly.\n",
        "\n",
        "Anyway, here is probably just users who put wrong data. So let’s remove them:\n"
      ]
    },
    {
      "cell_type": "markdown",
      "metadata": {
        "id": "0KMwXO6eNnyn"
      },
      "source": [
        "Remove Outliers"
      ]
    },
    {
      "cell_type": "code",
      "metadata": {
        "id": "c-H741s9NyfS"
      },
      "source": [
        "data = data[data['age']<90]"
      ],
      "execution_count": null,
      "outputs": []
    },
    {
      "cell_type": "markdown",
      "metadata": {
        "id": "C15JNjR1OKJS"
      },
      "source": [
        "Exploratory Data Analysis"
      ]
    },
    {
      "cell_type": "code",
      "metadata": {
        "colab": {
          "base_uri": "https://localhost:8080/",
          "height": 233
        },
        "id": "ayzyiCGrOSMS",
        "outputId": "1e3dcf0a-79fe-4072-ebce-7ecd3488b2e9"
      },
      "source": [
        "# visualization of different countries \n",
        "\n",
        "#grouped = data[['country','converted']].groupby('country').mean()\n",
        "\n",
        "fig, ax = plt.subplots(nrows=1, ncols=2, figsize=(18, 6))\n",
        "sns.countplot(x='country', data=data, ax=ax[0], hue = 'converted',order = data['country'].value_counts().index)\n",
        "ax[0].set_title('Count Plot of Country', fontsize=16)\n",
        "#set up y scales\n",
        "ax[0].set_yscale('log')\n",
        "\n",
        "sns.barplot('country',y='converted',data=data,ax=ax[1])\n",
        "ax[1].set_title('Mean Conversion Rate per Country', fontsize =16)\n",
        "\n",
        "plt.tight_layout()\n",
        "plt.show()\n"
      ],
      "execution_count": null,
      "outputs": [
        {
          "output_type": "display_data",
          "data": {
            "image/png": "[encoded data removed]",
            "text/plain": [
              "<Figure size 1296x432 with 2 Axes>"
            ]
          },
          "metadata": {
            "needs_background": "light"
          }
        }
      ]
    },
    {
      "cell_type": "code",
      "metadata": {
        "colab": {
          "base_uri": "https://localhost:8080/",
          "height": 233
        },
        "id": "4p0CicpZaLXS",
        "outputId": "a3f8a4fa-679c-46c0-9a05-a449fa43466d"
      },
      "source": [
        "# visualization of different user types\n",
        "\n",
        "fig, ax = plt.subplots(nrows=1, ncols=2, figsize=(18, 6))\n",
        "sns.countplot(x='new_user', hue='converted', data=data, ax=ax[0])\n",
        "ax[0].set_title('Count Plot of User Types', fontsize=16)\n",
        "ax[0].set_yscale('log')\n",
        "sns.barplot(x='new_user', y='converted', data=data, ax=ax[1]);\n",
        "ax[1].set_title('Mean Conversion Rate per User Type', fontsize=16)\n",
        "plt.tight_layout()\n",
        "plt.show()"
      ],
      "execution_count": null,
      "outputs": [
        {
          "output_type": "display_data",
          "data": {
            "image/png": "[encoded data removed]",
            "text/plain": [
              "<Figure size 1296x432 with 2 Axes>"
            ]
          },
          "metadata": {
            "needs_background": "light"
          }
        }
      ]
    },
    {
      "cell_type": "code",
      "metadata": {
        "colab": {
          "base_uri": "https://localhost:8080/",
          "height": 233
        },
        "id": "56vzRsHJanCv",
        "outputId": "4d49a9c9-7240-47e5-a558-d21dc9d56b46"
      },
      "source": [
        "fig, ax = plt.subplots(nrows=1, ncols=2, figsize=(18, 6))\n",
        "sns.countplot(x='source', hue='converted', data=data, ax=ax[0])\n",
        "ax[0].set_title('Count Plot of User Types', fontsize=16)\n",
        "ax[0].set_yscale('log')\n",
        "sns.barplot(x='source', y='converted', data=data, ax=ax[1]);\n",
        "ax[1].set_title('Mean Conversion Rate per Source', fontsize=16)\n",
        "plt.tight_layout()\n",
        "plt.show()"
      ],
      "execution_count": null,
      "outputs": [
        {
          "output_type": "display_data",
          "data": {
            "image/png": "[encoded data removed]",
            "text/plain": [
              "<Figure size 1296x432 with 2 Axes>"
            ]
          },
          "metadata": {
            "needs_background": "light"
          }
        }
      ]
    },
    {
      "cell_type": "code",
      "metadata": {
        "colab": {
          "base_uri": "https://localhost:8080/",
          "height": 369
        },
        "id": "mitg3RfebFi4",
        "outputId": "9c25ce05-2d4b-4e29-94a7-cbd38d06928a"
      },
      "source": [
        "#age\n",
        "\n",
        "hist_kws={'histtype': 'bar', 'edgecolor':'black', 'alpha': 0.2}\n",
        "# visualization of height and female\n",
        "fig, ax = plt.subplots(figsize=(8, 5))\n",
        "sns.distplot(data[data['converted']== 0]['age'], label='Converted 0', ax=ax, hist_kws=hist_kws)\n",
        "sns.distplot(data[data['converted']== 1]['age'], label='Converted 1', ax=ax, hist_kws=hist_kws)\n",
        "ax.legend(fontsize=12)\n",
        "ax.set_title('Count Plot of Age', fontsize = 16)\n",
        "plt.tight_layout()\n",
        "plt.show()"
      ],
      "execution_count": null,
      "outputs": [
        {
          "output_type": "display_data",
          "data": {
            "image/png": "[encoded data removed]",
            "text/plain": [
              "<Figure size 576x360 with 1 Axes>"
            ]
          },
          "metadata": {
            "needs_background": "light"
          }
        }
      ]
    },
    {
      "cell_type": "code",
      "metadata": {
        "id": "7AO2GVWjcBCU"
      },
      "source": [
        "grouped_age = data.groupby('age').mean().reset_index()"
      ],
      "execution_count": null,
      "outputs": []
    },
    {
      "cell_type": "code",
      "metadata": {
        "colab": {
          "base_uri": "https://localhost:8080/",
          "height": 204
        },
        "id": "RJHU5T4ccg4N",
        "outputId": "8350db9d-c1c7-43fa-e48c-0132bdcac480"
      },
      "source": [
        "grouped_age.head()"
      ],
      "execution_count": null,
      "outputs": [
        {
          "output_type": "execute_result",
          "data": {
            "text/html": [
              "<div>\n",
              "<style scoped>\n",
              "    .dataframe tbody tr th:only-of-type {\n",
              "        vertical-align: middle;\n",
              "    }\n",
              "\n",
              "    .dataframe tbody tr th {\n",
              "        vertical-align: top;\n",
              "    }\n",
              "\n",
              "    .dataframe thead th {\n",
              "        text-align: right;\n",
              "    }\n",
              "</style>\n",
              "<table border=\"1\" class=\"dataframe\">\n",
              "  <thead>\n",
              "    <tr style=\"text-align: right;\">\n",
              "      <th></th>\n",
              "      <th>age</th>\n",
              "      <th>new_user</th>\n",
              "      <th>total_pages_visited</th>\n",
              "      <th>converted</th>\n",
              "    </tr>\n",
              "  </thead>\n",
              "  <tbody>\n",
              "    <tr>\n",
              "      <th>0</th>\n",
              "      <td>17</td>\n",
              "      <td>0.667500</td>\n",
              "      <td>5.317362</td>\n",
              "      <td>0.071607</td>\n",
              "    </tr>\n",
              "    <tr>\n",
              "      <th>1</th>\n",
              "      <td>18</td>\n",
              "      <td>0.672336</td>\n",
              "      <td>5.184266</td>\n",
              "      <td>0.066029</td>\n",
              "    </tr>\n",
              "    <tr>\n",
              "      <th>2</th>\n",
              "      <td>19</td>\n",
              "      <td>0.675794</td>\n",
              "      <td>5.108996</td>\n",
              "      <td>0.058616</td>\n",
              "    </tr>\n",
              "    <tr>\n",
              "      <th>3</th>\n",
              "      <td>20</td>\n",
              "      <td>0.675266</td>\n",
              "      <td>5.129874</td>\n",
              "      <td>0.057109</td>\n",
              "    </tr>\n",
              "    <tr>\n",
              "      <th>4</th>\n",
              "      <td>21</td>\n",
              "      <td>0.679920</td>\n",
              "      <td>5.068028</td>\n",
              "      <td>0.053985</td>\n",
              "    </tr>\n",
              "  </tbody>\n",
              "</table>\n",
              "</div>"
            ],
            "text/plain": [
              "   age  new_user  total_pages_visited  converted\n",
              "0   17  0.667500             5.317362   0.071607\n",
              "1   18  0.672336             5.184266   0.066029\n",
              "2   19  0.675794             5.108996   0.058616\n",
              "3   20  0.675266             5.129874   0.057109\n",
              "4   21  0.679920             5.068028   0.053985"
            ]
          },
          "metadata": {},
          "execution_count": 31
        }
      ]
    },
    {
      "cell_type": "code",
      "metadata": {
        "colab": {
          "base_uri": "https://localhost:8080/",
          "height": 426
        },
        "id": "hp5ykQ60crRV",
        "outputId": "cb14ee3f-e77b-4c53-e449-8a889657f3f0"
      },
      "source": [
        "#mean convertion rate by age and total_pages_visited\n",
        "fig, ax = plt.subplots(nrows=1, ncols=2, figsize=(18, 6))\n",
        "\n",
        "ax[0].plot(grouped_age['age'],grouped_age['converted'])\n",
        "ax[0].set_title('Mean Conversion Rate versus Age', fontsize = 16)\n",
        "ax[0].set_xlabel('Age')\n",
        "ax[0].set_ylabel('Mean conversion Rate')\n",
        "\n",
        "\n",
        "ax[1].plot(grouped_age['age'],grouped_age['total_pages_visited'])\n",
        "ax[1].set_title('total_pages_visited versus Age', fontsize = 16)\n",
        "ax[1].set_xlabel('Age')\n",
        "ax[1].set_ylabel('Mean total pages visited')\n",
        "\n",
        "\n",
        "plt.show()\n"
      ],
      "execution_count": null,
      "outputs": [
        {
          "output_type": "display_data",
          "data": {
            "image/png": "[encoded data removed]",
            "text/plain": [
              "<Figure size 1296x432 with 2 Axes>"
            ]
          },
          "metadata": {
            "needs_background": "light"
          }
        }
      ]
    },
    {
      "cell_type": "code",
      "metadata": {
        "id": "DXGz6HlkfrPu"
      },
      "source": [
        "grouped_pages = data.groupby('total_pages_visited').mean().reset_index()"
      ],
      "execution_count": null,
      "outputs": []
    },
    {
      "cell_type": "code",
      "metadata": {
        "colab": {
          "base_uri": "https://localhost:8080/",
          "height": 369
        },
        "id": "SGtq9BX3f4tN",
        "outputId": "78e72320-9784-48b4-a6a2-3e94e5acd625"
      },
      "source": [
        "hist_kws={'histtype': 'bar', 'edgecolor':'black', 'alpha': 0.2}\n",
        "# visualization of height and female\n",
        "fig, ax = plt.subplots(figsize=(8, 5))\n",
        "sns.distplot(data[data['converted']== 0]['total_pages_visited'], label='Converted 0', ax=ax, hist_kws=hist_kws)\n",
        "sns.distplot(data[data['converted']== 1]['total_pages_visited'], label='Converted 1', ax=ax, hist_kws=hist_kws)\n",
        "ax.legend(fontsize=12)\n",
        "ax.set_title('Count Plot of total_pages_visited', fontsize = 16)\n",
        "plt.tight_layout()\n",
        "plt.show()"
      ],
      "execution_count": null,
      "outputs": [
        {
          "output_type": "display_data",
          "data": {
            "image/png": "[encoded data removed]",
            "text/plain": [
              "<Figure size 576x360 with 1 Axes>"
            ]
          },
          "metadata": {
            "needs_background": "light"
          }
        }
      ]
    },
    {
      "cell_type": "code",
      "metadata": {
        "colab": {
          "base_uri": "https://localhost:8080/",
          "height": 260
        },
        "id": "OHZZdwsmgPMA",
        "outputId": "80f85427-2125-422b-d37d-2f658e4d9833"
      },
      "source": [
        "#mean convertion rate by age and total_pages_visited\n",
        "fig, ax = plt.subplots(nrows=1, ncols=2, figsize=(18, 6))\n",
        "\n",
        "ax[0].plot(grouped_pages['total_pages_visited'],grouped_pages['converted'])\n",
        "ax[0].set_title('Mean Conversion Rate versus total_pages_visited', fontsize = 16)\n",
        "ax[0].set_xlabel('total_pages_visited')\n",
        "ax[0].set_ylabel('Mean conversion Rate')\n",
        "\n",
        "\n",
        "ax[1].plot(grouped_pages['total_pages_visited'],grouped_pages['age'])\n",
        "ax[1].set_title('total_pages_visited versus Age', fontsize = 16)\n",
        "ax[1].set_xlabel('Age')\n",
        "ax[1].set_ylabel('Mean Age')\n",
        "\n",
        "\n",
        "plt.show()"
      ],
      "execution_count": null,
      "outputs": [
        {
          "output_type": "display_data",
          "data": {
            "image/png": "[encoded data removed]",
            "text/plain": [
              "<Figure size 1296x432 with 2 Axes>"
            ]
          },
          "metadata": {
            "needs_background": "light"
          }
        }
      ]
    },
    {
      "cell_type": "markdown",
      "metadata": {
        "id": "RhtXWy3JhRPE"
      },
      "source": [
        "Definitely spending more time on the site implies higher probability of conversion!\n",
        "\n",
        "Focus on your strengths in the challenge. If visualization is your main strength, spend as much time as you wish on that and come up with something great. You might be hired as a great data scientist - visualization. If you have other strengths, spend more time on those. Take-home challenges are pretty open ended by design. By seeing where you spend more time, hiring managers can also understand your strengths, what you like doing the most\u0000 and where you would fit best."
      ]
    },
    {
      "cell_type": "code",
      "metadata": {
        "id": "KMu9Gev5hR_Q"
      },
      "source": [
        "from xgboost import XGBClassifier\n",
        "from sklearn.model_selection import train_test_split\n",
        "from sklearn.metrics import accuracy_score"
      ],
      "execution_count": null,
      "outputs": []
    },
    {
      "cell_type": "markdown",
      "metadata": {
        "id": "9VQ31auvxcLH"
      },
      "source": [
        "Convert categorical features to numeric levels"
      ]
    },
    {
      "cell_type": "code",
      "metadata": {
        "colab": {
          "base_uri": "https://localhost:8080/",
          "height": 204
        },
        "id": "PPCViVXVumNO",
        "outputId": "801f946a-f503-468b-ae16-dbcaf38e669f"
      },
      "source": [
        "from sklearn.preprocessing import LabelEncoder\n",
        "# Convert categorical features to numeric levels\n",
        "for feature in ['country', 'source']:\n",
        "    le = LabelEncoder()\n",
        "    data[feature] = le.fit_transform(data[feature].astype(str))\n",
        "    \n",
        "data.head()"
      ],
      "execution_count": null,
      "outputs": [
        {
          "output_type": "execute_result",
          "data": {
            "text/html": [
              "<div>\n",
              "<style scoped>\n",
              "    .dataframe tbody tr th:only-of-type {\n",
              "        vertical-align: middle;\n",
              "    }\n",
              "\n",
              "    .dataframe tbody tr th {\n",
              "        vertical-align: top;\n",
              "    }\n",
              "\n",
              "    .dataframe thead th {\n",
              "        text-align: right;\n",
              "    }\n",
              "</style>\n",
              "<table border=\"1\" class=\"dataframe\">\n",
              "  <thead>\n",
              "    <tr style=\"text-align: right;\">\n",
              "      <th></th>\n",
              "      <th>country</th>\n",
              "      <th>age</th>\n",
              "      <th>new_user</th>\n",
              "      <th>source</th>\n",
              "      <th>total_pages_visited</th>\n",
              "      <th>converted</th>\n",
              "    </tr>\n",
              "  </thead>\n",
              "  <tbody>\n",
              "    <tr>\n",
              "      <th>0</th>\n",
              "      <td>2</td>\n",
              "      <td>25</td>\n",
              "      <td>1</td>\n",
              "      <td>0</td>\n",
              "      <td>1</td>\n",
              "      <td>0</td>\n",
              "    </tr>\n",
              "    <tr>\n",
              "      <th>1</th>\n",
              "      <td>3</td>\n",
              "      <td>23</td>\n",
              "      <td>1</td>\n",
              "      <td>2</td>\n",
              "      <td>5</td>\n",
              "      <td>0</td>\n",
              "    </tr>\n",
              "    <tr>\n",
              "      <th>2</th>\n",
              "      <td>3</td>\n",
              "      <td>28</td>\n",
              "      <td>1</td>\n",
              "      <td>2</td>\n",
              "      <td>4</td>\n",
              "      <td>0</td>\n",
              "    </tr>\n",
              "    <tr>\n",
              "      <th>3</th>\n",
              "      <td>0</td>\n",
              "      <td>39</td>\n",
              "      <td>1</td>\n",
              "      <td>2</td>\n",
              "      <td>5</td>\n",
              "      <td>0</td>\n",
              "    </tr>\n",
              "    <tr>\n",
              "      <th>4</th>\n",
              "      <td>3</td>\n",
              "      <td>30</td>\n",
              "      <td>1</td>\n",
              "      <td>2</td>\n",
              "      <td>6</td>\n",
              "      <td>0</td>\n",
              "    </tr>\n",
              "  </tbody>\n",
              "</table>\n",
              "</div>"
            ],
            "text/plain": [
              "   country  age  new_user  source  total_pages_visited  converted\n",
              "0        2   25         1       0                    1          0\n",
              "1        3   23         1       2                    5          0\n",
              "2        3   28         1       2                    4          0\n",
              "3        0   39         1       2                    5          0\n",
              "4        3   30         1       2                    6          0"
            ]
          },
          "metadata": {},
          "execution_count": 61
        }
      ]
    },
    {
      "cell_type": "code",
      "metadata": {
        "colab": {
          "base_uri": "https://localhost:8080/",
          "height": 204
        },
        "id": "8uUdzypz1ML3",
        "outputId": "0ff1ecf9-8788-41c8-f52d-e849dad2f824"
      },
      "source": [
        "col = ['country','age',\t'new_user',\t'source','total_pages_visited']\n",
        "features= data.loc[:, data.columns.isin(col)]\n",
        "labels = data['converted']\n",
        "\n",
        "X_train, X_test, y_train, y_test = train_test_split(features, labels, test_size=0.2, random_state=42)\n",
        "X_train.head()"
      ],
      "execution_count": null,
      "outputs": [
        {
          "output_type": "execute_result",
          "data": {
            "text/html": [
              "<div>\n",
              "<style scoped>\n",
              "    .dataframe tbody tr th:only-of-type {\n",
              "        vertical-align: middle;\n",
              "    }\n",
              "\n",
              "    .dataframe tbody tr th {\n",
              "        vertical-align: top;\n",
              "    }\n",
              "\n",
              "    .dataframe thead th {\n",
              "        text-align: right;\n",
              "    }\n",
              "</style>\n",
              "<table border=\"1\" class=\"dataframe\">\n",
              "  <thead>\n",
              "    <tr style=\"text-align: right;\">\n",
              "      <th></th>\n",
              "      <th>country</th>\n",
              "      <th>age</th>\n",
              "      <th>new_user</th>\n",
              "      <th>source</th>\n",
              "      <th>total_pages_visited</th>\n",
              "    </tr>\n",
              "  </thead>\n",
              "  <tbody>\n",
              "    <tr>\n",
              "      <th>105624</th>\n",
              "      <td>3</td>\n",
              "      <td>29</td>\n",
              "      <td>0</td>\n",
              "      <td>2</td>\n",
              "      <td>2</td>\n",
              "    </tr>\n",
              "    <tr>\n",
              "      <th>55853</th>\n",
              "      <td>0</td>\n",
              "      <td>47</td>\n",
              "      <td>1</td>\n",
              "      <td>2</td>\n",
              "      <td>3</td>\n",
              "    </tr>\n",
              "    <tr>\n",
              "      <th>150261</th>\n",
              "      <td>3</td>\n",
              "      <td>34</td>\n",
              "      <td>0</td>\n",
              "      <td>1</td>\n",
              "      <td>3</td>\n",
              "    </tr>\n",
              "    <tr>\n",
              "      <th>226667</th>\n",
              "      <td>3</td>\n",
              "      <td>46</td>\n",
              "      <td>1</td>\n",
              "      <td>0</td>\n",
              "      <td>2</td>\n",
              "    </tr>\n",
              "    <tr>\n",
              "      <th>206696</th>\n",
              "      <td>3</td>\n",
              "      <td>48</td>\n",
              "      <td>1</td>\n",
              "      <td>2</td>\n",
              "      <td>2</td>\n",
              "    </tr>\n",
              "  </tbody>\n",
              "</table>\n",
              "</div>"
            ],
            "text/plain": [
              "        country  age  new_user  source  total_pages_visited\n",
              "105624        3   29         0       2                    2\n",
              "55853         0   47         1       2                    3\n",
              "150261        3   34         0       1                    3\n",
              "226667        3   46         1       0                    2\n",
              "206696        3   48         1       2                    2"
            ]
          },
          "metadata": {},
          "execution_count": 80
        }
      ]
    },
    {
      "cell_type": "code",
      "metadata": {
        "id": "TOX5r_mssOXt"
      },
      "source": [
        "#y, X = data.loc[:,'converted'].values, data.loc[:,['country','age',\t'new_user',\t'source','total_pages_visited']].values"
      ],
      "execution_count": null,
      "outputs": []
    },
    {
      "cell_type": "markdown",
      "metadata": {
        "id": "Myh7ize72RBb"
      },
      "source": [
        "standardize features"
      ]
    },
    {
      "cell_type": "code",
      "metadata": {
        "colab": {
          "base_uri": "https://localhost:8080/"
        },
        "id": "CeBbnenzxpCR",
        "outputId": "fa6c7033-0dda-4057-eb57-16f94d8ff616"
      },
      "source": [
        "from sklearn.preprocessing import StandardScaler\n",
        "\n",
        "# Fit the scaler on the training data\n",
        "scaler = StandardScaler()\n",
        "scaler.fit(X_train)"
      ],
      "execution_count": null,
      "outputs": [
        {
          "output_type": "execute_result",
          "data": {
            "text/plain": [
              "StandardScaler(copy=True, with_mean=True, with_std=True)"
            ]
          },
          "metadata": {},
          "execution_count": 72
        }
      ]
    },
    {
      "cell_type": "code",
      "metadata": {
        "colab": {
          "base_uri": "https://localhost:8080/"
        },
        "id": "aagH1Gg7tmpv",
        "outputId": "80380efa-454f-445f-cca0-5b044123e53b"
      },
      "source": [
        "model = XGBClassifier(subsample = 0.7, max_depth = 4)\n",
        "model.fit(X_train, y_train)\n",
        "print(model)"
      ],
      "execution_count": null,
      "outputs": [
        {
          "output_type": "stream",
          "name": "stdout",
          "text": [
            "XGBClassifier(base_score=0.5, booster='gbtree', colsample_bylevel=1,\n",
            "              colsample_bynode=1, colsample_bytree=1, gamma=0,\n",
            "              learning_rate=0.1, max_delta_step=0, max_depth=4,\n",
            "              min_child_weight=1, missing=None, n_estimators=100, n_jobs=1,\n",
            "              nthread=None, objective='binary:logistic', random_state=0,\n",
            "              reg_alpha=0, reg_lambda=1, scale_pos_weight=1, seed=None,\n",
            "              silent=None, subsample=0.7, verbosity=1)\n"
          ]
        }
      ]
    },
    {
      "cell_type": "code",
      "metadata": {
        "colab": {
          "base_uri": "https://localhost:8080/",
          "height": 204
        },
        "id": "eOh798DnyaZp",
        "outputId": "6f63bbab-be75-41e9-b758-2ee497970cd0"
      },
      "source": [
        "# Scale the training and test sets\n",
        "features = X_train.columns\n",
        "\n",
        "X_train[features] = scaler.transform(X_train[features])\n",
        "X_test[features] = scaler.transform(X_test[features])\n",
        "\n",
        "X_train.head()"
      ],
      "execution_count": null,
      "outputs": [
        {
          "output_type": "execute_result",
          "data": {
            "text/html": [
              "<div>\n",
              "<style scoped>\n",
              "    .dataframe tbody tr th:only-of-type {\n",
              "        vertical-align: middle;\n",
              "    }\n",
              "\n",
              "    .dataframe tbody tr th {\n",
              "        vertical-align: top;\n",
              "    }\n",
              "\n",
              "    .dataframe thead th {\n",
              "        text-align: right;\n",
              "    }\n",
              "</style>\n",
              "<table border=\"1\" class=\"dataframe\">\n",
              "  <thead>\n",
              "    <tr style=\"text-align: right;\">\n",
              "      <th></th>\n",
              "      <th>country</th>\n",
              "      <th>age</th>\n",
              "      <th>new_user</th>\n",
              "      <th>source</th>\n",
              "      <th>total_pages_visited</th>\n",
              "    </tr>\n",
              "  </thead>\n",
              "  <tbody>\n",
              "    <tr>\n",
              "      <th>105624</th>\n",
              "      <td>0.767805</td>\n",
              "      <td>-0.189226</td>\n",
              "      <td>-1.475205</td>\n",
              "      <td>0.927338</td>\n",
              "      <td>-0.858398</td>\n",
              "    </tr>\n",
              "    <tr>\n",
              "      <th>55853</th>\n",
              "      <td>-1.625315</td>\n",
              "      <td>1.988191</td>\n",
              "      <td>0.677872</td>\n",
              "      <td>0.927338</td>\n",
              "      <td>-0.559357</td>\n",
              "    </tr>\n",
              "    <tr>\n",
              "      <th>150261</th>\n",
              "      <td>0.767805</td>\n",
              "      <td>0.415612</td>\n",
              "      <td>-1.475205</td>\n",
              "      <td>-0.245374</td>\n",
              "      <td>-0.559357</td>\n",
              "    </tr>\n",
              "    <tr>\n",
              "      <th>226667</th>\n",
              "      <td>0.767805</td>\n",
              "      <td>1.867224</td>\n",
              "      <td>0.677872</td>\n",
              "      <td>-1.418086</td>\n",
              "      <td>-0.858398</td>\n",
              "    </tr>\n",
              "    <tr>\n",
              "      <th>206696</th>\n",
              "      <td>0.767805</td>\n",
              "      <td>2.109159</td>\n",
              "      <td>0.677872</td>\n",
              "      <td>0.927338</td>\n",
              "      <td>-0.858398</td>\n",
              "    </tr>\n",
              "  </tbody>\n",
              "</table>\n",
              "</div>"
            ],
            "text/plain": [
              "         country       age  new_user    source  total_pages_visited\n",
              "105624  0.767805 -0.189226 -1.475205  0.927338            -0.858398\n",
              "55853  -1.625315  1.988191  0.677872  0.927338            -0.559357\n",
              "150261  0.767805  0.415612 -1.475205 -0.245374            -0.559357\n",
              "226667  0.767805  1.867224  0.677872 -1.418086            -0.858398\n",
              "206696  0.767805  2.109159  0.677872  0.927338            -0.858398"
            ]
          },
          "metadata": {},
          "execution_count": 81
        }
      ]
    },
    {
      "cell_type": "code",
      "metadata": {
        "colab": {
          "base_uri": "https://localhost:8080/"
        },
        "id": "9Rr2YRTfvuCf",
        "outputId": "0126546f-349e-4b4a-a9cf-60b502aa76cb"
      },
      "source": [
        "from sklearn.model_selection import cross_val_score, KFold\n",
        "\n",
        "#After training the model, we'll check the model training score.\n",
        "scores = cross_val_score(model, X_train, y_train,cv=10)\n",
        "print(\"Mean cross-validation score: %.2f\" % scores.mean())"
      ],
      "execution_count": null,
      "outputs": [
        {
          "output_type": "stream",
          "name": "stdout",
          "text": [
            "Mean cross-validation score: 0.99\n"
          ]
        }
      ]
    },
    {
      "cell_type": "code",
      "metadata": {
        "colab": {
          "base_uri": "https://localhost:8080/"
        },
        "id": "vi0VM7fn_vUA",
        "outputId": "a6f18f00-8af3-41f5-e20b-c4288ff908cc"
      },
      "source": [
        "y_pred = model.predict(X_test)\n",
        "accuracy = accuracy_score(y_test, y_pred)\n",
        "print(\"Accuracy: %.2f%%\" % (accuracy * 100.0))"
      ],
      "execution_count": null,
      "outputs": [
        {
          "output_type": "stream",
          "name": "stdout",
          "text": [
            "Accuracy: 98.65%\n"
          ]
        }
      ]
    },
    {
      "cell_type": "code",
      "metadata": {
        "id": "W_D0LrnSANMx"
      },
      "source": [
        "# make predictions for test data\n",
        "y_pred = model.predict(X_test)\n",
        "predictions = [round(value) for value in y_pred]"
      ],
      "execution_count": null,
      "outputs": []
    },
    {
      "cell_type": "markdown",
      "metadata": {
        "id": "0C_5qbQjCaGY"
      },
      "source": [
        "feature importance"
      ]
    },
    {
      "cell_type": "code",
      "metadata": {
        "colab": {
          "base_uri": "https://localhost:8080/"
        },
        "id": "vz3aLSK7AtC4",
        "outputId": "2f2cd04f-e701-4755-bd22-5aa10ebe10fc"
      },
      "source": [
        "print(model.feature_importances_)"
      ],
      "execution_count": null,
      "outputs": [
        {
          "output_type": "stream",
          "name": "stdout",
          "text": [
            "[0.09830225 0.04443675 0.11410331 0.00893769 0.73422   ]\n"
          ]
        }
      ]
    },
    {
      "cell_type": "code",
      "metadata": {
        "colab": {
          "base_uri": "https://localhost:8080/",
          "height": 282
        },
        "id": "GIPsMz-UBi-E",
        "outputId": "74485384-28ed-41d9-e54e-59a91da3d454"
      },
      "source": [
        "import matplotlib.pyplot as plt\n",
        "plt.barh(X_train.columns, model.feature_importances_)"
      ],
      "execution_count": null,
      "outputs": [
        {
          "output_type": "execute_result",
          "data": {
            "text/plain": [
              "<BarContainer object of 5 artists>"
            ]
          },
          "metadata": {},
          "execution_count": 93
        },
        {
          "output_type": "display_data",
          "data": {
            "image/png": "[encoded data removed]",
            "text/plain": [
              "<Figure size 432x288 with 1 Axes>"
            ]
          },
          "metadata": {
            "needs_background": "light"
          }
        }
      ]
    },
    {
      "cell_type": "markdown",
      "metadata": {
        "id": "9kNYOy7WC3cr"
      },
      "source": [
        "ROC Curve"
      ]
    },
    {
      "cell_type": "code",
      "metadata": {
        "id": "E9eWZG95C68G"
      },
      "source": [
        "#Define a python function to plot the ROC curves\n",
        "def plot_roc_curve(fpr, tpr):\n",
        "    plt.plot(fpr, tpr, color='orange', label='ROC')\n",
        "    plt.plot([0, 1], [0, 1], color='darkblue', linestyle='--')\n",
        "    plt.xlabel('False Positive Rate')\n",
        "    plt.ylabel('True Positive Rate')\n",
        "    plt.title('Receiver Operating Characteristic (ROC) Curve')\n",
        "    plt.legend()\n",
        "    plt.show()"
      ],
      "execution_count": null,
      "outputs": []
    },
    {
      "cell_type": "code",
      "metadata": {
        "colab": {
          "base_uri": "https://localhost:8080/",
          "height": 312
        },
        "id": "XkA1wILmC8UQ",
        "outputId": "b7c72e9b-4c2c-4dd1-ee55-9759535e9a90"
      },
      "source": [
        "#predict probabilites for the test data\n",
        "from sklearn.metrics import roc_curve\n",
        "from sklearn.metrics import roc_auc_score\n",
        "probs= model.predict_proba(X_test)\n",
        "probs\n",
        "#keep probabilities of the positive class only\n",
        "probs = probs[:, 1]\n",
        "#compute the AUC score\n",
        "auc = roc_auc_score(y_test, probs)\n",
        "print('AUC: %.2f' % auc)\n",
        "\n",
        "#get the ROC Curve\n",
        "fpr, tpr, thresholds = roc_curve(y_test, probs)\n",
        "\n",
        "#Plot ROC Curve using our defined function\n",
        "import matplotlib.pyplot as plt\n",
        "plot_roc_curve(fpr, tpr)"
      ],
      "execution_count": null,
      "outputs": [
        {
          "output_type": "stream",
          "name": "stdout",
          "text": [
            "AUC: 0.99\n"
          ]
        },
        {
          "output_type": "display_data",
          "data": {
            "image/png": "[encoded data removed]",
            "text/plain": [
              "<Figure size 432x288 with 1 Axes>"
            ]
          },
          "metadata": {
            "needs_background": "light"
          }
        }
      ]
    },
    {
      "cell_type": "code",
      "metadata": {
        "colab": {
          "base_uri": "https://localhost:8080/"
        },
        "id": "GqM8srcCDViO",
        "outputId": "765f10a8-7d2a-4566-9151-da5378550736"
      },
      "source": [
        "probs"
      ],
      "execution_count": null,
      "outputs": [
        {
          "output_type": "execute_result",
          "data": {
            "text/plain": [
              "array([0.0001922 , 0.00015622, 0.00125012, ..., 0.00631039, 0.00033086,\n",
              "       0.00021955], dtype=float32)"
            ]
          },
          "metadata": {},
          "execution_count": 96
        }
      ]
    },
    {
      "cell_type": "markdown",
      "metadata": {
        "id": "tT4BICsXFXsY"
      },
      "source": [
        "Confusion matrix (cut off is p = 0.05)\n",
        "\n",
        "\n"
      ]
    },
    {
      "cell_type": "code",
      "metadata": {
        "colab": {
          "base_uri": "https://localhost:8080/"
        },
        "id": "jGob6np1FXaO",
        "outputId": "faa9420a-e810-41d3-9449-cb94e2558f11"
      },
      "source": [
        "print(classification_report(y_test, y_pred))"
      ],
      "execution_count": null,
      "outputs": [
        {
          "output_type": "stream",
          "name": "stdout",
          "text": [
            "              precision    recall  f1-score   support\n",
            "\n",
            "           0       0.99      1.00      0.99     61205\n",
            "           1       0.86      0.70      0.77      2035\n",
            "\n",
            "    accuracy                           0.99     63240\n",
            "   macro avg       0.92      0.85      0.88     63240\n",
            "weighted avg       0.99      0.99      0.99     63240\n",
            "\n"
          ]
        }
      ]
    },
    {
      "cell_type": "code",
      "metadata": {
        "colab": {
          "base_uri": "https://localhost:8080/"
        },
        "id": "dJq1qLVbGagC",
        "outputId": "3c435bcb-531f-4c66-e58f-96653c38c77b"
      },
      "source": [
        "y_train.head()"
      ],
      "execution_count": null,
      "outputs": [
        {
          "output_type": "execute_result",
          "data": {
            "text/plain": [
              "105624    0\n",
              "55853     0\n",
              "150261    0\n",
              "226667    0\n",
              "206696    0\n",
              "Name: converted, dtype: int64"
            ]
          },
          "metadata": {},
          "execution_count": 106
        }
      ]
    },
    {
      "cell_type": "markdown",
      "metadata": {
        "id": "G_f_ISHVKojX"
      },
      "source": [
        "Probability cutoff"
      ]
    },
    {
      "cell_type": "markdown",
      "metadata": {
        "id": "yDYni228LA-H"
      },
      "source": [
        "If we cared about the very best possible accuracy or specifically minimizing false positive/false negative, we would also use ROCR and find the best cut-off point. Since in this case that doesn’t appear to be particularly relevant, we are fine with the default 0.5 cutoff value used internally by the random forest to make the prediction. Again, if ROC and cut-off analysis is something you know very well, you should do it no matter what."
      ]
    },
    {
      "cell_type": "code",
      "metadata": {
        "id": "S4CEj_3qF68Z"
      },
      "source": [
        "# Make predictions\n",
        "train_true = y_train.values\n",
        "test_true = y_test.values\n",
        "train_pred = model.predict_proba(X_train)\n",
        "test_pred = model.predict_proba(X_test)"
      ],
      "execution_count": null,
      "outputs": []
    },
    {
      "cell_type": "code",
      "metadata": {
        "colab": {
          "base_uri": "https://localhost:8080/"
        },
        "id": "34WEK03aIGe3",
        "outputId": "4085cc5a-7f19-4183-8aee-f4dfc664307f"
      },
      "source": [
        "y_pred=(test_pred[:,1] > 0.2).astype(int)\n",
        "#y_pred.shape\n",
        "\n",
        "test_true.shape\n",
        "\n",
        "print(classification_report(y_true=test_true, y_pred=y_pred))"
      ],
      "execution_count": null,
      "outputs": [
        {
          "output_type": "stream",
          "name": "stdout",
          "text": [
            "              precision    recall  f1-score   support\n",
            "\n",
            "           0       0.99      0.99      0.99     61205\n",
            "           1       0.67      0.82      0.74      2035\n",
            "\n",
            "    accuracy                           0.98     63240\n",
            "   macro avg       0.83      0.90      0.86     63240\n",
            "weighted avg       0.98      0.98      0.98     63240\n",
            "\n"
          ]
        }
      ]
    },
    {
      "cell_type": "markdown",
      "metadata": {
        "id": "BGFnV04DEYMV"
      },
      "source": [
        "Convert the standard scalar back"
      ]
    },
    {
      "cell_type": "code",
      "metadata": {
        "id": "kn75rDqeEev3"
      },
      "source": [
        "x = scaler.inverse_transform(X_test)"
      ],
      "execution_count": null,
      "outputs": []
    },
    {
      "cell_type": "code",
      "metadata": {
        "colab": {
          "base_uri": "https://localhost:8080/"
        },
        "id": "JFXq9D26EfaF",
        "outputId": "91d7b7a8-3b14-438f-92b6-014c5c1ac0bc"
      },
      "source": [
        "print(x)"
      ],
      "execution_count": null,
      "outputs": [
        {
          "output_type": "stream",
          "name": "stdout",
          "text": [
            "[[ 3. 24.  0.  2.  1.]\n",
            " [ 2. 40.  1.  2.  2.]\n",
            " [ 0. 22.  0.  0.  6.]\n",
            " ...\n",
            " [ 3. 19.  1.  2.  7.]\n",
            " [ 0. 35.  1.  2.  7.]\n",
            " [ 3. 34.  1.  0.  3.]]\n"
          ]
        }
      ]
    }
  ]
}