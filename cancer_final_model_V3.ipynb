{
  "nbformat": 4,
  "nbformat_minor": 0,
  "metadata": {
    "colab": {
      "name": "cancer_final model V3.ipynb",
      "provenance": [],
      "collapsed_sections": [],
      "toc_visible": true,
      "authorship_tag": "ABX9TyPlPueBCLzqc4KUlAykB0j7",
      "include_colab_link": true
    },
    "kernelspec": {
      "name": "python3",
      "display_name": "Python 3"
    },
    "language_info": {
      "name": "python"
    }
  },
  "cells": [
    {
      "cell_type": "markdown",
      "metadata": {
        "id": "view-in-github",
        "colab_type": "text"
      },
      "source": [
        "<a href=\"https://colab.research.google.com/github/TracyWang0110/Machine-learning-projects/blob/main/cancer_final_model_V3.ipynb\" target=\"_parent\"><img src=\"https://colab.research.google.com/assets/colab-badge.svg\" alt=\"Open In Colab\"/></a>"
      ]
    },
    {
      "cell_type": "code",
      "metadata": {
        "id": "zA-EvbuLBEcS",
        "colab": {
          "base_uri": "https://localhost:8080/"
        },
        "outputId": "0bba2eee-6834-4519-cd33-ee50e42dc54f"
      },
      "source": [
        "pip install h2o"
      ],
      "execution_count": null,
      "outputs": [
        {
          "output_type": "stream",
          "text": [
            "Collecting h2o\n",
            "\u001b[?25l  Downloading https://files.pythonhosted.org/packages/23/c9/f24bbb8e7a57097f12c7bef3d277641eddf5160688e442d0eb1b41bf6a67/h2o-3.32.1.3.tar.gz (164.8MB)\n",
            "\u001b[K     |████████████████████████████████| 164.8MB 82kB/s \n",
            "\u001b[?25hRequirement already satisfied: requests in /usr/local/lib/python3.7/dist-packages (from h2o) (2.23.0)\n",
            "Requirement already satisfied: tabulate in /usr/local/lib/python3.7/dist-packages (from h2o) (0.8.9)\n",
            "Requirement already satisfied: future in /usr/local/lib/python3.7/dist-packages (from h2o) (0.16.0)\n",
            "Collecting colorama>=0.3.8\n",
            "  Downloading https://files.pythonhosted.org/packages/44/98/5b86278fbbf250d239ae0ecb724f8572af1c91f4a11edf4d36a206189440/colorama-0.4.4-py2.py3-none-any.whl\n",
            "Requirement already satisfied: urllib3!=1.25.0,!=1.25.1,<1.26,>=1.21.1 in /usr/local/lib/python3.7/dist-packages (from requests->h2o) (1.24.3)\n",
            "Requirement already satisfied: chardet<4,>=3.0.2 in /usr/local/lib/python3.7/dist-packages (from requests->h2o) (3.0.4)\n",
            "Requirement already satisfied: idna<3,>=2.5 in /usr/local/lib/python3.7/dist-packages (from requests->h2o) (2.10)\n",
            "Requirement already satisfied: certifi>=2017.4.17 in /usr/local/lib/python3.7/dist-packages (from requests->h2o) (2020.12.5)\n",
            "Building wheels for collected packages: h2o\n",
            "  Building wheel for h2o (setup.py) ... \u001b[?25l\u001b[?25hdone\n",
            "  Created wheel for h2o: filename=h2o-3.32.1.3-py2.py3-none-any.whl size=164854343 sha256=c937e4838942ae7cb90664e48065f67890769d2e3764be943e5b527389b91f14\n",
            "  Stored in directory: /root/.cache/pip/wheels/4f/bb/82/0988682f9abd0b5e95109a4aae6793dd427173b6dc671d9252\n",
            "Successfully built h2o\n",
            "Installing collected packages: colorama, h2o\n",
            "Successfully installed colorama-0.4.4 h2o-3.32.1.3\n"
          ],
          "name": "stdout"
        }
      ]
    },
    {
      "cell_type": "code",
      "metadata": {
        "id": "nU3iXNtLAx7h"
      },
      "source": [
        "import numpy as np\n",
        "from keras.models import Sequential \n",
        "import sys\n",
        "import pandas as pd\n",
        "import numpy as np\n",
        "import scipy as sp\n",
        "from scipy import stats\n",
        "import sklearn \n",
        "import warnings\n",
        "warnings.filterwarnings('ignore')\n",
        "from sklearn import metrics \n",
        "import seaborn as sns \n",
        "import matplotlib.pyplot as plt\n",
        "\n",
        "from sklearn.ensemble import RandomForestRegressor\n",
        "from sklearn.inspection import permutation_importance\n",
        "from sklearn.metrics import auc, roc_curve, classification_report\n",
        "from h2o.grid import H2OGridSearch\n"
      ],
      "execution_count": null,
      "outputs": []
    },
    {
      "cell_type": "code",
      "metadata": {
        "id": "OYAChxFXBhJ0"
      },
      "source": [
        "import h2o\n",
        "from h2o.frame import H2OFrame\n",
        "from h2o.estimators.random_forest import H2ORandomForestEstimator\n",
        "from h2o.grid.grid_search import H2OGridSearch"
      ],
      "execution_count": null,
      "outputs": []
    },
    {
      "cell_type": "code",
      "metadata": {
        "id": "YpvMQY7y_Dpf"
      },
      "source": [
        "#not limit the display row\n",
        "pd.set_option('display.max_rows', None)\n",
        "pd.set_option('display.max_columns', None)"
      ],
      "execution_count": null,
      "outputs": []
    },
    {
      "cell_type": "code",
      "metadata": {
        "id": "SHJz5DQPBJPC"
      },
      "source": [
        "train_data = pd.read_csv('train_data.csv')\n",
        "test_data = pd.read_csv('test_data.csv')"
      ],
      "execution_count": null,
      "outputs": []
    },
    {
      "cell_type": "code",
      "metadata": {
        "id": "40n-0wUJBL8p"
      },
      "source": [
        "test_data['cancer_type'] =  np.nan\n",
        "train_data['label'] = 'train'\n",
        "test_data['label'] ='test'"
      ],
      "execution_count": null,
      "outputs": []
    },
    {
      "cell_type": "code",
      "metadata": {
        "colab": {
          "base_uri": "https://localhost:8080/"
        },
        "id": "6lSGnv0JBZZs",
        "outputId": "0912437e-2322-439b-ffab-2f6581c9fce5"
      },
      "source": [
        "df_pre = pd.concat([train_data.assign(ind=\"train\"), test_data.assign(ind=\"test\")],ignore_index=True)\n",
        "df_pre.info()"
      ],
      "execution_count": null,
      "outputs": [
        {
          "output_type": "stream",
          "text": [
            "<class 'pandas.core.frame.DataFrame'>\n",
            "RangeIndex: 569 entries, 0 to 568\n",
            "Data columns (total 15 columns):\n",
            " #   Column          Non-Null Count  Dtype  \n",
            "---  ------          --------------  -----  \n",
            " 0   radius_0        569 non-null    float64\n",
            " 1   texture_0       569 non-null    float64\n",
            " 2   perimeter_0     569 non-null    float64\n",
            " 3   radius_1        489 non-null    float64\n",
            " 4   texture_1       569 non-null    float64\n",
            " 5   perimeter_1     369 non-null    float64\n",
            " 6   radius_2        569 non-null    float64\n",
            " 7   texture_2       569 non-null    object \n",
            " 8   perimeter_2     569 non-null    float64\n",
            " 9   age             569 non-null    int64  \n",
            " 10  treatment_date  569 non-null    object \n",
            " 11  diagnose_date   569 non-null    object \n",
            " 12  cancer_type     398 non-null    float64\n",
            " 13  label           569 non-null    object \n",
            " 14  ind             569 non-null    object \n",
            "dtypes: float64(9), int64(1), object(5)\n",
            "memory usage: 66.8+ KB\n"
          ],
          "name": "stdout"
        }
      ]
    },
    {
      "cell_type": "code",
      "metadata": {
        "colab": {
          "base_uri": "https://localhost:8080/"
        },
        "id": "moE8GP_AEB9I",
        "outputId": "a1241faf-0ea3-45d2-88b4-90809945fac4"
      },
      "source": [
        "df_pre.groupby('ind').size()"
      ],
      "execution_count": null,
      "outputs": [
        {
          "output_type": "execute_result",
          "data": {
            "text/plain": [
              "ind\n",
              "test     171\n",
              "train    398\n",
              "dtype: int64"
            ]
          },
          "metadata": {
            "tags": []
          },
          "execution_count": 8
        }
      ]
    },
    {
      "cell_type": "code",
      "metadata": {
        "colab": {
          "base_uri": "https://localhost:8080/"
        },
        "id": "3AV_YblavegG",
        "outputId": "271bdf53-5e44-456b-b497-ed94a6927fc2"
      },
      "source": [
        "train_data.groupby('cancer_type').size()"
      ],
      "execution_count": null,
      "outputs": [
        {
          "output_type": "execute_result",
          "data": {
            "text/plain": [
              "cancer_type\n",
              "0    148\n",
              "1    250\n",
              "dtype: int64"
            ]
          },
          "metadata": {
            "tags": []
          },
          "execution_count": 9
        }
      ]
    },
    {
      "cell_type": "code",
      "metadata": {
        "id": "tvV_H60tBdcR"
      },
      "source": [
        "#check the data type\n",
        "#change the texture_2 from object to float\n",
        "#in texture_2, there are some missing values filled with 'xx'\n",
        "df_pre = df_pre.replace('xx', np.nan)\n",
        "df_pre['texture_2'] = df_pre['texture_2'].astype(float)\n",
        "df_pre['treatment_date'] = pd.to_datetime(df_pre['treatment_date'],format = '%Y-%m-%d')\n",
        "df_pre['diagnose_date'] = pd.to_datetime(df_pre['diagnose_date'], format = '%Y-%m-%d')"
      ],
      "execution_count": null,
      "outputs": []
    },
    {
      "cell_type": "code",
      "metadata": {
        "colab": {
          "base_uri": "https://localhost:8080/"
        },
        "id": "xQQdo39kMDP1",
        "outputId": "cfc2de2f-6208-4293-c348-903d820f7ae8"
      },
      "source": [
        "df_pre.info()"
      ],
      "execution_count": null,
      "outputs": [
        {
          "output_type": "stream",
          "text": [
            "<class 'pandas.core.frame.DataFrame'>\n",
            "RangeIndex: 569 entries, 0 to 568\n",
            "Data columns (total 15 columns):\n",
            " #   Column          Non-Null Count  Dtype         \n",
            "---  ------          --------------  -----         \n",
            " 0   radius_0        569 non-null    float64       \n",
            " 1   texture_0       569 non-null    float64       \n",
            " 2   perimeter_0     569 non-null    float64       \n",
            " 3   radius_1        489 non-null    float64       \n",
            " 4   texture_1       569 non-null    float64       \n",
            " 5   perimeter_1     369 non-null    float64       \n",
            " 6   radius_2        569 non-null    float64       \n",
            " 7   texture_2       541 non-null    float64       \n",
            " 8   perimeter_2     569 non-null    float64       \n",
            " 9   age             569 non-null    int64         \n",
            " 10  treatment_date  569 non-null    datetime64[ns]\n",
            " 11  diagnose_date   569 non-null    datetime64[ns]\n",
            " 12  cancer_type     398 non-null    float64       \n",
            " 13  label           569 non-null    object        \n",
            " 14  ind             569 non-null    object        \n",
            "dtypes: datetime64[ns](2), float64(10), int64(1), object(2)\n",
            "memory usage: 66.8+ KB\n"
          ],
          "name": "stdout"
        }
      ]
    },
    {
      "cell_type": "code",
      "metadata": {
        "id": "J4HhId_kBgIm"
      },
      "source": [
        "#extract time interval information \n",
        "df_pre['interval'] = (df_pre['treatment_date'] - df_pre['diagnose_date']).apply(lambda x:x.days)\n",
        "#extract year information\n",
        "\n",
        "df_pre['diagnose_year'] = pd.DatetimeIndex(df_pre['diagnose_date']).year\n",
        "df_pre['diagnose_month'] = pd.DatetimeIndex(df_pre['diagnose_date']).month\n",
        "df_pre['diagnose_day'] = pd.DatetimeIndex(df_pre['diagnose_date']).day\n",
        "\n",
        "df_pre['treatment_year'] = pd.DatetimeIndex(df_pre['treatment_date']).year\n",
        "df_pre['treatment_month'] = pd.DatetimeIndex(df_pre['treatment_date']).month\n",
        "df_pre['treatment_day'] = pd.DatetimeIndex(df_pre['treatment_date']).day"
      ],
      "execution_count": null,
      "outputs": []
    },
    {
      "cell_type": "code",
      "metadata": {
        "colab": {
          "base_uri": "https://localhost:8080/",
          "height": 224
        },
        "id": "HeJZ2OayBnzq",
        "outputId": "259d8447-2283-46f0-f4cf-90ad0d3912e4"
      },
      "source": [
        "df_keep = df_pre\n",
        "#drop colums\n",
        "# I am not going to use those 2 variables\n",
        "cols_drop=['texture_1','perimeter_2']\n",
        "left_cols =list(set(df_pre.columns) - set(cols_drop))\n",
        "df_c = df_pre.loc[:, df_pre.columns.isin(left_cols)]\n",
        "df_c.head()\n"
      ],
      "execution_count": null,
      "outputs": [
        {
          "output_type": "execute_result",
          "data": {
            "text/html": [
              "<div>\n",
              "<style scoped>\n",
              "    .dataframe tbody tr th:only-of-type {\n",
              "        vertical-align: middle;\n",
              "    }\n",
              "\n",
              "    .dataframe tbody tr th {\n",
              "        vertical-align: top;\n",
              "    }\n",
              "\n",
              "    .dataframe thead th {\n",
              "        text-align: right;\n",
              "    }\n",
              "</style>\n",
              "<table border=\"1\" class=\"dataframe\">\n",
              "  <thead>\n",
              "    <tr style=\"text-align: right;\">\n",
              "      <th></th>\n",
              "      <th>radius_0</th>\n",
              "      <th>texture_0</th>\n",
              "      <th>perimeter_0</th>\n",
              "      <th>radius_1</th>\n",
              "      <th>perimeter_1</th>\n",
              "      <th>radius_2</th>\n",
              "      <th>texture_2</th>\n",
              "      <th>age</th>\n",
              "      <th>treatment_date</th>\n",
              "      <th>diagnose_date</th>\n",
              "      <th>cancer_type</th>\n",
              "      <th>label</th>\n",
              "      <th>ind</th>\n",
              "      <th>interval</th>\n",
              "      <th>diagnose_year</th>\n",
              "      <th>diagnose_month</th>\n",
              "      <th>diagnose_day</th>\n",
              "      <th>treatment_year</th>\n",
              "      <th>treatment_month</th>\n",
              "      <th>treatment_day</th>\n",
              "    </tr>\n",
              "  </thead>\n",
              "  <tbody>\n",
              "    <tr>\n",
              "      <th>0</th>\n",
              "      <td>19.858394</td>\n",
              "      <td>27.204437</td>\n",
              "      <td>136.324256</td>\n",
              "      <td>22.683290</td>\n",
              "      <td>119.523841</td>\n",
              "      <td>21.477052</td>\n",
              "      <td>27.307087</td>\n",
              "      <td>44</td>\n",
              "      <td>2006-06-03</td>\n",
              "      <td>2005-10-23</td>\n",
              "      <td>0.0</td>\n",
              "      <td>train</td>\n",
              "      <td>train</td>\n",
              "      <td>223</td>\n",
              "      <td>2005</td>\n",
              "      <td>10</td>\n",
              "      <td>23</td>\n",
              "      <td>2006</td>\n",
              "      <td>6</td>\n",
              "      <td>3</td>\n",
              "    </tr>\n",
              "    <tr>\n",
              "      <th>1</th>\n",
              "      <td>14.182069</td>\n",
              "      <td>15.754730</td>\n",
              "      <td>80.916983</td>\n",
              "      <td>14.043753</td>\n",
              "      <td>94.911073</td>\n",
              "      <td>15.012329</td>\n",
              "      <td>17.855131</td>\n",
              "      <td>59</td>\n",
              "      <td>2004-02-22</td>\n",
              "      <td>2007-08-20</td>\n",
              "      <td>1.0</td>\n",
              "      <td>train</td>\n",
              "      <td>train</td>\n",
              "      <td>-1275</td>\n",
              "      <td>2007</td>\n",
              "      <td>8</td>\n",
              "      <td>20</td>\n",
              "      <td>2004</td>\n",
              "      <td>2</td>\n",
              "      <td>22</td>\n",
              "    </tr>\n",
              "    <tr>\n",
              "      <th>2</th>\n",
              "      <td>25.380268</td>\n",
              "      <td>21.291553</td>\n",
              "      <td>152.281062</td>\n",
              "      <td>23.852166</td>\n",
              "      <td>NaN</td>\n",
              "      <td>28.563252</td>\n",
              "      <td>21.097153</td>\n",
              "      <td>37</td>\n",
              "      <td>2006-01-06</td>\n",
              "      <td>2004-08-07</td>\n",
              "      <td>0.0</td>\n",
              "      <td>train</td>\n",
              "      <td>train</td>\n",
              "      <td>517</td>\n",
              "      <td>2004</td>\n",
              "      <td>8</td>\n",
              "      <td>7</td>\n",
              "      <td>2006</td>\n",
              "      <td>1</td>\n",
              "      <td>6</td>\n",
              "    </tr>\n",
              "    <tr>\n",
              "      <th>3</th>\n",
              "      <td>11.835961</td>\n",
              "      <td>17.820702</td>\n",
              "      <td>72.178523</td>\n",
              "      <td>11.260258</td>\n",
              "      <td>NaN</td>\n",
              "      <td>12.082749</td>\n",
              "      <td>16.499237</td>\n",
              "      <td>51</td>\n",
              "      <td>2003-04-14</td>\n",
              "      <td>2005-06-16</td>\n",
              "      <td>1.0</td>\n",
              "      <td>train</td>\n",
              "      <td>train</td>\n",
              "      <td>-794</td>\n",
              "      <td>2005</td>\n",
              "      <td>6</td>\n",
              "      <td>16</td>\n",
              "      <td>2003</td>\n",
              "      <td>4</td>\n",
              "      <td>14</td>\n",
              "    </tr>\n",
              "    <tr>\n",
              "      <th>4</th>\n",
              "      <td>14.875600</td>\n",
              "      <td>17.534187</td>\n",
              "      <td>98.545830</td>\n",
              "      <td>14.380683</td>\n",
              "      <td>89.712492</td>\n",
              "      <td>12.930685</td>\n",
              "      <td>19.856687</td>\n",
              "      <td>21</td>\n",
              "      <td>2004-06-21</td>\n",
              "      <td>2002-11-27</td>\n",
              "      <td>1.0</td>\n",
              "      <td>train</td>\n",
              "      <td>train</td>\n",
              "      <td>572</td>\n",
              "      <td>2002</td>\n",
              "      <td>11</td>\n",
              "      <td>27</td>\n",
              "      <td>2004</td>\n",
              "      <td>6</td>\n",
              "      <td>21</td>\n",
              "    </tr>\n",
              "  </tbody>\n",
              "</table>\n",
              "</div>"
            ],
            "text/plain": [
              "    radius_0  texture_0  perimeter_0   radius_1  perimeter_1   radius_2  \\\n",
              "0  19.858394  27.204437   136.324256  22.683290   119.523841  21.477052   \n",
              "1  14.182069  15.754730    80.916983  14.043753    94.911073  15.012329   \n",
              "2  25.380268  21.291553   152.281062  23.852166          NaN  28.563252   \n",
              "3  11.835961  17.820702    72.178523  11.260258          NaN  12.082749   \n",
              "4  14.875600  17.534187    98.545830  14.380683    89.712492  12.930685   \n",
              "\n",
              "   texture_2  age treatment_date diagnose_date  cancer_type  label    ind  \\\n",
              "0  27.307087   44     2006-06-03    2005-10-23          0.0  train  train   \n",
              "1  17.855131   59     2004-02-22    2007-08-20          1.0  train  train   \n",
              "2  21.097153   37     2006-01-06    2004-08-07          0.0  train  train   \n",
              "3  16.499237   51     2003-04-14    2005-06-16          1.0  train  train   \n",
              "4  19.856687   21     2004-06-21    2002-11-27          1.0  train  train   \n",
              "\n",
              "   interval  diagnose_year  diagnose_month  diagnose_day  treatment_year  \\\n",
              "0       223           2005              10            23            2006   \n",
              "1     -1275           2007               8            20            2004   \n",
              "2       517           2004               8             7            2006   \n",
              "3      -794           2005               6            16            2003   \n",
              "4       572           2002              11            27            2004   \n",
              "\n",
              "   treatment_month  treatment_day  \n",
              "0                6              3  \n",
              "1                2             22  \n",
              "2                1              6  \n",
              "3                4             14  \n",
              "4                6             21  "
            ]
          },
          "metadata": {
            "tags": []
          },
          "execution_count": 13
        }
      ]
    },
    {
      "cell_type": "code",
      "metadata": {
        "colab": {
          "base_uri": "https://localhost:8080/"
        },
        "id": "xXOFLYMWER5j",
        "outputId": "3d7517d9-b424-4db9-ed5f-fce713f8f45c"
      },
      "source": [
        "df_c.groupby('ind').size()"
      ],
      "execution_count": null,
      "outputs": [
        {
          "output_type": "execute_result",
          "data": {
            "text/plain": [
              "ind\n",
              "test     171\n",
              "train    398\n",
              "dtype: int64"
            ]
          },
          "metadata": {
            "tags": []
          },
          "execution_count": 14
        }
      ]
    },
    {
      "cell_type": "code",
      "metadata": {
        "colab": {
          "base_uri": "https://localhost:8080/"
        },
        "id": "Syw-qdhcCOkj",
        "outputId": "aaf8edff-ca8d-455d-e48a-fe3e64f4f200"
      },
      "source": [
        "df_c.info()"
      ],
      "execution_count": null,
      "outputs": [
        {
          "output_type": "stream",
          "text": [
            "<class 'pandas.core.frame.DataFrame'>\n",
            "RangeIndex: 569 entries, 0 to 568\n",
            "Data columns (total 20 columns):\n",
            " #   Column           Non-Null Count  Dtype         \n",
            "---  ------           --------------  -----         \n",
            " 0   radius_0         569 non-null    float64       \n",
            " 1   texture_0        569 non-null    float64       \n",
            " 2   perimeter_0      569 non-null    float64       \n",
            " 3   radius_1         489 non-null    float64       \n",
            " 4   perimeter_1      369 non-null    float64       \n",
            " 5   radius_2         569 non-null    float64       \n",
            " 6   texture_2        541 non-null    float64       \n",
            " 7   age              569 non-null    int64         \n",
            " 8   treatment_date   569 non-null    datetime64[ns]\n",
            " 9   diagnose_date    569 non-null    datetime64[ns]\n",
            " 10  cancer_type      398 non-null    float64       \n",
            " 11  label            569 non-null    object        \n",
            " 12  ind              569 non-null    object        \n",
            " 13  interval         569 non-null    int64         \n",
            " 14  diagnose_year    569 non-null    int64         \n",
            " 15  diagnose_month   569 non-null    int64         \n",
            " 16  diagnose_day     569 non-null    int64         \n",
            " 17  treatment_year   569 non-null    int64         \n",
            " 18  treatment_month  569 non-null    int64         \n",
            " 19  treatment_day    569 non-null    int64         \n",
            "dtypes: datetime64[ns](2), float64(8), int64(8), object(2)\n",
            "memory usage: 89.0+ KB\n"
          ],
          "name": "stdout"
        }
      ]
    },
    {
      "cell_type": "code",
      "metadata": {
        "colab": {
          "base_uri": "https://localhost:8080/",
          "height": 1000
        },
        "id": "_fBezPFJB0t9",
        "outputId": "f43ed887-25d1-4de6-8a63-f465371ba3d5"
      },
      "source": [
        "train_data.hist(bins = 30, figsize = (20,20), color = 'r')"
      ],
      "execution_count": null,
      "outputs": [
        {
          "output_type": "execute_result",
          "data": {
            "text/plain": [
              "array([[<matplotlib.axes._subplots.AxesSubplot object at 0x7f15abd14c50>,\n",
              "        <matplotlib.axes._subplots.AxesSubplot object at 0x7f15abcf5250>,\n",
              "        <matplotlib.axes._subplots.AxesSubplot object at 0x7f15abcb08d0>],\n",
              "       [<matplotlib.axes._subplots.AxesSubplot object at 0x7f15abc65ed0>,\n",
              "        <matplotlib.axes._subplots.AxesSubplot object at 0x7f15abc27590>,\n",
              "        <matplotlib.axes._subplots.AxesSubplot object at 0x7f15abbdcc10>],\n",
              "       [<matplotlib.axes._subplots.AxesSubplot object at 0x7f15abb9f350>,\n",
              "        <matplotlib.axes._subplots.AxesSubplot object at 0x7f15abb52910>,\n",
              "        <matplotlib.axes._subplots.AxesSubplot object at 0x7f15abb52950>],\n",
              "       [<matplotlib.axes._subplots.AxesSubplot object at 0x7f15abb18110>,\n",
              "        <matplotlib.axes._subplots.AxesSubplot object at 0x7f15abb01d10>,\n",
              "        <matplotlib.axes._subplots.AxesSubplot object at 0x7f15abac33d0>]],\n",
              "      dtype=object)"
            ]
          },
          "metadata": {
            "tags": []
          },
          "execution_count": 16
        },
        {
          "output_type": "display_data",
          "data": {
            "image/png": "[encoded data removed]",
            "text/plain": [
              "<Figure size 1440x1440 with 12 Axes>"
            ]
          },
          "metadata": {
            "tags": [],
            "needs_background": "light"
          }
        }
      ]
    },
    {
      "cell_type": "code",
      "metadata": {
        "colab": {
          "base_uri": "https://localhost:8080/",
          "height": 1000
        },
        "id": "nZoW2i7GJzLP",
        "outputId": "025d9e74-ce70-4699-b6aa-d53004e1febb"
      },
      "source": [
        "test_data.hist(bins = 30, figsize = (20,20), color = 'r')"
      ],
      "execution_count": null,
      "outputs": [
        {
          "output_type": "execute_result",
          "data": {
            "text/plain": [
              "array([[<matplotlib.axes._subplots.AxesSubplot object at 0x7f15ab0306d0>,\n",
              "        <matplotlib.axes._subplots.AxesSubplot object at 0x7f15ab03a950>,\n",
              "        <matplotlib.axes._subplots.AxesSubplot object at 0x7f15ab000a50>],\n",
              "       [<matplotlib.axes._subplots.AxesSubplot object at 0x7f15aafa0cd0>,\n",
              "        <matplotlib.axes._subplots.AxesSubplot object at 0x7f15aaf641d0>,\n",
              "        <matplotlib.axes._subplots.AxesSubplot object at 0x7f15aaf19750>],\n",
              "       [<matplotlib.axes._subplots.AxesSubplot object at 0x7f15aaecdd50>,\n",
              "        <matplotlib.axes._subplots.AxesSubplot object at 0x7f15aae8e250>,\n",
              "        <matplotlib.axes._subplots.AxesSubplot object at 0x7f15aae8e290>],\n",
              "       [<matplotlib.axes._subplots.AxesSubplot object at 0x7f15aae45910>,\n",
              "        <matplotlib.axes._subplots.AxesSubplot object at 0x7f15aae3c350>,\n",
              "        <matplotlib.axes._subplots.AxesSubplot object at 0x7f15aadf08d0>]],\n",
              "      dtype=object)"
            ]
          },
          "metadata": {
            "tags": []
          },
          "execution_count": 17
        },
        {
          "output_type": "display_data",
          "data": {
            "image/png": "[encoded data removed]",
            "text/plain": [
              "<Figure size 1440x1440 with 12 Axes>"
            ]
          },
          "metadata": {
            "tags": [],
            "needs_background": "light"
          }
        }
      ]
    },
    {
      "cell_type": "code",
      "metadata": {
        "colab": {
          "base_uri": "https://localhost:8080/",
          "height": 1000
        },
        "id": "9Sdu__CZvwwK",
        "outputId": "01917c40-dda2-4388-d537-0a957bfb3893"
      },
      "source": [
        "df_c.hist(bins = 30, figsize = (20,20), color = 'r')"
      ],
      "execution_count": null,
      "outputs": [
        {
          "output_type": "execute_result",
          "data": {
            "text/plain": [
              "array([[<matplotlib.axes._subplots.AxesSubplot object at 0x7f15ab53b990>,\n",
              "        <matplotlib.axes._subplots.AxesSubplot object at 0x7f15aa842590>,\n",
              "        <matplotlib.axes._subplots.AxesSubplot object at 0x7f15aa7d5a50>,\n",
              "        <matplotlib.axes._subplots.AxesSubplot object at 0x7f15aa7eab10>],\n",
              "       [<matplotlib.axes._subplots.AxesSubplot object at 0x7f15aa7b6590>,\n",
              "        <matplotlib.axes._subplots.AxesSubplot object at 0x7f15aa769b10>,\n",
              "        <matplotlib.axes._subplots.AxesSubplot object at 0x7f15aa72e150>,\n",
              "        <matplotlib.axes._subplots.AxesSubplot object at 0x7f15aa6e2610>],\n",
              "       [<matplotlib.axes._subplots.AxesSubplot object at 0x7f15aa6e2650>,\n",
              "        <matplotlib.axes._subplots.AxesSubplot object at 0x7f15aa698cd0>,\n",
              "        <matplotlib.axes._subplots.AxesSubplot object at 0x7f15aa60f710>,\n",
              "        <matplotlib.axes._subplots.AxesSubplot object at 0x7f15aa5c6c90>],\n",
              "       [<matplotlib.axes._subplots.AxesSubplot object at 0x7f15aa588250>,\n",
              "        <matplotlib.axes._subplots.AxesSubplot object at 0x7f15aa5bd7d0>,\n",
              "        <matplotlib.axes._subplots.AxesSubplot object at 0x7f15aa573d50>,\n",
              "        <matplotlib.axes._subplots.AxesSubplot object at 0x7f15aa536310>]],\n",
              "      dtype=object)"
            ]
          },
          "metadata": {
            "tags": []
          },
          "execution_count": 18
        },
        {
          "output_type": "display_data",
          "data": {
            "image/png": "[encoded data removed]",
            "text/plain": [
              "<Figure size 1440x1440 with 16 Axes>"
            ]
          },
          "metadata": {
            "tags": [],
            "needs_background": "light"
          }
        }
      ]
    },
    {
      "cell_type": "code",
      "metadata": {
        "colab": {
          "base_uri": "https://localhost:8080/",
          "height": 523
        },
        "id": "XSruALqOB7VU",
        "outputId": "d2e0951e-f3cd-4372-9a32-2a6dea47d256"
      },
      "source": [
        "df_c.describe(include='all')"
      ],
      "execution_count": null,
      "outputs": [
        {
          "output_type": "execute_result",
          "data": {
            "text/html": [
              "<div>\n",
              "<style scoped>\n",
              "    .dataframe tbody tr th:only-of-type {\n",
              "        vertical-align: middle;\n",
              "    }\n",
              "\n",
              "    .dataframe tbody tr th {\n",
              "        vertical-align: top;\n",
              "    }\n",
              "\n",
              "    .dataframe thead th {\n",
              "        text-align: right;\n",
              "    }\n",
              "</style>\n",
              "<table border=\"1\" class=\"dataframe\">\n",
              "  <thead>\n",
              "    <tr style=\"text-align: right;\">\n",
              "      <th></th>\n",
              "      <th>radius_0</th>\n",
              "      <th>texture_0</th>\n",
              "      <th>perimeter_0</th>\n",
              "      <th>radius_1</th>\n",
              "      <th>perimeter_1</th>\n",
              "      <th>radius_2</th>\n",
              "      <th>texture_2</th>\n",
              "      <th>age</th>\n",
              "      <th>treatment_date</th>\n",
              "      <th>diagnose_date</th>\n",
              "      <th>cancer_type</th>\n",
              "      <th>label</th>\n",
              "      <th>ind</th>\n",
              "      <th>interval</th>\n",
              "      <th>diagnose_year</th>\n",
              "      <th>diagnose_month</th>\n",
              "      <th>diagnose_day</th>\n",
              "      <th>treatment_year</th>\n",
              "      <th>treatment_month</th>\n",
              "      <th>treatment_day</th>\n",
              "    </tr>\n",
              "  </thead>\n",
              "  <tbody>\n",
              "    <tr>\n",
              "      <th>count</th>\n",
              "      <td>569.000000</td>\n",
              "      <td>569.000000</td>\n",
              "      <td>569.000000</td>\n",
              "      <td>489.000000</td>\n",
              "      <td>369.000000</td>\n",
              "      <td>569.000000</td>\n",
              "      <td>541.000000</td>\n",
              "      <td>569.000000</td>\n",
              "      <td>569</td>\n",
              "      <td>569</td>\n",
              "      <td>398.000000</td>\n",
              "      <td>569</td>\n",
              "      <td>569</td>\n",
              "      <td>569.00000</td>\n",
              "      <td>569.000000</td>\n",
              "      <td>569.000000</td>\n",
              "      <td>569.000000</td>\n",
              "      <td>569.000000</td>\n",
              "      <td>569.000000</td>\n",
              "      <td>569.000000</td>\n",
              "    </tr>\n",
              "    <tr>\n",
              "      <th>unique</th>\n",
              "      <td>NaN</td>\n",
              "      <td>NaN</td>\n",
              "      <td>NaN</td>\n",
              "      <td>NaN</td>\n",
              "      <td>NaN</td>\n",
              "      <td>NaN</td>\n",
              "      <td>NaN</td>\n",
              "      <td>NaN</td>\n",
              "      <td>513</td>\n",
              "      <td>482</td>\n",
              "      <td>NaN</td>\n",
              "      <td>2</td>\n",
              "      <td>2</td>\n",
              "      <td>NaN</td>\n",
              "      <td>NaN</td>\n",
              "      <td>NaN</td>\n",
              "      <td>NaN</td>\n",
              "      <td>NaN</td>\n",
              "      <td>NaN</td>\n",
              "      <td>NaN</td>\n",
              "    </tr>\n",
              "    <tr>\n",
              "      <th>top</th>\n",
              "      <td>NaN</td>\n",
              "      <td>NaN</td>\n",
              "      <td>NaN</td>\n",
              "      <td>NaN</td>\n",
              "      <td>NaN</td>\n",
              "      <td>NaN</td>\n",
              "      <td>NaN</td>\n",
              "      <td>NaN</td>\n",
              "      <td>2003-04-27 00:00:00</td>\n",
              "      <td>2004-11-04 00:00:00</td>\n",
              "      <td>NaN</td>\n",
              "      <td>train</td>\n",
              "      <td>train</td>\n",
              "      <td>NaN</td>\n",
              "      <td>NaN</td>\n",
              "      <td>NaN</td>\n",
              "      <td>NaN</td>\n",
              "      <td>NaN</td>\n",
              "      <td>NaN</td>\n",
              "      <td>NaN</td>\n",
              "    </tr>\n",
              "    <tr>\n",
              "      <th>freq</th>\n",
              "      <td>NaN</td>\n",
              "      <td>NaN</td>\n",
              "      <td>NaN</td>\n",
              "      <td>NaN</td>\n",
              "      <td>NaN</td>\n",
              "      <td>NaN</td>\n",
              "      <td>NaN</td>\n",
              "      <td>NaN</td>\n",
              "      <td>3</td>\n",
              "      <td>3</td>\n",
              "      <td>NaN</td>\n",
              "      <td>398</td>\n",
              "      <td>398</td>\n",
              "      <td>NaN</td>\n",
              "      <td>NaN</td>\n",
              "      <td>NaN</td>\n",
              "      <td>NaN</td>\n",
              "      <td>NaN</td>\n",
              "      <td>NaN</td>\n",
              "      <td>NaN</td>\n",
              "    </tr>\n",
              "    <tr>\n",
              "      <th>first</th>\n",
              "      <td>NaN</td>\n",
              "      <td>NaN</td>\n",
              "      <td>NaN</td>\n",
              "      <td>NaN</td>\n",
              "      <td>NaN</td>\n",
              "      <td>NaN</td>\n",
              "      <td>NaN</td>\n",
              "      <td>NaN</td>\n",
              "      <td>2000-01-09 00:00:00</td>\n",
              "      <td>2002-01-08 00:00:00</td>\n",
              "      <td>NaN</td>\n",
              "      <td>NaN</td>\n",
              "      <td>NaN</td>\n",
              "      <td>NaN</td>\n",
              "      <td>NaN</td>\n",
              "      <td>NaN</td>\n",
              "      <td>NaN</td>\n",
              "      <td>NaN</td>\n",
              "      <td>NaN</td>\n",
              "      <td>NaN</td>\n",
              "    </tr>\n",
              "    <tr>\n",
              "      <th>last</th>\n",
              "      <td>NaN</td>\n",
              "      <td>NaN</td>\n",
              "      <td>NaN</td>\n",
              "      <td>NaN</td>\n",
              "      <td>NaN</td>\n",
              "      <td>NaN</td>\n",
              "      <td>NaN</td>\n",
              "      <td>NaN</td>\n",
              "      <td>2008-11-26 00:00:00</td>\n",
              "      <td>2007-11-15 00:00:00</td>\n",
              "      <td>NaN</td>\n",
              "      <td>NaN</td>\n",
              "      <td>NaN</td>\n",
              "      <td>NaN</td>\n",
              "      <td>NaN</td>\n",
              "      <td>NaN</td>\n",
              "      <td>NaN</td>\n",
              "      <td>NaN</td>\n",
              "      <td>NaN</td>\n",
              "      <td>NaN</td>\n",
              "    </tr>\n",
              "    <tr>\n",
              "      <th>mean</th>\n",
              "      <td>21.273693</td>\n",
              "      <td>19.140189</td>\n",
              "      <td>92.143384</td>\n",
              "      <td>14.082352</td>\n",
              "      <td>93.472631</td>\n",
              "      <td>14.120008</td>\n",
              "      <td>19.607541</td>\n",
              "      <td>40.005272</td>\n",
              "      <td>NaN</td>\n",
              "      <td>NaN</td>\n",
              "      <td>0.628141</td>\n",
              "      <td>NaN</td>\n",
              "      <td>NaN</td>\n",
              "      <td>-185.00703</td>\n",
              "      <td>2004.488576</td>\n",
              "      <td>6.050967</td>\n",
              "      <td>13.516696</td>\n",
              "      <td>2003.989455</td>\n",
              "      <td>5.922671</td>\n",
              "      <td>14.662566</td>\n",
              "    </tr>\n",
              "    <tr>\n",
              "      <th>std</th>\n",
              "      <td>46.903207</td>\n",
              "      <td>6.148752</td>\n",
              "      <td>26.115440</td>\n",
              "      <td>3.915918</td>\n",
              "      <td>26.337685</td>\n",
              "      <td>3.782700</td>\n",
              "      <td>6.149969</td>\n",
              "      <td>13.427228</td>\n",
              "      <td>NaN</td>\n",
              "      <td>NaN</td>\n",
              "      <td>0.483909</td>\n",
              "      <td>NaN</td>\n",
              "      <td>NaN</td>\n",
              "      <td>1070.52360</td>\n",
              "      <td>1.443889</td>\n",
              "      <td>3.126309</td>\n",
              "      <td>7.905259</td>\n",
              "      <td>2.582422</td>\n",
              "      <td>3.218181</td>\n",
              "      <td>7.821424</td>\n",
              "    </tr>\n",
              "    <tr>\n",
              "      <th>min</th>\n",
              "      <td>5.778161</td>\n",
              "      <td>-17.243202</td>\n",
              "      <td>41.982155</td>\n",
              "      <td>5.752395</td>\n",
              "      <td>43.444930</td>\n",
              "      <td>5.429977</td>\n",
              "      <td>-0.966998</td>\n",
              "      <td>18.000000</td>\n",
              "      <td>NaN</td>\n",
              "      <td>NaN</td>\n",
              "      <td>0.000000</td>\n",
              "      <td>NaN</td>\n",
              "      <td>NaN</td>\n",
              "      <td>-2694.00000</td>\n",
              "      <td>2002.000000</td>\n",
              "      <td>1.000000</td>\n",
              "      <td>1.000000</td>\n",
              "      <td>2000.000000</td>\n",
              "      <td>1.000000</td>\n",
              "      <td>1.000000</td>\n",
              "    </tr>\n",
              "    <tr>\n",
              "      <th>25%</th>\n",
              "      <td>11.734946</td>\n",
              "      <td>14.760752</td>\n",
              "      <td>74.272633</td>\n",
              "      <td>11.542111</td>\n",
              "      <td>74.997856</td>\n",
              "      <td>11.597654</td>\n",
              "      <td>15.286746</td>\n",
              "      <td>28.000000</td>\n",
              "      <td>NaN</td>\n",
              "      <td>NaN</td>\n",
              "      <td>0.000000</td>\n",
              "      <td>NaN</td>\n",
              "      <td>NaN</td>\n",
              "      <td>-1020.00000</td>\n",
              "      <td>2003.000000</td>\n",
              "      <td>3.000000</td>\n",
              "      <td>7.000000</td>\n",
              "      <td>2002.000000</td>\n",
              "      <td>3.000000</td>\n",
              "      <td>8.000000</td>\n",
              "    </tr>\n",
              "    <tr>\n",
              "      <th>50%</th>\n",
              "      <td>13.416769</td>\n",
              "      <td>18.295169</td>\n",
              "      <td>86.699663</td>\n",
              "      <td>13.236132</td>\n",
              "      <td>88.504928</td>\n",
              "      <td>13.290439</td>\n",
              "      <td>19.263687</td>\n",
              "      <td>39.000000</td>\n",
              "      <td>NaN</td>\n",
              "      <td>NaN</td>\n",
              "      <td>1.000000</td>\n",
              "      <td>NaN</td>\n",
              "      <td>NaN</td>\n",
              "      <td>-228.00000</td>\n",
              "      <td>2004.000000</td>\n",
              "      <td>6.000000</td>\n",
              "      <td>13.000000</td>\n",
              "      <td>2004.000000</td>\n",
              "      <td>6.000000</td>\n",
              "      <td>15.000000</td>\n",
              "    </tr>\n",
              "    <tr>\n",
              "      <th>75%</th>\n",
              "      <td>16.002003</td>\n",
              "      <td>22.871762</td>\n",
              "      <td>104.861996</td>\n",
              "      <td>15.720839</td>\n",
              "      <td>106.354146</td>\n",
              "      <td>16.033035</td>\n",
              "      <td>23.248041</td>\n",
              "      <td>51.000000</td>\n",
              "      <td>NaN</td>\n",
              "      <td>NaN</td>\n",
              "      <td>1.000000</td>\n",
              "      <td>NaN</td>\n",
              "      <td>NaN</td>\n",
              "      <td>592.00000</td>\n",
              "      <td>2006.000000</td>\n",
              "      <td>9.000000</td>\n",
              "      <td>20.000000</td>\n",
              "      <td>2006.000000</td>\n",
              "      <td>9.000000</td>\n",
              "      <td>22.000000</td>\n",
              "    </tr>\n",
              "    <tr>\n",
              "      <th>max</th>\n",
              "      <td>561.311068</td>\n",
              "      <td>40.064462</td>\n",
              "      <td>252.398799</td>\n",
              "      <td>30.940587</td>\n",
              "      <td>227.162938</td>\n",
              "      <td>28.563252</td>\n",
              "      <td>43.773739</td>\n",
              "      <td>64.000000</td>\n",
              "      <td>NaN</td>\n",
              "      <td>NaN</td>\n",
              "      <td>1.000000</td>\n",
              "      <td>NaN</td>\n",
              "      <td>NaN</td>\n",
              "      <td>2285.00000</td>\n",
              "      <td>2007.000000</td>\n",
              "      <td>11.000000</td>\n",
              "      <td>27.000000</td>\n",
              "      <td>2008.000000</td>\n",
              "      <td>11.000000</td>\n",
              "      <td>27.000000</td>\n",
              "    </tr>\n",
              "  </tbody>\n",
              "</table>\n",
              "</div>"
            ],
            "text/plain": [
              "          radius_0   texture_0  perimeter_0    radius_1  perimeter_1  \\\n",
              "count   569.000000  569.000000   569.000000  489.000000   369.000000   \n",
              "unique         NaN         NaN          NaN         NaN          NaN   \n",
              "top            NaN         NaN          NaN         NaN          NaN   \n",
              "freq           NaN         NaN          NaN         NaN          NaN   \n",
              "first          NaN         NaN          NaN         NaN          NaN   \n",
              "last           NaN         NaN          NaN         NaN          NaN   \n",
              "mean     21.273693   19.140189    92.143384   14.082352    93.472631   \n",
              "std      46.903207    6.148752    26.115440    3.915918    26.337685   \n",
              "min       5.778161  -17.243202    41.982155    5.752395    43.444930   \n",
              "25%      11.734946   14.760752    74.272633   11.542111    74.997856   \n",
              "50%      13.416769   18.295169    86.699663   13.236132    88.504928   \n",
              "75%      16.002003   22.871762   104.861996   15.720839   106.354146   \n",
              "max     561.311068   40.064462   252.398799   30.940587   227.162938   \n",
              "\n",
              "          radius_2   texture_2         age       treatment_date  \\\n",
              "count   569.000000  541.000000  569.000000                  569   \n",
              "unique         NaN         NaN         NaN                  513   \n",
              "top            NaN         NaN         NaN  2003-04-27 00:00:00   \n",
              "freq           NaN         NaN         NaN                    3   \n",
              "first          NaN         NaN         NaN  2000-01-09 00:00:00   \n",
              "last           NaN         NaN         NaN  2008-11-26 00:00:00   \n",
              "mean     14.120008   19.607541   40.005272                  NaN   \n",
              "std       3.782700    6.149969   13.427228                  NaN   \n",
              "min       5.429977   -0.966998   18.000000                  NaN   \n",
              "25%      11.597654   15.286746   28.000000                  NaN   \n",
              "50%      13.290439   19.263687   39.000000                  NaN   \n",
              "75%      16.033035   23.248041   51.000000                  NaN   \n",
              "max      28.563252   43.773739   64.000000                  NaN   \n",
              "\n",
              "              diagnose_date  cancer_type  label    ind    interval  \\\n",
              "count                   569   398.000000    569    569   569.00000   \n",
              "unique                  482          NaN      2      2         NaN   \n",
              "top     2004-11-04 00:00:00          NaN  train  train         NaN   \n",
              "freq                      3          NaN    398    398         NaN   \n",
              "first   2002-01-08 00:00:00          NaN    NaN    NaN         NaN   \n",
              "last    2007-11-15 00:00:00          NaN    NaN    NaN         NaN   \n",
              "mean                    NaN     0.628141    NaN    NaN  -185.00703   \n",
              "std                     NaN     0.483909    NaN    NaN  1070.52360   \n",
              "min                     NaN     0.000000    NaN    NaN -2694.00000   \n",
              "25%                     NaN     0.000000    NaN    NaN -1020.00000   \n",
              "50%                     NaN     1.000000    NaN    NaN  -228.00000   \n",
              "75%                     NaN     1.000000    NaN    NaN   592.00000   \n",
              "max                     NaN     1.000000    NaN    NaN  2285.00000   \n",
              "\n",
              "        diagnose_year  diagnose_month  diagnose_day  treatment_year  \\\n",
              "count      569.000000      569.000000    569.000000      569.000000   \n",
              "unique            NaN             NaN           NaN             NaN   \n",
              "top               NaN             NaN           NaN             NaN   \n",
              "freq              NaN             NaN           NaN             NaN   \n",
              "first             NaN             NaN           NaN             NaN   \n",
              "last              NaN             NaN           NaN             NaN   \n",
              "mean      2004.488576        6.050967     13.516696     2003.989455   \n",
              "std          1.443889        3.126309      7.905259        2.582422   \n",
              "min       2002.000000        1.000000      1.000000     2000.000000   \n",
              "25%       2003.000000        3.000000      7.000000     2002.000000   \n",
              "50%       2004.000000        6.000000     13.000000     2004.000000   \n",
              "75%       2006.000000        9.000000     20.000000     2006.000000   \n",
              "max       2007.000000       11.000000     27.000000     2008.000000   \n",
              "\n",
              "        treatment_month  treatment_day  \n",
              "count        569.000000     569.000000  \n",
              "unique              NaN            NaN  \n",
              "top                 NaN            NaN  \n",
              "freq                NaN            NaN  \n",
              "first               NaN            NaN  \n",
              "last                NaN            NaN  \n",
              "mean           5.922671      14.662566  \n",
              "std            3.218181       7.821424  \n",
              "min            1.000000       1.000000  \n",
              "25%            3.000000       8.000000  \n",
              "50%            6.000000      15.000000  \n",
              "75%            9.000000      22.000000  \n",
              "max           11.000000      27.000000  "
            ]
          },
          "metadata": {
            "tags": []
          },
          "execution_count": 19
        }
      ]
    },
    {
      "cell_type": "code",
      "metadata": {
        "id": "_zlpQ0Mpt6Fy"
      },
      "source": [
        ""
      ],
      "execution_count": null,
      "outputs": []
    },
    {
      "cell_type": "code",
      "metadata": {
        "colab": {
          "base_uri": "https://localhost:8080/",
          "height": 297
        },
        "id": "mKVR1a1DTgKB",
        "outputId": "f1ac6ffe-462a-4547-b801-fc095e79bda5"
      },
      "source": [
        "#replace radius_0 > 200 to nan of radius_0\n",
        "\n",
        "df_c[\"radius_0\"] = df_c[\"radius_0\"].mask(df_c[\"radius_0\"] >100, np.nan)\n",
        "sns.distplot(df_c['radius_0'], kde=False, color=\"blue\",bins = 30, hist_kws=dict(edgecolor=\"b\"))"
      ],
      "execution_count": null,
      "outputs": [
        {
          "output_type": "execute_result",
          "data": {
            "text/plain": [
              "<matplotlib.axes._subplots.AxesSubplot at 0x7f15aa0b9a10>"
            ]
          },
          "metadata": {
            "tags": []
          },
          "execution_count": 20
        },
        {
          "output_type": "display_data",
          "data": {
            "image/png": "[encoded data removed]",
            "text/plain": [
              "<Figure size 432x288 with 1 Axes>"
            ]
          },
          "metadata": {
            "tags": [],
            "needs_background": "light"
          }
        }
      ]
    },
    {
      "cell_type": "code",
      "metadata": {
        "colab": {
          "base_uri": "https://localhost:8080/",
          "height": 297
        },
        "id": "WHe9B3yOuoXK",
        "outputId": "9e5c0040-80b3-498b-fcc9-fabbb0a235ac"
      },
      "source": [
        "#replace texture_0 <0 to nan of texture_0\n",
        "median = df_c['texture_0'].median()\n",
        "\n",
        "df_c['texture_0'] = np.where(df_c['texture_0'].between(-1000,0), np.nan,df_c['texture_0'])\n",
        "\n",
        "sns.distplot(df_c['texture_0'], kde=False, color=\"r\", bins = 30, hist_kws=dict(edgecolor=\"r\"))"
      ],
      "execution_count": null,
      "outputs": [
        {
          "output_type": "execute_result",
          "data": {
            "text/plain": [
              "<matplotlib.axes._subplots.AxesSubplot at 0x7f15a7960ad0>"
            ]
          },
          "metadata": {
            "tags": []
          },
          "execution_count": 21
        },
        {
          "output_type": "display_data",
          "data": {
            "image/png": "[encoded data removed]",
            "text/plain": [
              "<Figure size 432x288 with 1 Axes>"
            ]
          },
          "metadata": {
            "tags": [],
            "needs_background": "light"
          }
        }
      ]
    },
    {
      "cell_type": "code",
      "metadata": {
        "colab": {
          "base_uri": "https://localhost:8080/",
          "height": 297
        },
        "id": "Ri8Zx_2uu9hD",
        "outputId": "788babb1-2297-4ed6-d0b6-03a2f3bd98df"
      },
      "source": [
        "#replace texture_2 <0 to median of texture_2\n",
        "median = df_c['texture_2'].median()\n",
        "median \n",
        "\n",
        "df_c['texture_2'] = np.where(df_c['texture_2'].between(-1000,0), np.nan,df_c['texture_2'])\n",
        "\n",
        "sns.distplot(df_c['texture_2'], kde=False, color=\"r\", bins = 30, hist_kws=dict(edgecolor=\"r\"))"
      ],
      "execution_count": null,
      "outputs": [
        {
          "output_type": "execute_result",
          "data": {
            "text/plain": [
              "<matplotlib.axes._subplots.AxesSubplot at 0x7f15a7899f90>"
            ]
          },
          "metadata": {
            "tags": []
          },
          "execution_count": 22
        },
        {
          "output_type": "display_data",
          "data": {
            "image/png": "[encoded data removed]",
            "text/plain": [
              "<Figure size 432x288 with 1 Axes>"
            ]
          },
          "metadata": {
            "tags": [],
            "needs_background": "light"
          }
        }
      ]
    },
    {
      "cell_type": "code",
      "metadata": {
        "id": "Y6dQR92HC4xs"
      },
      "source": [
        "df_c['radius_mean'] = df_c[['radius_0','radius_1', 'radius_2']].mean(axis=1)\n",
        "df_c['texture_mean'] = df_c[['texture_0', 'radius_2']].mean(axis=1)\n",
        "df_c['perimeter_mean'] = df_c[['perimeter_0', 'perimeter_1']].mean(axis=1)"
      ],
      "execution_count": null,
      "outputs": []
    },
    {
      "cell_type": "code",
      "metadata": {
        "colab": {
          "base_uri": "https://localhost:8080/"
        },
        "id": "46_lA4AQDPfc",
        "outputId": "8fd1f765-e4c8-4131-dd76-c27988576e7b"
      },
      "source": [
        "df_c.groupby('ind').size()"
      ],
      "execution_count": null,
      "outputs": [
        {
          "output_type": "execute_result",
          "data": {
            "text/plain": [
              "ind\n",
              "test     171\n",
              "train    398\n",
              "dtype: int64"
            ]
          },
          "metadata": {
            "tags": []
          },
          "execution_count": 24
        }
      ]
    },
    {
      "cell_type": "code",
      "metadata": {
        "colab": {
          "base_uri": "https://localhost:8080/"
        },
        "id": "WddIY0PhvVcq",
        "outputId": "90cfee63-7470-43f8-daa7-ba19e0643e19"
      },
      "source": [
        "df_c.isnull().sum()"
      ],
      "execution_count": null,
      "outputs": [
        {
          "output_type": "execute_result",
          "data": {
            "text/plain": [
              "radius_0            15\n",
              "texture_0            1\n",
              "perimeter_0          0\n",
              "radius_1            80\n",
              "perimeter_1        200\n",
              "radius_2             0\n",
              "texture_2           29\n",
              "age                  0\n",
              "treatment_date       0\n",
              "diagnose_date        0\n",
              "cancer_type        171\n",
              "label                0\n",
              "ind                  0\n",
              "interval             0\n",
              "diagnose_year        0\n",
              "diagnose_month       0\n",
              "diagnose_day         0\n",
              "treatment_year       0\n",
              "treatment_month      0\n",
              "treatment_day        0\n",
              "radius_mean          0\n",
              "texture_mean         0\n",
              "perimeter_mean       0\n",
              "dtype: int64"
            ]
          },
          "metadata": {
            "tags": []
          },
          "execution_count": 25
        }
      ]
    },
    {
      "cell_type": "code",
      "metadata": {
        "colab": {
          "base_uri": "https://localhost:8080/",
          "height": 369
        },
        "id": "BK2xKlwWvpsj",
        "outputId": "4378ba71-f6ee-4a69-fddb-3c411e718a2b"
      },
      "source": [
        "#data visualization\n",
        "f, axes = plt.subplots(1, 3, figsize=(15, 5))\n",
        "#sns.despine(left=True)\n",
        "\n",
        "sns.distplot(df_c['radius_mean'], kde=False, color=\"blue\",hist_kws=dict(edgecolor=\"blue\"),bins=30, ax=axes[0])\n",
        "sns.distplot(df_c['texture_mean'], kde=False, color=\"r\",hist_kws=dict(edgecolor=\"r\"),bins=30, ax=axes[1])\n",
        "sns.distplot(df_c['perimeter_mean'], kde=False, color=\"k\",hist_kws=dict(edgecolor=\"k\"),bins=30, ax=axes[2])\n",
        "\n",
        "\n",
        "plt.tight_layout()\n",
        "plt.show()"
      ],
      "execution_count": null,
      "outputs": [
        {
          "output_type": "display_data",
          "data": {
            "image/png": "[encoded data removed]",
            "text/plain": [
              "<Figure size 1080x360 with 3 Axes>"
            ]
          },
          "metadata": {
            "tags": [],
            "needs_background": "light"
          }
        }
      ]
    },
    {
      "cell_type": "code",
      "metadata": {
        "colab": {
          "base_uri": "https://localhost:8080/",
          "height": 241
        },
        "id": "7aPu7vRawcK7",
        "outputId": "8bf9c1f7-cf48-4101-ccdd-a260f48407da"
      },
      "source": [
        "#outlier using z-score\n",
        "#using z score\n",
        "z = np.abs(stats.zscore(df_c['perimeter_mean']))\n",
        "print(np.where(z>3))\n",
        "perimeter_mean = df_c.iloc[np.where(z>3)]\n",
        "perimeter_mean"
      ],
      "execution_count": null,
      "outputs": [
        {
          "output_type": "stream",
          "text": [
            "(array([ 51, 142, 156, 441, 513]),)\n"
          ],
          "name": "stdout"
        },
        {
          "output_type": "execute_result",
          "data": {
            "text/html": [
              "<div>\n",
              "<style scoped>\n",
              "    .dataframe tbody tr th:only-of-type {\n",
              "        vertical-align: middle;\n",
              "    }\n",
              "\n",
              "    .dataframe tbody tr th {\n",
              "        vertical-align: top;\n",
              "    }\n",
              "\n",
              "    .dataframe thead th {\n",
              "        text-align: right;\n",
              "    }\n",
              "</style>\n",
              "<table border=\"1\" class=\"dataframe\">\n",
              "  <thead>\n",
              "    <tr style=\"text-align: right;\">\n",
              "      <th></th>\n",
              "      <th>radius_0</th>\n",
              "      <th>texture_0</th>\n",
              "      <th>perimeter_0</th>\n",
              "      <th>radius_1</th>\n",
              "      <th>perimeter_1</th>\n",
              "      <th>radius_2</th>\n",
              "      <th>texture_2</th>\n",
              "      <th>age</th>\n",
              "      <th>treatment_date</th>\n",
              "      <th>diagnose_date</th>\n",
              "      <th>cancer_type</th>\n",
              "      <th>label</th>\n",
              "      <th>ind</th>\n",
              "      <th>interval</th>\n",
              "      <th>diagnose_year</th>\n",
              "      <th>diagnose_month</th>\n",
              "      <th>diagnose_day</th>\n",
              "      <th>treatment_year</th>\n",
              "      <th>treatment_month</th>\n",
              "      <th>treatment_day</th>\n",
              "      <th>radius_mean</th>\n",
              "      <th>texture_mean</th>\n",
              "      <th>perimeter_mean</th>\n",
              "    </tr>\n",
              "  </thead>\n",
              "  <tbody>\n",
              "    <tr>\n",
              "      <th>51</th>\n",
              "      <td>20.625734</td>\n",
              "      <td>18.144791</td>\n",
              "      <td>179.665832</td>\n",
              "      <td>23.907717</td>\n",
              "      <td>NaN</td>\n",
              "      <td>19.903053</td>\n",
              "      <td>22.984562</td>\n",
              "      <td>55</td>\n",
              "      <td>2003-10-15</td>\n",
              "      <td>2006-08-17</td>\n",
              "      <td>0.0</td>\n",
              "      <td>train</td>\n",
              "      <td>train</td>\n",
              "      <td>-1037</td>\n",
              "      <td>2006</td>\n",
              "      <td>8</td>\n",
              "      <td>17</td>\n",
              "      <td>2003</td>\n",
              "      <td>10</td>\n",
              "      <td>15</td>\n",
              "      <td>21.478835</td>\n",
              "      <td>19.023922</td>\n",
              "      <td>179.665832</td>\n",
              "    </tr>\n",
              "    <tr>\n",
              "      <th>142</th>\n",
              "      <td>31.216269</td>\n",
              "      <td>17.723455</td>\n",
              "      <td>152.311798</td>\n",
              "      <td>NaN</td>\n",
              "      <td>227.162938</td>\n",
              "      <td>28.370147</td>\n",
              "      <td>20.103262</td>\n",
              "      <td>18</td>\n",
              "      <td>2003-06-26</td>\n",
              "      <td>2002-09-23</td>\n",
              "      <td>0.0</td>\n",
              "      <td>train</td>\n",
              "      <td>train</td>\n",
              "      <td>276</td>\n",
              "      <td>2002</td>\n",
              "      <td>9</td>\n",
              "      <td>23</td>\n",
              "      <td>2003</td>\n",
              "      <td>6</td>\n",
              "      <td>26</td>\n",
              "      <td>29.793208</td>\n",
              "      <td>23.046801</td>\n",
              "      <td>189.737368</td>\n",
              "    </tr>\n",
              "    <tr>\n",
              "      <th>156</th>\n",
              "      <td>26.163750</td>\n",
              "      <td>14.463947</td>\n",
              "      <td>193.755763</td>\n",
              "      <td>NaN</td>\n",
              "      <td>183.114308</td>\n",
              "      <td>25.480741</td>\n",
              "      <td>16.614443</td>\n",
              "      <td>22</td>\n",
              "      <td>2004-07-05</td>\n",
              "      <td>2002-03-27</td>\n",
              "      <td>0.0</td>\n",
              "      <td>train</td>\n",
              "      <td>train</td>\n",
              "      <td>831</td>\n",
              "      <td>2002</td>\n",
              "      <td>3</td>\n",
              "      <td>27</td>\n",
              "      <td>2004</td>\n",
              "      <td>7</td>\n",
              "      <td>5</td>\n",
              "      <td>25.822246</td>\n",
              "      <td>19.972344</td>\n",
              "      <td>188.435035</td>\n",
              "    </tr>\n",
              "    <tr>\n",
              "      <th>441</th>\n",
              "      <td>25.694058</td>\n",
              "      <td>32.461840</td>\n",
              "      <td>170.085535</td>\n",
              "      <td>23.557583</td>\n",
              "      <td>NaN</td>\n",
              "      <td>23.202449</td>\n",
              "      <td>22.429694</td>\n",
              "      <td>37</td>\n",
              "      <td>2002-10-11</td>\n",
              "      <td>2004-05-02</td>\n",
              "      <td>NaN</td>\n",
              "      <td>test</td>\n",
              "      <td>test</td>\n",
              "      <td>-569</td>\n",
              "      <td>2004</td>\n",
              "      <td>5</td>\n",
              "      <td>2</td>\n",
              "      <td>2002</td>\n",
              "      <td>10</td>\n",
              "      <td>11</td>\n",
              "      <td>24.151364</td>\n",
              "      <td>27.832145</td>\n",
              "      <td>170.085535</td>\n",
              "    </tr>\n",
              "    <tr>\n",
              "      <th>513</th>\n",
              "      <td>26.198745</td>\n",
              "      <td>31.444987</td>\n",
              "      <td>252.398799</td>\n",
              "      <td>30.940587</td>\n",
              "      <td>NaN</td>\n",
              "      <td>23.737824</td>\n",
              "      <td>26.583514</td>\n",
              "      <td>43</td>\n",
              "      <td>2005-10-20</td>\n",
              "      <td>2004-07-10</td>\n",
              "      <td>NaN</td>\n",
              "      <td>test</td>\n",
              "      <td>test</td>\n",
              "      <td>467</td>\n",
              "      <td>2004</td>\n",
              "      <td>7</td>\n",
              "      <td>10</td>\n",
              "      <td>2005</td>\n",
              "      <td>10</td>\n",
              "      <td>20</td>\n",
              "      <td>26.959052</td>\n",
              "      <td>27.591405</td>\n",
              "      <td>252.398799</td>\n",
              "    </tr>\n",
              "  </tbody>\n",
              "</table>\n",
              "</div>"
            ],
            "text/plain": [
              "      radius_0  texture_0  perimeter_0   radius_1  perimeter_1   radius_2  \\\n",
              "51   20.625734  18.144791   179.665832  23.907717          NaN  19.903053   \n",
              "142  31.216269  17.723455   152.311798        NaN   227.162938  28.370147   \n",
              "156  26.163750  14.463947   193.755763        NaN   183.114308  25.480741   \n",
              "441  25.694058  32.461840   170.085535  23.557583          NaN  23.202449   \n",
              "513  26.198745  31.444987   252.398799  30.940587          NaN  23.737824   \n",
              "\n",
              "     texture_2  age treatment_date diagnose_date  cancer_type  label    ind  \\\n",
              "51   22.984562   55     2003-10-15    2006-08-17          0.0  train  train   \n",
              "142  20.103262   18     2003-06-26    2002-09-23          0.0  train  train   \n",
              "156  16.614443   22     2004-07-05    2002-03-27          0.0  train  train   \n",
              "441  22.429694   37     2002-10-11    2004-05-02          NaN   test   test   \n",
              "513  26.583514   43     2005-10-20    2004-07-10          NaN   test   test   \n",
              "\n",
              "     interval  diagnose_year  diagnose_month  diagnose_day  treatment_year  \\\n",
              "51      -1037           2006               8            17            2003   \n",
              "142       276           2002               9            23            2003   \n",
              "156       831           2002               3            27            2004   \n",
              "441      -569           2004               5             2            2002   \n",
              "513       467           2004               7            10            2005   \n",
              "\n",
              "     treatment_month  treatment_day  radius_mean  texture_mean  perimeter_mean  \n",
              "51                10             15    21.478835     19.023922      179.665832  \n",
              "142                6             26    29.793208     23.046801      189.737368  \n",
              "156                7              5    25.822246     19.972344      188.435035  \n",
              "441               10             11    24.151364     27.832145      170.085535  \n",
              "513               10             20    26.959052     27.591405      252.398799  "
            ]
          },
          "metadata": {
            "tags": []
          },
          "execution_count": 27
        }
      ]
    },
    {
      "cell_type": "code",
      "metadata": {
        "colab": {
          "base_uri": "https://localhost:8080/",
          "height": 545
        },
        "id": "z-cw6TMw049M",
        "outputId": "e23dce20-19d2-4cdf-8096-1091b93f6347"
      },
      "source": [
        "# Initialize H2O cluster\n",
        "h2o.init()\n",
        "h2o.remove_all()"
      ],
      "execution_count": null,
      "outputs": [
        {
          "output_type": "stream",
          "text": [
            "Checking whether there is an H2O instance running at http://localhost:54321 ..... not found.\n",
            "Attempting to start a local H2O server...\n",
            "  Java Version: openjdk version \"11.0.11\" 2021-04-20; OpenJDK Runtime Environment (build 11.0.11+9-Ubuntu-0ubuntu2.18.04); OpenJDK 64-Bit Server VM (build 11.0.11+9-Ubuntu-0ubuntu2.18.04, mixed mode, sharing)\n",
            "  Starting server from /usr/local/lib/python3.7/dist-packages/h2o/backend/bin/h2o.jar\n",
            "  Ice root: /tmp/tmpuwrxa3hu\n",
            "  JVM stdout: /tmp/tmpuwrxa3hu/h2o_unknownUser_started_from_python.out\n",
            "  JVM stderr: /tmp/tmpuwrxa3hu/h2o_unknownUser_started_from_python.err\n",
            "  Server is running at http://127.0.0.1:54321\n",
            "Connecting to H2O server at http://127.0.0.1:54321 ... successful.\n"
          ],
          "name": "stdout"
        },
        {
          "output_type": "display_data",
          "data": {
            "text/html": [
              "<div style=\"overflow:auto\"><table style=\"width:50%\"><tr><td>H2O_cluster_uptime:</td>\n",
              "<td>03 secs</td></tr>\n",
              "<tr><td>H2O_cluster_timezone:</td>\n",
              "<td>Etc/UTC</td></tr>\n",
              "<tr><td>H2O_data_parsing_timezone:</td>\n",
              "<td>UTC</td></tr>\n",
              "<tr><td>H2O_cluster_version:</td>\n",
              "<td>3.32.1.3</td></tr>\n",
              "<tr><td>H2O_cluster_version_age:</td>\n",
              "<td>25 days </td></tr>\n",
              "<tr><td>H2O_cluster_name:</td>\n",
              "<td>H2O_from_python_unknownUser_svcfja</td></tr>\n",
              "<tr><td>H2O_cluster_total_nodes:</td>\n",
              "<td>1</td></tr>\n",
              "<tr><td>H2O_cluster_free_memory:</td>\n",
              "<td>3.174 Gb</td></tr>\n",
              "<tr><td>H2O_cluster_total_cores:</td>\n",
              "<td>2</td></tr>\n",
              "<tr><td>H2O_cluster_allowed_cores:</td>\n",
              "<td>2</td></tr>\n",
              "<tr><td>H2O_cluster_status:</td>\n",
              "<td>accepting new members, healthy</td></tr>\n",
              "<tr><td>H2O_connection_url:</td>\n",
              "<td>http://127.0.0.1:54321</td></tr>\n",
              "<tr><td>H2O_connection_proxy:</td>\n",
              "<td>{\"http\": null, \"https\": null}</td></tr>\n",
              "<tr><td>H2O_internal_security:</td>\n",
              "<td>False</td></tr>\n",
              "<tr><td>H2O_API_Extensions:</td>\n",
              "<td>Amazon S3, XGBoost, Algos, AutoML, Core V3, TargetEncoder, Core V4</td></tr>\n",
              "<tr><td>Python_version:</td>\n",
              "<td>3.7.10 final</td></tr></table></div>"
            ],
            "text/plain": [
              "--------------------------  ------------------------------------------------------------------\n",
              "H2O_cluster_uptime:         03 secs\n",
              "H2O_cluster_timezone:       Etc/UTC\n",
              "H2O_data_parsing_timezone:  UTC\n",
              "H2O_cluster_version:        3.32.1.3\n",
              "H2O_cluster_version_age:    25 days\n",
              "H2O_cluster_name:           H2O_from_python_unknownUser_svcfja\n",
              "H2O_cluster_total_nodes:    1\n",
              "H2O_cluster_free_memory:    3.174 Gb\n",
              "H2O_cluster_total_cores:    2\n",
              "H2O_cluster_allowed_cores:  2\n",
              "H2O_cluster_status:         accepting new members, healthy\n",
              "H2O_connection_url:         http://127.0.0.1:54321\n",
              "H2O_connection_proxy:       {\"http\": null, \"https\": null}\n",
              "H2O_internal_security:      False\n",
              "H2O_API_Extensions:         Amazon S3, XGBoost, Algos, AutoML, Core V3, TargetEncoder, Core V4\n",
              "Python_version:             3.7.10 final\n",
              "--------------------------  ------------------------------------------------------------------"
            ]
          },
          "metadata": {
            "tags": []
          }
        }
      ]
    },
    {
      "cell_type": "code",
      "metadata": {
        "id": "IvHvdoXL099D"
      },
      "source": [
        "#seperate\n",
        "test_o = df_c[df_c['ind'].eq('test')]\n",
        "train_o=df_c[df_c['ind'].eq('train')]"
      ],
      "execution_count": null,
      "outputs": []
    },
    {
      "cell_type": "code",
      "metadata": {
        "id": "kRkPTL4z0_Pv"
      },
      "source": [
        "col = ['age','interval','diagnose_year','treatment_year', 'diagnose_month','treatment_month','diagnose_day','treatment_day','radius_mean','texture_mean', 'perimeter_mean','cancer_type']\n",
        "df_h= train_o.loc[:, train_o.columns.isin(col)]"
      ],
      "execution_count": null,
      "outputs": []
    },
    {
      "cell_type": "code",
      "metadata": {
        "colab": {
          "base_uri": "https://localhost:8080/"
        },
        "id": "9dsbxKJC43zs",
        "outputId": "458088b0-3b98-4aae-8630-6d66aaa7c9ff"
      },
      "source": [
        "df_h.shape"
      ],
      "execution_count": null,
      "outputs": [
        {
          "output_type": "execute_result",
          "data": {
            "text/plain": [
              "(398, 12)"
            ]
          },
          "metadata": {
            "tags": []
          },
          "execution_count": 31
        }
      ]
    },
    {
      "cell_type": "code",
      "metadata": {
        "id": "0O2o0YRY1Ewc"
      },
      "source": [
        "df_h = df_h.replace((np.inf, -np.inf, np.nan), 0).reset_index(drop=True)"
      ],
      "execution_count": null,
      "outputs": []
    },
    {
      "cell_type": "code",
      "metadata": {
        "id": "Uj0LLyV3DUr7"
      },
      "source": [
        "df_h = df_h.replace((np.inf, -np.inf, np.nan), 0).reset_index(drop=True)"
      ],
      "execution_count": null,
      "outputs": []
    },
    {
      "cell_type": "code",
      "metadata": {
        "colab": {
          "base_uri": "https://localhost:8080/",
          "height": 434
        },
        "id": "Easf6Cy9CdaA",
        "outputId": "4088c630-a2d5-49c2-93b1-9e440aeb7040"
      },
      "source": [
        "# Transform to H2O Frame, and make sure the target variable is categorical\n",
        "h2o_df = H2OFrame(df_h)\n",
        "\n",
        "h2o_df['cancer_type'] = h2o_df['cancer_type'].asfactor()\n",
        "h2o_df['treatment_year'] = h2o_df['treatment_year'].asfactor()\n",
        "h2o_df['diagnose_year'] = h2o_df['diagnose_year'].asfactor()\n",
        "\n",
        "h2o_df['treatment_month'] = h2o_df['treatment_month'].asfactor()\n",
        "h2o_df['diagnose_month'] = h2o_df['diagnose_month'].asfactor()\n",
        "\n",
        "h2o_df['treatment_day'] = h2o_df['treatment_day'].asfactor()\n",
        "h2o_df['diagnose_day'] = h2o_df['diagnose_day'].asfactor()\n",
        "\n",
        "h2o_df.summary()"
      ],
      "execution_count": null,
      "outputs": [
        {
          "output_type": "stream",
          "text": [
            "Parse progress: |█████████████████████████████████████████████████████████| 100%\n"
          ],
          "name": "stdout"
        },
        {
          "output_type": "display_data",
          "data": {
            "text/html": [
              "<table>\n",
              "<thead>\n",
              "<tr><th>       </th><th>age               </th><th>cancer_type  </th><th>interval           </th><th>diagnose_year  </th><th>diagnose_month  </th><th>diagnose_day  </th><th>treatment_year  </th><th>treatment_month  </th><th>treatment_day  </th><th>radius_mean       </th><th>texture_mean      </th><th>perimeter_mean    </th></tr>\n",
              "</thead>\n",
              "<tbody>\n",
              "<tr><td>type   </td><td>int               </td><td>enum         </td><td>int                </td><td>enum           </td><td>enum            </td><td>enum          </td><td>enum            </td><td>enum             </td><td>enum           </td><td>real              </td><td>real              </td><td>real              </td></tr>\n",
              "<tr><td>mins   </td><td>18.0              </td><td>             </td><td>-2694.0            </td><td>               </td><td>                </td><td>              </td><td>                </td><td>                 </td><td>               </td><td>6.457870819693333 </td><td>8.847149087375    </td><td>44.736420411249995</td></tr>\n",
              "<tr><td>mean   </td><td>39.87688442211054 </td><td>             </td><td>-198.01507537688425</td><td>               </td><td>                </td><td>              </td><td>                </td><td>                 </td><td>               </td><td>14.149959671445911</td><td>16.579277108086917</td><td>92.45159539333049 </td></tr>\n",
              "<tr><td>maxs   </td><td>64.0              </td><td>             </td><td>2081.0             </td><td>               </td><td>                </td><td>              </td><td>                </td><td>                 </td><td>               </td><td>29.7932079468     </td><td>29.39177718655    </td><td>189.7373681205    </td></tr>\n",
              "<tr><td>sigma  </td><td>13.427195919801125</td><td>             </td><td>1055.4557408678259 </td><td>               </td><td>                </td><td>              </td><td>                </td><td>                 </td><td>               </td><td>3.582672960239878 </td><td>3.7859112315823333</td><td>25.139138642565726</td></tr>\n",
              "<tr><td>zeros  </td><td>0                 </td><td>             </td><td>0                  </td><td>               </td><td>                </td><td>              </td><td>                </td><td>                 </td><td>               </td><td>0                 </td><td>0                 </td><td>0                 </td></tr>\n",
              "<tr><td>missing</td><td>0                 </td><td>0            </td><td>0                  </td><td>0              </td><td>0               </td><td>0             </td><td>0               </td><td>0                </td><td>0              </td><td>0                 </td><td>0                 </td><td>0                 </td></tr>\n",
              "<tr><td>0      </td><td>44.0              </td><td>0            </td><td>223.0              </td><td>2005           </td><td>10              </td><td>23            </td><td>2006            </td><td>6                </td><td>3              </td><td>21.3395786903     </td><td>24.3407442492     </td><td>127.9240484085    </td></tr>\n",
              "<tr><td>1      </td><td>59.0              </td><td>1            </td><td>-1275.0            </td><td>2007           </td><td>8               </td><td>20            </td><td>2004            </td><td>2                </td><td>22             </td><td>14.412716978166666</td><td>15.383529711      </td><td>87.91402786225001 </td></tr>\n",
              "<tr><td>2      </td><td>37.0              </td><td>0            </td><td>517.0              </td><td>2004           </td><td>8               </td><td>7             </td><td>2006            </td><td>1                </td><td>6              </td><td>25.931895342133338</td><td>24.9274025588     </td><td>152.28106161899998</td></tr>\n",
              "<tr><td>3      </td><td>51.0              </td><td>1            </td><td>-794.0             </td><td>2005           </td><td>6               </td><td>16            </td><td>2003            </td><td>4                </td><td>14             </td><td>11.726322771433331</td><td>14.9517256311     </td><td>72.1785226268     </td></tr>\n",
              "<tr><td>4      </td><td>21.0              </td><td>1            </td><td>572.0              </td><td>2002           </td><td>11              </td><td>27            </td><td>2004            </td><td>6                </td><td>21             </td><td>14.062323033033332</td><td>15.2324360063     </td><td>94.12916072835    </td></tr>\n",
              "<tr><td>5      </td><td>27.0              </td><td>1            </td><td>1906.0             </td><td>2003           </td><td>4               </td><td>26            </td><td>2008            </td><td>7                </td><td>14             </td><td>11.4665267726     </td><td>17.6611926144     </td><td>71.90694390585    </td></tr>\n",
              "<tr><td>6      </td><td>51.0              </td><td>0            </td><td>762.0              </td><td>2005           </td><td>9               </td><td>21            </td><td>2007            </td><td>10               </td><td>23             </td><td>18.072505618066668</td><td>19.969846756050003</td><td>107.734026925     </td></tr>\n",
              "<tr><td>7      </td><td>40.0              </td><td>1            </td><td>-723.0             </td><td>2005           </td><td>4               </td><td>19            </td><td>2003            </td><td>4                </td><td>27             </td><td>14.639616439066666</td><td>21.50749773875    </td><td>79.9810978164     </td></tr>\n",
              "<tr><td>8      </td><td>43.0              </td><td>1            </td><td>-244.0             </td><td>2005           </td><td>11              </td><td>7             </td><td>2005            </td><td>3                </td><td>8              </td><td>13.3922932627     </td><td>14.29142571545    </td><td>85.1007487492     </td></tr>\n",
              "<tr><td>9      </td><td>50.0              </td><td>1            </td><td>-2175.0            </td><td>2006           </td><td>4               </td><td>7             </td><td>2000            </td><td>4                </td><td>23             </td><td>14.439091981966667</td><td>10.505396988205   </td><td>92.6334982652     </td></tr>\n",
              "</tbody>\n",
              "</table>"
            ]
          },
          "metadata": {
            "tags": []
          }
        }
      ]
    },
    {
      "cell_type": "code",
      "metadata": {
        "id": "-mDKGgJWFEiR"
      },
      "source": [
        "# Split into 80% training and 20% test dataset\n",
        "strat_split = h2o_df['cancer_type'].stratified_split(test_frac=0.20, seed=42)\n",
        "\n",
        "train = h2o_df[strat_split == 'train']\n",
        "test = h2o_df[strat_split == 'test']\n",
        "\n",
        "feature = ['age','interval','diagnose_year','treatment_year','diagnose_month','treatment_month','diagnose_day','treatment_day','radius_mean','texture_mean', 'perimeter_mean']\n",
        "\n",
        "#feature = ['age','interval','radius_mean','texture_mean', 'perimeter_mean']\n",
        "#feature = ['age','interval','radius_mean','texture_mean', 'perimeter_mean', 'diagnose_year','treatment_year']\n",
        "target = 'cancer_type'"
      ],
      "execution_count": null,
      "outputs": []
    },
    {
      "cell_type": "code",
      "metadata": {
        "colab": {
          "base_uri": "https://localhost:8080/"
        },
        "id": "4No-aBev5AT2",
        "outputId": "7a134a91-2448-4895-812c-89be2010212e"
      },
      "source": [
        "train.shape"
      ],
      "execution_count": null,
      "outputs": [
        {
          "output_type": "execute_result",
          "data": {
            "text/plain": [
              "(318, 12)"
            ]
          },
          "metadata": {
            "tags": []
          },
          "execution_count": 36
        }
      ]
    },
    {
      "cell_type": "code",
      "metadata": {
        "id": "TRejm45bFXK0"
      },
      "source": [
        "# Build random forest model\n",
        "#model = H2ORandomForestEstimator(balance_classes=True, ntrees=100, max_depth=20, nfolds =5,mtries=-1, seed=42, score_each_iteration=True, keep_cross_validation_predictions= True)\n",
        "#model.train(x=feature, y=target, training_frame=train)"
      ],
      "execution_count": null,
      "outputs": []
    },
    {
      "cell_type": "code",
      "metadata": {
        "id": "57xLd52bjEL1"
      },
      "source": [
        "#model.auc(xval=True)"
      ],
      "execution_count": null,
      "outputs": []
    },
    {
      "cell_type": "code",
      "metadata": {
        "id": "1Iyw1mDKje6Q"
      },
      "source": [
        "#model.F1(train=True, xval=True)"
      ],
      "execution_count": null,
      "outputs": []
    },
    {
      "cell_type": "code",
      "metadata": {
        "colab": {
          "base_uri": "https://localhost:8080/"
        },
        "id": "cwhcgx4Spbue",
        "outputId": "9a249d55-f30a-4539-f64d-82eca233e780"
      },
      "source": [
        "drf_hyper_params = {\n",
        "                \"ntrees\" : [i for i in range(5, 105,5)],\n",
        "                \"max_depth\": list(range(3, 21)),              \n",
        "                \"sample_rate\": [i * 0.1 for i in range(5, 10)]}\n",
        "grid_search_criteria = {\"strategy\": \"RandomDiscrete\", \n",
        "                        \"max_models\": 100, \n",
        "                        \"seed\": 12345}\n",
        "\n",
        "# Train and validate a random grid of GBMs\n",
        "model_rf_grid = H2OGridSearch(model=H2ORandomForestEstimator, \n",
        "                          hyper_params=drf_hyper_params,\n",
        "                          search_criteria=grid_search_criteria ,\n",
        "                          grid_id='model_rf_grid')\n",
        "\n",
        "model_rf_grid.train(x=feature, y=target, training_frame=train, seed=1)\n"
      ],
      "execution_count": null,
      "outputs": [
        {
          "output_type": "stream",
          "text": [
            "drf Grid Build progress: |████████████████████████████████████████████████| 100%\n"
          ],
          "name": "stdout"
        }
      ]
    },
    {
      "cell_type": "code",
      "metadata": {
        "colab": {
          "base_uri": "https://localhost:8080/"
        },
        "id": "_yiYNlERrhGT",
        "outputId": "0ad2ba2e-fa03-4aab-ec82-a6901da637f1"
      },
      "source": [
        "# Get the grid results, sorted by validation AUC\n",
        "model_rf_grid_2 = model_rf_grid.get_grid(sort_by='auc', decreasing=True)\n",
        "model_rf_grid_2"
      ],
      "execution_count": null,
      "outputs": [
        {
          "output_type": "stream",
          "text": [
            "     max_depth ntrees         sample_rate                model_ids  \\\n",
            "0            9     95  0.7000000000000001   model_rf_grid_model_87   \n",
            "1            7     45  0.7000000000000001   model_rf_grid_model_12   \n",
            "2           16     80  0.7000000000000001   model_rf_grid_model_23   \n",
            "3           17     80  0.7000000000000001   model_rf_grid_model_30   \n",
            "4           19     85  0.7000000000000001   model_rf_grid_model_94   \n",
            "5           10     95                 0.5   model_rf_grid_model_15   \n",
            "6            5     60  0.7000000000000001   model_rf_grid_model_22   \n",
            "7           15     95  0.6000000000000001   model_rf_grid_model_21   \n",
            "8           10     95  0.6000000000000001    model_rf_grid_model_8   \n",
            "9            8     90                 0.5   model_rf_grid_model_66   \n",
            "10          16     90                 0.5    model_rf_grid_model_3   \n",
            "11          11    100  0.6000000000000001   model_rf_grid_model_56   \n",
            "12          14     80                 0.5   model_rf_grid_model_37   \n",
            "13           8     95                 0.8   model_rf_grid_model_33   \n",
            "14          19     50  0.7000000000000001   model_rf_grid_model_80   \n",
            "15           5     85                 0.5  model_rf_grid_model_100   \n",
            "16          20     70  0.7000000000000001   model_rf_grid_model_29   \n",
            "17          19     70  0.7000000000000001   model_rf_grid_model_39   \n",
            "18           3     55                 0.8   model_rf_grid_model_41   \n",
            "19           6     85  0.6000000000000001   model_rf_grid_model_72   \n",
            "20          11     60  0.6000000000000001   model_rf_grid_model_13   \n",
            "21           4     55  0.7000000000000001   model_rf_grid_model_82   \n",
            "22          13     85  0.6000000000000001   model_rf_grid_model_55   \n",
            "23          18     60                 0.5    model_rf_grid_model_4   \n",
            "24          13     60                 0.5   model_rf_grid_model_95   \n",
            "25          19     70                 0.5   model_rf_grid_model_88   \n",
            "26          13     85                 0.8   model_rf_grid_model_68   \n",
            "27           6     40  0.7000000000000001   model_rf_grid_model_28   \n",
            "28          17     40  0.7000000000000001   model_rf_grid_model_58   \n",
            "29          19     65  0.6000000000000001   model_rf_grid_model_76   \n",
            "30          20     75                 0.5   model_rf_grid_model_11   \n",
            "31          13     65                 0.5   model_rf_grid_model_36   \n",
            "32           8     65                 0.5   model_rf_grid_model_46   \n",
            "33           5     40                 0.8    model_rf_grid_model_7   \n",
            "34           8     75                 0.8   model_rf_grid_model_25   \n",
            "35           3     85  0.6000000000000001   model_rf_grid_model_63   \n",
            "36           8     45  0.6000000000000001   model_rf_grid_model_81   \n",
            "37           3     60                 0.9   model_rf_grid_model_50   \n",
            "38           8     60                 0.8   model_rf_grid_model_32   \n",
            "39           4     70                 0.8   model_rf_grid_model_79   \n",
            "40          14     35                 0.5   model_rf_grid_model_52   \n",
            "41           4     75                 0.8   model_rf_grid_model_35   \n",
            "42          11     45                 0.5   model_rf_grid_model_98   \n",
            "43          16     25  0.7000000000000001   model_rf_grid_model_10   \n",
            "44          18     40                 0.5   model_rf_grid_model_71   \n",
            "45           6    100                 0.9   model_rf_grid_model_97   \n",
            "46           9     50                 0.5    model_rf_grid_model_5   \n",
            "47          14     50                 0.5   model_rf_grid_model_59   \n",
            "48           8     30                 0.8   model_rf_grid_model_16   \n",
            "49          17     45                 0.8   model_rf_grid_model_27   \n",
            "50          16     45                 0.8   model_rf_grid_model_51   \n",
            "51          19     45                 0.8   model_rf_grid_model_91   \n",
            "52          20     45                 0.8   model_rf_grid_model_96   \n",
            "53          17     40                 0.8   model_rf_grid_model_64   \n",
            "54           4     55                 0.8   model_rf_grid_model_18   \n",
            "55           6     40                 0.8   model_rf_grid_model_61   \n",
            "56           5     40                 0.9   model_rf_grid_model_40   \n",
            "57           5     30  0.6000000000000001    model_rf_grid_model_1   \n",
            "58           7     45                 0.8   model_rf_grid_model_60   \n",
            "59           8     55                 0.9   model_rf_grid_model_17   \n",
            "60           5     30                 0.5   model_rf_grid_model_85   \n",
            "61           8     70                 0.9   model_rf_grid_model_38   \n",
            "62          11     60                 0.9   model_rf_grid_model_20   \n",
            "63          17     55                 0.9   model_rf_grid_model_84   \n",
            "64          12     65                 0.9   model_rf_grid_model_75   \n",
            "65          14     70                 0.9   model_rf_grid_model_19   \n",
            "66          15     20  0.7000000000000001   model_rf_grid_model_62   \n",
            "67          14     20  0.7000000000000001   model_rf_grid_model_77   \n",
            "68          18     20  0.7000000000000001   model_rf_grid_model_90   \n",
            "69           9     15                 0.5   model_rf_grid_model_47   \n",
            "70          11     15                 0.5   model_rf_grid_model_74   \n",
            "71          17     20                 0.8   model_rf_grid_model_14   \n",
            "72           6     20  0.6000000000000001   model_rf_grid_model_89   \n",
            "73           7     20  0.6000000000000001   model_rf_grid_model_70   \n",
            "74           3     20                 0.5   model_rf_grid_model_78   \n",
            "75           9     35                 0.9   model_rf_grid_model_73   \n",
            "76          10     35                 0.9   model_rf_grid_model_86   \n",
            "77          17     10                 0.5    model_rf_grid_model_2   \n",
            "78          11     10                 0.5   model_rf_grid_model_24   \n",
            "79           6      5  0.7000000000000001   model_rf_grid_model_92   \n",
            "80           5      5                 0.8   model_rf_grid_model_54   \n",
            "81           9     30                 0.9   model_rf_grid_model_49   \n",
            "82          15     15                 0.8   model_rf_grid_model_26   \n",
            "83           9     15  0.6000000000000001   model_rf_grid_model_65   \n",
            "84           7     15                 0.8    model_rf_grid_model_6   \n",
            "85          12     10  0.7000000000000001   model_rf_grid_model_48   \n",
            "86          14     25                 0.9   model_rf_grid_model_43   \n",
            "87          13     25                 0.9   model_rf_grid_model_53   \n",
            "88          13      5                 0.8   model_rf_grid_model_57   \n",
            "89          17      5                 0.5   model_rf_grid_model_44   \n",
            "90          19     10  0.6000000000000001    model_rf_grid_model_9   \n",
            "91          15     10                 0.8   model_rf_grid_model_34   \n",
            "92          19     10                 0.8   model_rf_grid_model_69   \n",
            "93          20     10                 0.8   model_rf_grid_model_93   \n",
            "94           8     10                 0.8   model_rf_grid_model_83   \n",
            "95          19      5                 0.9   model_rf_grid_model_45   \n",
            "96          13     15                 0.9   model_rf_grid_model_42   \n",
            "97          10     15                 0.9   model_rf_grid_model_99   \n",
            "98           5     15                 0.9   model_rf_grid_model_67   \n",
            "99          13     10                 0.9   model_rf_grid_model_31   \n",
            "\n",
            "                   auc  \n",
            "0   0.9239194915254236  \n",
            "1    0.923114406779661  \n",
            "2    0.923114406779661  \n",
            "3    0.923114406779661  \n",
            "4   0.9229872881355932  \n",
            "5   0.9229661016949152  \n",
            "6   0.9228177966101695  \n",
            "7   0.9224152542372881  \n",
            "8   0.9224152542372881  \n",
            "9   0.9222669491525424  \n",
            "10  0.9222457627118644  \n",
            "11  0.9220550847457627  \n",
            "12  0.9217584745762711  \n",
            "13  0.9211864406779662  \n",
            "14  0.9209745762711864  \n",
            "15  0.9205296610169492  \n",
            "16  0.9203601694915254  \n",
            "17  0.9203601694915254  \n",
            "18  0.9202118644067796  \n",
            "19  0.9199364406779661  \n",
            "20  0.9198516949152543  \n",
            "21  0.9192796610169491  \n",
            "22  0.9192372881355932  \n",
            "23  0.9192161016949153  \n",
            "24  0.9192161016949153  \n",
            "25  0.9190677966101695  \n",
            "26  0.9190466101694915  \n",
            "27   0.918728813559322  \n",
            "28  0.9186864406779661  \n",
            "29  0.9183050847457627  \n",
            "30  0.9181567796610169  \n",
            "31  0.9177330508474577  \n",
            "32  0.9176059322033898  \n",
            "33  0.9174152542372881  \n",
            "34  0.9173516949152543  \n",
            "35  0.9167796610169492  \n",
            "36  0.9163135593220338  \n",
            "37   0.916063367685887  \n",
            "38  0.9155084745762712  \n",
            "39  0.9144491525423729  \n",
            "40  0.9141949152542372  \n",
            "41  0.9138135593220339  \n",
            "42  0.9132627118644068  \n",
            "43  0.9131991525423728  \n",
            "44  0.9129661016949153  \n",
            "45  0.9127754237288135  \n",
            "46  0.9121610169491526  \n",
            "47  0.9121610169491526  \n",
            "48  0.9120762711864406  \n",
            "49  0.9112288135593221  \n",
            "50  0.9112288135593221  \n",
            "51  0.9112288135593221  \n",
            "52  0.9112288135593221  \n",
            "53  0.9109957627118644  \n",
            "54  0.9109322033898305  \n",
            "55  0.9101271186440678  \n",
            "56  0.9100631361937894  \n",
            "57  0.9098940677966102  \n",
            "58  0.9095762711864407  \n",
            "59  0.9090580018737756  \n",
            "60  0.9083898305084745  \n",
            "61  0.9077754237288136  \n",
            "62  0.9075674985094966  \n",
            "63  0.9074397410782726  \n",
            "64  0.9073119836470488  \n",
            "65  0.9067796610169492  \n",
            "66  0.9052118644067796  \n",
            "67  0.9052118644067796  \n",
            "68  0.9052118644067796  \n",
            "69  0.9033050847457628  \n",
            "70  0.9033050847457628  \n",
            "71  0.9031363715127361  \n",
            "72  0.9022245762711865  \n",
            "73  0.9011228813559322  \n",
            "74  0.8980084745762712  \n",
            "75  0.8917723780596748  \n",
            "76  0.8917723780596748  \n",
            "77  0.8892584745762713  \n",
            "78  0.8892584745762713  \n",
            "79  0.8853395877378436  \n",
            "80  0.8851565806178587  \n",
            "81   0.882692843219159  \n",
            "82  0.8799269059955588  \n",
            "83  0.8766949152542373  \n",
            "84  0.8718541820873427  \n",
            "85   0.869623296820732  \n",
            "86  0.8654594069032572  \n",
            "87  0.8654594069032572  \n",
            "88  0.8564325010579772  \n",
            "89  0.8561426978818283  \n",
            "90  0.8547033898305085  \n",
            "91  0.8496598263178273  \n",
            "92  0.8496598263178273  \n",
            "93  0.8496598263178273  \n",
            "94  0.8481110680900492  \n",
            "95  0.8182182985553772  \n",
            "96  0.8154940119760479  \n",
            "97  0.8154940119760479  \n",
            "98  0.8081337325349301  \n",
            "99  0.7931496364332186  \n"
          ],
          "name": "stdout"
        },
        {
          "output_type": "execute_result",
          "data": {
            "text/plain": [
              ""
            ]
          },
          "metadata": {
            "tags": []
          },
          "execution_count": 41
        }
      ]
    },
    {
      "cell_type": "code",
      "metadata": {
        "colab": {
          "base_uri": "https://localhost:8080/"
        },
        "id": "c0IJvm6f3XyV",
        "outputId": "d04b92f8-db1e-495c-e28e-7593f20aa01b"
      },
      "source": [
        "best_rmf = model_rf_grid_2.models[0]\n",
        "best_rmf_perf2 = best_rmf.model_performance(test)\n",
        "best_rmf_perf2.auc()"
      ],
      "execution_count": null,
      "outputs": [
        {
          "output_type": "execute_result",
          "data": {
            "text/plain": [
              "0.9403333333333334"
            ]
          },
          "metadata": {
            "tags": []
          },
          "execution_count": 42
        }
      ]
    },
    {
      "cell_type": "code",
      "metadata": {
        "colab": {
          "base_uri": "https://localhost:8080/"
        },
        "id": "BcUD-RRM5nS4",
        "outputId": "a72987e8-ff65-44fe-ed70-3062b97d8a79"
      },
      "source": [
        "# Build random forest model\n",
        "model = H2ORandomForestEstimator(balance_classes=True, ntrees=95, max_depth=9,\n",
        "                                 nfolds =5,mtries=-1, seed=42, score_each_iteration=True, sample_rate =0.7, keep_cross_validation_predictions= True)\n",
        "model.train(x=feature, y=target, training_frame=train, validation_frame=test)"
      ],
      "execution_count": null,
      "outputs": [
        {
          "output_type": "stream",
          "text": [
            "drf Model Build progress: |███████████████████████████████████████████████| 100%\n"
          ],
          "name": "stdout"
        }
      ]
    },
    {
      "cell_type": "code",
      "metadata": {
        "colab": {
          "base_uri": "https://localhost:8080/",
          "height": 498
        },
        "id": "BbDW7qTyFiPt",
        "outputId": "4cf18fad-791b-426b-b544-f33a9c92923d"
      },
      "source": [
        "# Feature importance\n",
        "importance = model.varimp(use_pandas=True)\n",
        "\n",
        "fig, ax = plt.subplots(figsize=(10, 8))\n",
        "sns.barplot(x='scaled_importance', y='variable', data=importance)\n",
        "plt.show()"
      ],
      "execution_count": null,
      "outputs": [
        {
          "output_type": "display_data",
          "data": {
            "image/png": "[encoded data removed]",
            "text/plain": [
              "<Figure size 720x576 with 1 Axes>"
            ]
          },
          "metadata": {
            "tags": [],
            "needs_background": "light"
          }
        }
      ]
    },
    {
      "cell_type": "code",
      "metadata": {
        "colab": {
          "base_uri": "https://localhost:8080/"
        },
        "id": "TLDQambLFn39",
        "outputId": "e533041b-740d-47aa-91e6-f53c373a4c7e"
      },
      "source": [
        "# Make predictions\n",
        "train_true = train.as_data_frame()['cancer_type'].values\n",
        "test_true = test.as_data_frame()['cancer_type'].values\n",
        "train_pred = model.predict(train).as_data_frame()['p1'].values\n",
        "test_pred = model.predict(test).as_data_frame()['p1'].values\n",
        "\n",
        "train_fpr, train_tpr, _ = roc_curve(train_true, train_pred)\n",
        "test_fpr, test_tpr, _ = roc_curve(test_true, test_pred)\n",
        "\n",
        "train_auc = np.round(auc(train_fpr, train_tpr), 3)\n",
        "test_auc = np.round(auc(test_fpr, test_tpr), 3)"
      ],
      "execution_count": null,
      "outputs": [
        {
          "output_type": "stream",
          "text": [
            "drf prediction progress: |████████████████████████████████████████████████| 100%\n",
            "drf prediction progress: |████████████████████████████████████████████████| 100%\n"
          ],
          "name": "stdout"
        }
      ]
    },
    {
      "cell_type": "code",
      "metadata": {
        "id": "hB5WHIYY6UAi"
      },
      "source": [
        ""
      ],
      "execution_count": null,
      "outputs": []
    },
    {
      "cell_type": "code",
      "metadata": {
        "colab": {
          "base_uri": "https://localhost:8080/"
        },
        "id": "IVMduioCGZ0b",
        "outputId": "a55f8a54-42d2-4219-e0b7-815b25e27256"
      },
      "source": [
        "# Classification report\n",
        "print(classification_report(y_true=test_true, y_pred=(test_pred > 0.5).astype(int)))"
      ],
      "execution_count": null,
      "outputs": [
        {
          "output_type": "stream",
          "text": [
            "              precision    recall  f1-score   support\n",
            "\n",
            "           0       0.96      0.80      0.87        30\n",
            "           1       0.89      0.98      0.93        50\n",
            "\n",
            "    accuracy                           0.91        80\n",
            "   macro avg       0.93      0.89      0.90        80\n",
            "weighted avg       0.92      0.91      0.91        80\n",
            "\n"
          ],
          "name": "stdout"
        }
      ]
    },
    {
      "cell_type": "code",
      "metadata": {
        "colab": {
          "base_uri": "https://localhost:8080/",
          "height": 391
        },
        "id": "3gbE2xIeMmGA",
        "outputId": "24be4dcf-68ae-4b16-dd7e-613bee6fbb17"
      },
      "source": [
        "train_fpr = np.insert(train_fpr, 0, 0)\n",
        "train_tpr = np.insert(train_tpr, 0, 0)\n",
        "test_fpr = np.insert(test_fpr, 0, 0)\n",
        "test_tpr = np.insert(test_tpr, 0, 0)\n",
        "\n",
        "fig, ax = plt.subplots(figsize=(8, 6))\n",
        "ax.plot(train_fpr, train_tpr, label='Train AUC: ' + str(train_auc))\n",
        "ax.plot(test_fpr, test_tpr, label='Test AUC: ' + str(test_auc))\n",
        "ax.plot(train_fpr, train_fpr, 'k--', label='Chance Curve')\n",
        "ax.set_xlabel('False Positive Rate', fontsize=12)\n",
        "ax.set_ylabel('True Positive Rate', fontsize=12)\n",
        "ax.grid(True)\n",
        "ax.legend(fontsize=12)\n",
        "plt.show()"
      ],
      "execution_count": null,
      "outputs": [
        {
          "output_type": "display_data",
          "data": {
            "image/png": "[encoded data removed]",
            "text/plain": [
              "<Figure size 576x432 with 1 Axes>"
            ]
          },
          "metadata": {
            "tags": [],
            "needs_background": "light"
          }
        }
      ]
    },
    {
      "cell_type": "code",
      "metadata": {
        "id": "Xu-bkjhqGroh",
        "colab": {
          "base_uri": "https://localhost:8080/",
          "height": 904
        },
        "outputId": "234e2059-f401-4fe8-cbfb-31126f6f2ae5"
      },
      "source": [
        "col = ['age','interval','diagnose_year','treatment_year', 'diagnose_month','treatment_month','diagnose_day','treatment_day','radius_mean','texture_mean', 'perimeter_mean']\n",
        "col=['radius_mean','texture_mean', 'perimeter_mean']\n",
        "_ = model.partial_plot(train, cols=col, figsize=(8, 12))"
      ],
      "execution_count": null,
      "outputs": [
        {
          "output_type": "stream",
          "text": [
            "PartialDependencePlot progress: |█████████████████████████████████████████| 100%\n"
          ],
          "name": "stdout"
        },
        {
          "output_type": "display_data",
          "data": {
            "image/png": "[encoded data removed]",
            "text/plain": [
              "<Figure size 576x864 with 3 Axes>"
            ]
          },
          "metadata": {
            "tags": [],
            "needs_background": "light"
          }
        }
      ]
    },
    {
      "cell_type": "code",
      "metadata": {
        "colab": {
          "base_uri": "https://localhost:8080/",
          "height": 616
        },
        "id": "arQwGNqOP63s",
        "outputId": "b63aa956-9382-4f39-ddc5-c91b60a12947"
      },
      "source": [
        "col = ['age','interval','diagnose_year','treatment_year', 'diagnose_month','treatment_month','diagnose_day','treatment_day','radius_mean','texture_mean', 'perimeter_mean']\n",
        "col=['age','interval']\n",
        "_ = model.partial_plot(train, cols=col, figsize=(8, 8))"
      ],
      "execution_count": null,
      "outputs": [
        {
          "output_type": "stream",
          "text": [
            "PartialDependencePlot progress: |█████████████████████████████████████████| 100%\n"
          ],
          "name": "stdout"
        },
        {
          "output_type": "display_data",
          "data": {
            "image/png": "[encoded data removed]",
            "text/plain": [
              "<Figure size 576x576 with 2 Axes>"
            ]
          },
          "metadata": {
            "tags": [],
            "needs_background": "light"
          }
        }
      ]
    },
    {
      "cell_type": "code",
      "metadata": {
        "id": "7IDb31vWOykQ",
        "colab": {
          "base_uri": "https://localhost:8080/",
          "height": 1000
        },
        "outputId": "6e303460-c6e0-44b3-bfd0-6061fc3506fa"
      },
      "source": [
        "col = ['age','interval','diagnose_year','treatment_year', 'diagnose_month','treatment_month','diagnose_day','treatment_day','radius_mean','texture_mean', 'perimeter_mean']\n",
        "col=['diagnose_year','treatment_year', 'diagnose_month','treatment_month']\n",
        "_ = model.partial_plot(train, cols=col, figsize=(8, 15))"
      ],
      "execution_count": null,
      "outputs": [
        {
          "output_type": "stream",
          "text": [
            "PartialDependencePlot progress: |█████████████████████████████████████████| 100%\n"
          ],
          "name": "stdout"
        },
        {
          "output_type": "display_data",
          "data": {
            "image/png": "[encoded data removed]",
            "text/plain": [
              "<Figure size 576x1080 with 4 Axes>"
            ]
          },
          "metadata": {
            "tags": [],
            "needs_background": "light"
          }
        }
      ]
    },
    {
      "cell_type": "code",
      "metadata": {
        "id": "ChJTS0Vy5P7_"
      },
      "source": [
        ""
      ],
      "execution_count": null,
      "outputs": []
    },
    {
      "cell_type": "code",
      "metadata": {
        "id": "OFRCTojHpQgd",
        "colab": {
          "base_uri": "https://localhost:8080/",
          "height": 176
        },
        "outputId": "df78242b-7f2f-4f63-e9d7-2848c801e4aa"
      },
      "source": [
        "model.confusion_matrix(valid=True)"
      ],
      "execution_count": null,
      "outputs": [
        {
          "output_type": "stream",
          "text": [
            "\n",
            "Confusion Matrix (Act/Pred) for max f1 @ threshold = 0.5695209251101322: \n"
          ],
          "name": "stdout"
        },
        {
          "output_type": "display_data",
          "data": {
            "text/html": [
              "<div>\n",
              "<style scoped>\n",
              "    .dataframe tbody tr th:only-of-type {\n",
              "        vertical-align: middle;\n",
              "    }\n",
              "\n",
              "    .dataframe tbody tr th {\n",
              "        vertical-align: top;\n",
              "    }\n",
              "\n",
              "    .dataframe thead th {\n",
              "        text-align: right;\n",
              "    }\n",
              "</style>\n",
              "<table border=\"1\" class=\"dataframe\">\n",
              "  <thead>\n",
              "    <tr style=\"text-align: right;\">\n",
              "      <th></th>\n",
              "      <th></th>\n",
              "      <th>0</th>\n",
              "      <th>1</th>\n",
              "      <th>Error</th>\n",
              "      <th>Rate</th>\n",
              "    </tr>\n",
              "  </thead>\n",
              "  <tbody>\n",
              "    <tr>\n",
              "      <th>0</th>\n",
              "      <td>0</td>\n",
              "      <td>24.0</td>\n",
              "      <td>6.0</td>\n",
              "      <td>0.2</td>\n",
              "      <td>(6.0/30.0)</td>\n",
              "    </tr>\n",
              "    <tr>\n",
              "      <th>1</th>\n",
              "      <td>1</td>\n",
              "      <td>1.0</td>\n",
              "      <td>49.0</td>\n",
              "      <td>0.02</td>\n",
              "      <td>(1.0/50.0)</td>\n",
              "    </tr>\n",
              "    <tr>\n",
              "      <th>2</th>\n",
              "      <td>Total</td>\n",
              "      <td>25.0</td>\n",
              "      <td>55.0</td>\n",
              "      <td>0.0875</td>\n",
              "      <td>(7.0/80.0)</td>\n",
              "    </tr>\n",
              "  </tbody>\n",
              "</table>\n",
              "</div>"
            ],
            "text/plain": [
              "             0     1   Error         Rate\n",
              "0      0  24.0   6.0     0.2   (6.0/30.0)\n",
              "1      1   1.0  49.0    0.02   (1.0/50.0)\n",
              "2  Total  25.0  55.0  0.0875   (7.0/80.0)"
            ]
          },
          "metadata": {
            "tags": []
          }
        },
        {
          "output_type": "execute_result",
          "data": {
            "text/plain": [
              ""
            ]
          },
          "metadata": {
            "tags": []
          },
          "execution_count": 70
        }
      ]
    },
    {
      "cell_type": "code",
      "metadata": {
        "colab": {
          "base_uri": "https://localhost:8080/",
          "height": 176
        },
        "id": "wis7mWnk4R2-",
        "outputId": "cd3cd39d-97f8-40dd-f1be-284089bf463b"
      },
      "source": [
        "model.confusion_matrix()"
      ],
      "execution_count": null,
      "outputs": [
        {
          "output_type": "stream",
          "text": [
            "\n",
            "Confusion Matrix (Act/Pred) for max f1 @ threshold = 0.5504191008382017: \n"
          ],
          "name": "stdout"
        },
        {
          "output_type": "display_data",
          "data": {
            "text/html": [
              "<div>\n",
              "<style scoped>\n",
              "    .dataframe tbody tr th:only-of-type {\n",
              "        vertical-align: middle;\n",
              "    }\n",
              "\n",
              "    .dataframe tbody tr th {\n",
              "        vertical-align: top;\n",
              "    }\n",
              "\n",
              "    .dataframe thead th {\n",
              "        text-align: right;\n",
              "    }\n",
              "</style>\n",
              "<table border=\"1\" class=\"dataframe\">\n",
              "  <thead>\n",
              "    <tr style=\"text-align: right;\">\n",
              "      <th></th>\n",
              "      <th></th>\n",
              "      <th>0</th>\n",
              "      <th>1</th>\n",
              "      <th>Error</th>\n",
              "      <th>Rate</th>\n",
              "    </tr>\n",
              "  </thead>\n",
              "  <tbody>\n",
              "    <tr>\n",
              "      <th>0</th>\n",
              "      <td>0</td>\n",
              "      <td>189.0</td>\n",
              "      <td>8.0</td>\n",
              "      <td>0.0406</td>\n",
              "      <td>(8.0/197.0)</td>\n",
              "    </tr>\n",
              "    <tr>\n",
              "      <th>1</th>\n",
              "      <td>1</td>\n",
              "      <td>10.0</td>\n",
              "      <td>190.0</td>\n",
              "      <td>0.05</td>\n",
              "      <td>(10.0/200.0)</td>\n",
              "    </tr>\n",
              "    <tr>\n",
              "      <th>2</th>\n",
              "      <td>Total</td>\n",
              "      <td>199.0</td>\n",
              "      <td>198.0</td>\n",
              "      <td>0.0453</td>\n",
              "      <td>(18.0/397.0)</td>\n",
              "    </tr>\n",
              "  </tbody>\n",
              "</table>\n",
              "</div>"
            ],
            "text/plain": [
              "              0      1   Error           Rate\n",
              "0      0  189.0    8.0  0.0406    (8.0/197.0)\n",
              "1      1   10.0  190.0    0.05   (10.0/200.0)\n",
              "2  Total  199.0  198.0  0.0453   (18.0/397.0)"
            ]
          },
          "metadata": {
            "tags": []
          }
        },
        {
          "output_type": "execute_result",
          "data": {
            "text/plain": [
              ""
            ]
          },
          "metadata": {
            "tags": []
          },
          "execution_count": 71
        }
      ]
    },
    {
      "cell_type": "code",
      "metadata": {
        "colab": {
          "base_uri": "https://localhost:8080/",
          "height": 317
        },
        "id": "xMyQ6wSJGRoc",
        "outputId": "68891492-c603-4d0b-f17c-d0c7225eab6b"
      },
      "source": [
        "test_o.describe()"
      ],
      "execution_count": null,
      "outputs": [
        {
          "output_type": "execute_result",
          "data": {
            "text/html": [
              "<div>\n",
              "<style scoped>\n",
              "    .dataframe tbody tr th:only-of-type {\n",
              "        vertical-align: middle;\n",
              "    }\n",
              "\n",
              "    .dataframe tbody tr th {\n",
              "        vertical-align: top;\n",
              "    }\n",
              "\n",
              "    .dataframe thead th {\n",
              "        text-align: right;\n",
              "    }\n",
              "</style>\n",
              "<table border=\"1\" class=\"dataframe\">\n",
              "  <thead>\n",
              "    <tr style=\"text-align: right;\">\n",
              "      <th></th>\n",
              "      <th>radius_0</th>\n",
              "      <th>texture_0</th>\n",
              "      <th>perimeter_0</th>\n",
              "      <th>radius_1</th>\n",
              "      <th>perimeter_1</th>\n",
              "      <th>radius_2</th>\n",
              "      <th>texture_2</th>\n",
              "      <th>age</th>\n",
              "      <th>cancer_type</th>\n",
              "      <th>interval</th>\n",
              "      <th>diagnose_year</th>\n",
              "      <th>diagnose_month</th>\n",
              "      <th>diagnose_day</th>\n",
              "      <th>treatment_year</th>\n",
              "      <th>treatment_month</th>\n",
              "      <th>treatment_day</th>\n",
              "      <th>radius_mean</th>\n",
              "      <th>texture_mean</th>\n",
              "      <th>perimeter_mean</th>\n",
              "    </tr>\n",
              "  </thead>\n",
              "  <tbody>\n",
              "    <tr>\n",
              "      <th>count</th>\n",
              "      <td>165.000000</td>\n",
              "      <td>171.000000</td>\n",
              "      <td>171.000000</td>\n",
              "      <td>146.000000</td>\n",
              "      <td>105.000000</td>\n",
              "      <td>171.000000</td>\n",
              "      <td>159.000000</td>\n",
              "      <td>171.000000</td>\n",
              "      <td>0.0</td>\n",
              "      <td>171.000000</td>\n",
              "      <td>171.000000</td>\n",
              "      <td>171.000000</td>\n",
              "      <td>171.000000</td>\n",
              "      <td>171.000000</td>\n",
              "      <td>171.000000</td>\n",
              "      <td>171.000000</td>\n",
              "      <td>171.000000</td>\n",
              "      <td>171.000000</td>\n",
              "      <td>171.000000</td>\n",
              "    </tr>\n",
              "    <tr>\n",
              "      <th>mean</th>\n",
              "      <td>14.101021</td>\n",
              "      <td>19.565268</td>\n",
              "      <td>92.177116</td>\n",
              "      <td>13.985507</td>\n",
              "      <td>91.929494</td>\n",
              "      <td>14.085298</td>\n",
              "      <td>19.964179</td>\n",
              "      <td>40.304094</td>\n",
              "      <td>NaN</td>\n",
              "      <td>-154.730994</td>\n",
              "      <td>2004.461988</td>\n",
              "      <td>5.701754</td>\n",
              "      <td>13.923977</td>\n",
              "      <td>2004.005848</td>\n",
              "      <td>6.064327</td>\n",
              "      <td>14.596491</td>\n",
              "      <td>14.033302</td>\n",
              "      <td>16.825283</td>\n",
              "      <td>92.014561</td>\n",
              "    </tr>\n",
              "    <tr>\n",
              "      <th>std</th>\n",
              "      <td>3.851041</td>\n",
              "      <td>5.918424</td>\n",
              "      <td>28.292383</td>\n",
              "      <td>4.228770</td>\n",
              "      <td>23.758273</td>\n",
              "      <td>3.872846</td>\n",
              "      <td>6.921250</td>\n",
              "      <td>13.461970</td>\n",
              "      <td>NaN</td>\n",
              "      <td>1107.362908</td>\n",
              "      <td>1.480268</td>\n",
              "      <td>3.117115</td>\n",
              "      <td>8.179606</td>\n",
              "      <td>2.563309</td>\n",
              "      <td>3.331042</td>\n",
              "      <td>7.412691</td>\n",
              "      <td>3.780599</td>\n",
              "      <td>3.989627</td>\n",
              "      <td>27.299476</td>\n",
              "    </tr>\n",
              "    <tr>\n",
              "      <th>min</th>\n",
              "      <td>5.778161</td>\n",
              "      <td>6.459678</td>\n",
              "      <td>41.982155</td>\n",
              "      <td>7.739962</td>\n",
              "      <td>47.589153</td>\n",
              "      <td>5.429977</td>\n",
              "      <td>6.052493</td>\n",
              "      <td>18.000000</td>\n",
              "      <td>NaN</td>\n",
              "      <td>-2618.000000</td>\n",
              "      <td>2002.000000</td>\n",
              "      <td>1.000000</td>\n",
              "      <td>1.000000</td>\n",
              "      <td>2000.000000</td>\n",
              "      <td>1.000000</td>\n",
              "      <td>1.000000</td>\n",
              "      <td>6.476480</td>\n",
              "      <td>9.191554</td>\n",
              "      <td>41.982155</td>\n",
              "    </tr>\n",
              "    <tr>\n",
              "      <th>25%</th>\n",
              "      <td>11.734946</td>\n",
              "      <td>15.073701</td>\n",
              "      <td>73.821579</td>\n",
              "      <td>11.244488</td>\n",
              "      <td>74.152334</td>\n",
              "      <td>11.636549</td>\n",
              "      <td>14.945064</td>\n",
              "      <td>29.500000</td>\n",
              "      <td>NaN</td>\n",
              "      <td>-920.000000</td>\n",
              "      <td>2003.000000</td>\n",
              "      <td>3.000000</td>\n",
              "      <td>6.500000</td>\n",
              "      <td>2002.000000</td>\n",
              "      <td>3.000000</td>\n",
              "      <td>9.000000</td>\n",
              "      <td>11.587912</td>\n",
              "      <td>14.015322</td>\n",
              "      <td>73.980077</td>\n",
              "    </tr>\n",
              "    <tr>\n",
              "      <th>50%</th>\n",
              "      <td>13.220134</td>\n",
              "      <td>18.657451</td>\n",
              "      <td>85.976442</td>\n",
              "      <td>12.987781</td>\n",
              "      <td>86.636101</td>\n",
              "      <td>13.236187</td>\n",
              "      <td>19.061876</td>\n",
              "      <td>39.000000</td>\n",
              "      <td>NaN</td>\n",
              "      <td>-200.000000</td>\n",
              "      <td>2004.000000</td>\n",
              "      <td>5.000000</td>\n",
              "      <td>14.000000</td>\n",
              "      <td>2004.000000</td>\n",
              "      <td>6.000000</td>\n",
              "      <td>15.000000</td>\n",
              "      <td>13.294139</td>\n",
              "      <td>16.448840</td>\n",
              "      <td>86.483692</td>\n",
              "    </tr>\n",
              "    <tr>\n",
              "      <th>75%</th>\n",
              "      <td>15.532964</td>\n",
              "      <td>23.360099</td>\n",
              "      <td>104.072392</td>\n",
              "      <td>15.160500</td>\n",
              "      <td>107.123243</td>\n",
              "      <td>15.848764</td>\n",
              "      <td>24.319590</td>\n",
              "      <td>52.000000</td>\n",
              "      <td>NaN</td>\n",
              "      <td>591.500000</td>\n",
              "      <td>2006.000000</td>\n",
              "      <td>8.000000</td>\n",
              "      <td>21.000000</td>\n",
              "      <td>2006.000000</td>\n",
              "      <td>9.000000</td>\n",
              "      <td>21.000000</td>\n",
              "      <td>15.073391</td>\n",
              "      <td>18.876034</td>\n",
              "      <td>101.968966</td>\n",
              "    </tr>\n",
              "    <tr>\n",
              "      <th>max</th>\n",
              "      <td>26.526218</td>\n",
              "      <td>36.070789</td>\n",
              "      <td>252.398799</td>\n",
              "      <td>30.940587</td>\n",
              "      <td>152.465833</td>\n",
              "      <td>27.455754</td>\n",
              "      <td>43.773739</td>\n",
              "      <td>64.000000</td>\n",
              "      <td>NaN</td>\n",
              "      <td>2285.000000</td>\n",
              "      <td>2007.000000</td>\n",
              "      <td>11.000000</td>\n",
              "      <td>27.000000</td>\n",
              "      <td>2008.000000</td>\n",
              "      <td>11.000000</td>\n",
              "      <td>27.000000</td>\n",
              "      <td>26.959052</td>\n",
              "      <td>29.300265</td>\n",
              "      <td>252.398799</td>\n",
              "    </tr>\n",
              "  </tbody>\n",
              "</table>\n",
              "</div>"
            ],
            "text/plain": [
              "         radius_0   texture_0  perimeter_0    radius_1  perimeter_1  \\\n",
              "count  165.000000  171.000000   171.000000  146.000000   105.000000   \n",
              "mean    14.101021   19.565268    92.177116   13.985507    91.929494   \n",
              "std      3.851041    5.918424    28.292383    4.228770    23.758273   \n",
              "min      5.778161    6.459678    41.982155    7.739962    47.589153   \n",
              "25%     11.734946   15.073701    73.821579   11.244488    74.152334   \n",
              "50%     13.220134   18.657451    85.976442   12.987781    86.636101   \n",
              "75%     15.532964   23.360099   104.072392   15.160500   107.123243   \n",
              "max     26.526218   36.070789   252.398799   30.940587   152.465833   \n",
              "\n",
              "         radius_2   texture_2         age  cancer_type     interval  \\\n",
              "count  171.000000  159.000000  171.000000          0.0   171.000000   \n",
              "mean    14.085298   19.964179   40.304094          NaN  -154.730994   \n",
              "std      3.872846    6.921250   13.461970          NaN  1107.362908   \n",
              "min      5.429977    6.052493   18.000000          NaN -2618.000000   \n",
              "25%     11.636549   14.945064   29.500000          NaN  -920.000000   \n",
              "50%     13.236187   19.061876   39.000000          NaN  -200.000000   \n",
              "75%     15.848764   24.319590   52.000000          NaN   591.500000   \n",
              "max     27.455754   43.773739   64.000000          NaN  2285.000000   \n",
              "\n",
              "       diagnose_year  diagnose_month  diagnose_day  treatment_year  \\\n",
              "count     171.000000      171.000000    171.000000      171.000000   \n",
              "mean     2004.461988        5.701754     13.923977     2004.005848   \n",
              "std         1.480268        3.117115      8.179606        2.563309   \n",
              "min      2002.000000        1.000000      1.000000     2000.000000   \n",
              "25%      2003.000000        3.000000      6.500000     2002.000000   \n",
              "50%      2004.000000        5.000000     14.000000     2004.000000   \n",
              "75%      2006.000000        8.000000     21.000000     2006.000000   \n",
              "max      2007.000000       11.000000     27.000000     2008.000000   \n",
              "\n",
              "       treatment_month  treatment_day  radius_mean  texture_mean  \\\n",
              "count       171.000000     171.000000   171.000000    171.000000   \n",
              "mean          6.064327      14.596491    14.033302     16.825283   \n",
              "std           3.331042       7.412691     3.780599      3.989627   \n",
              "min           1.000000       1.000000     6.476480      9.191554   \n",
              "25%           3.000000       9.000000    11.587912     14.015322   \n",
              "50%           6.000000      15.000000    13.294139     16.448840   \n",
              "75%           9.000000      21.000000    15.073391     18.876034   \n",
              "max          11.000000      27.000000    26.959052     29.300265   \n",
              "\n",
              "       perimeter_mean  \n",
              "count      171.000000  \n",
              "mean        92.014561  \n",
              "std         27.299476  \n",
              "min         41.982155  \n",
              "25%         73.980077  \n",
              "50%         86.483692  \n",
              "75%        101.968966  \n",
              "max        252.398799  "
            ]
          },
          "metadata": {
            "tags": []
          },
          "execution_count": 74
        }
      ]
    },
    {
      "cell_type": "code",
      "metadata": {
        "id": "cpT6PIw2IBUQ"
      },
      "source": [
        "col = ['age','interval','diagnose_year','treatment_year', 'diagnose_month','treatment_month','diagnose_day','treatment_day','radius_mean','texture_mean', 'perimeter_mean']\n",
        "df_test_o= test_o.loc[:, test_o.columns.isin(col)]"
      ],
      "execution_count": null,
      "outputs": []
    },
    {
      "cell_type": "code",
      "metadata": {
        "colab": {
          "base_uri": "https://localhost:8080/",
          "height": 224
        },
        "id": "EVAC90T5IVRi",
        "outputId": "ee535098-4c49-4585-ca0f-158d24b6a659"
      },
      "source": [
        "df_test_o.head()"
      ],
      "execution_count": null,
      "outputs": [
        {
          "output_type": "execute_result",
          "data": {
            "text/html": [
              "<div>\n",
              "<style scoped>\n",
              "    .dataframe tbody tr th:only-of-type {\n",
              "        vertical-align: middle;\n",
              "    }\n",
              "\n",
              "    .dataframe tbody tr th {\n",
              "        vertical-align: top;\n",
              "    }\n",
              "\n",
              "    .dataframe thead th {\n",
              "        text-align: right;\n",
              "    }\n",
              "</style>\n",
              "<table border=\"1\" class=\"dataframe\">\n",
              "  <thead>\n",
              "    <tr style=\"text-align: right;\">\n",
              "      <th></th>\n",
              "      <th>age</th>\n",
              "      <th>interval</th>\n",
              "      <th>diagnose_year</th>\n",
              "      <th>diagnose_month</th>\n",
              "      <th>diagnose_day</th>\n",
              "      <th>treatment_year</th>\n",
              "      <th>treatment_month</th>\n",
              "      <th>treatment_day</th>\n",
              "      <th>radius_mean</th>\n",
              "      <th>texture_mean</th>\n",
              "      <th>perimeter_mean</th>\n",
              "    </tr>\n",
              "  </thead>\n",
              "  <tbody>\n",
              "    <tr>\n",
              "      <th>398</th>\n",
              "      <td>31</td>\n",
              "      <td>2038</td>\n",
              "      <td>2003</td>\n",
              "      <td>4</td>\n",
              "      <td>22</td>\n",
              "      <td>2008</td>\n",
              "      <td>11</td>\n",
              "      <td>19</td>\n",
              "      <td>11.956118</td>\n",
              "      <td>13.044218</td>\n",
              "      <td>77.106898</td>\n",
              "    </tr>\n",
              "    <tr>\n",
              "      <th>399</th>\n",
              "      <td>18</td>\n",
              "      <td>-688</td>\n",
              "      <td>2003</td>\n",
              "      <td>7</td>\n",
              "      <td>7</td>\n",
              "      <td>2001</td>\n",
              "      <td>8</td>\n",
              "      <td>18</td>\n",
              "      <td>13.327773</td>\n",
              "      <td>16.711268</td>\n",
              "      <td>84.005462</td>\n",
              "    </tr>\n",
              "    <tr>\n",
              "      <th>400</th>\n",
              "      <td>43</td>\n",
              "      <td>986</td>\n",
              "      <td>2004</td>\n",
              "      <td>3</td>\n",
              "      <td>6</td>\n",
              "      <td>2006</td>\n",
              "      <td>11</td>\n",
              "      <td>17</td>\n",
              "      <td>14.767967</td>\n",
              "      <td>20.436229</td>\n",
              "      <td>90.977022</td>\n",
              "    </tr>\n",
              "    <tr>\n",
              "      <th>401</th>\n",
              "      <td>57</td>\n",
              "      <td>-1871</td>\n",
              "      <td>2006</td>\n",
              "      <td>2</td>\n",
              "      <td>24</td>\n",
              "      <td>2001</td>\n",
              "      <td>1</td>\n",
              "      <td>10</td>\n",
              "      <td>14.848593</td>\n",
              "      <td>21.464332</td>\n",
              "      <td>83.032790</td>\n",
              "    </tr>\n",
              "    <tr>\n",
              "      <th>402</th>\n",
              "      <td>26</td>\n",
              "      <td>1482</td>\n",
              "      <td>2004</td>\n",
              "      <td>6</td>\n",
              "      <td>21</td>\n",
              "      <td>2008</td>\n",
              "      <td>7</td>\n",
              "      <td>12</td>\n",
              "      <td>9.191477</td>\n",
              "      <td>11.683456</td>\n",
              "      <td>51.583375</td>\n",
              "    </tr>\n",
              "  </tbody>\n",
              "</table>\n",
              "</div>"
            ],
            "text/plain": [
              "     age  interval  diagnose_year  diagnose_month  diagnose_day  \\\n",
              "398   31      2038           2003               4            22   \n",
              "399   18      -688           2003               7             7   \n",
              "400   43       986           2004               3             6   \n",
              "401   57     -1871           2006               2            24   \n",
              "402   26      1482           2004               6            21   \n",
              "\n",
              "     treatment_year  treatment_month  treatment_day  radius_mean  \\\n",
              "398            2008               11             19    11.956118   \n",
              "399            2001                8             18    13.327773   \n",
              "400            2006               11             17    14.767967   \n",
              "401            2001                1             10    14.848593   \n",
              "402            2008                7             12     9.191477   \n",
              "\n",
              "     texture_mean  perimeter_mean  \n",
              "398     13.044218       77.106898  \n",
              "399     16.711268       84.005462  \n",
              "400     20.436229       90.977022  \n",
              "401     21.464332       83.032790  \n",
              "402     11.683456       51.583375  "
            ]
          },
          "metadata": {
            "tags": []
          },
          "execution_count": 79
        }
      ]
    },
    {
      "cell_type": "code",
      "metadata": {
        "colab": {
          "base_uri": "https://localhost:8080/"
        },
        "id": "0UpFiP3eE3HJ",
        "outputId": "61e5c217-17c1-474d-ebf7-f0a48ef6a431"
      },
      "source": [
        "h2o_test_o = H2OFrame(df_test_o)\n",
        "pred_test=model.predict(h2o_test_o) "
      ],
      "execution_count": null,
      "outputs": [
        {
          "output_type": "stream",
          "text": [
            "Parse progress: |█████████████████████████████████████████████████████████| 100%\n",
            "drf prediction progress: |████████████████████████████████████████████████| 100%\n"
          ],
          "name": "stdout"
        }
      ]
    },
    {
      "cell_type": "code",
      "metadata": {
        "id": "yDkAAzHBIqZU"
      },
      "source": [
        "y_pred_final=pred_test.as_data_frame()['predict']"
      ],
      "execution_count": null,
      "outputs": []
    },
    {
      "cell_type": "code",
      "metadata": {
        "id": "MeBA07e0JBh7"
      },
      "source": [
        "df_predict = pd.DataFrame(y_pred_final)"
      ],
      "execution_count": null,
      "outputs": []
    },
    {
      "cell_type": "code",
      "metadata": {
        "colab": {
          "base_uri": "https://localhost:8080/",
          "height": 1000
        },
        "id": "4MpPP7CvJDAO",
        "outputId": "489e496c-5a85-401e-eaf6-a90d36ea7ef4"
      },
      "source": [
        "df_predict"
      ],
      "execution_count": null,
      "outputs": [
        {
          "output_type": "execute_result",
          "data": {
            "text/html": [
              "<div>\n",
              "<style scoped>\n",
              "    .dataframe tbody tr th:only-of-type {\n",
              "        vertical-align: middle;\n",
              "    }\n",
              "\n",
              "    .dataframe tbody tr th {\n",
              "        vertical-align: top;\n",
              "    }\n",
              "\n",
              "    .dataframe thead th {\n",
              "        text-align: right;\n",
              "    }\n",
              "</style>\n",
              "<table border=\"1\" class=\"dataframe\">\n",
              "  <thead>\n",
              "    <tr style=\"text-align: right;\">\n",
              "      <th></th>\n",
              "      <th>predict</th>\n",
              "    </tr>\n",
              "  </thead>\n",
              "  <tbody>\n",
              "    <tr>\n",
              "      <th>0</th>\n",
              "      <td>1</td>\n",
              "    </tr>\n",
              "    <tr>\n",
              "      <th>1</th>\n",
              "      <td>1</td>\n",
              "    </tr>\n",
              "    <tr>\n",
              "      <th>2</th>\n",
              "      <td>0</td>\n",
              "    </tr>\n",
              "    <tr>\n",
              "      <th>3</th>\n",
              "      <td>0</td>\n",
              "    </tr>\n",
              "    <tr>\n",
              "      <th>4</th>\n",
              "      <td>1</td>\n",
              "    </tr>\n",
              "    <tr>\n",
              "      <th>5</th>\n",
              "      <td>0</td>\n",
              "    </tr>\n",
              "    <tr>\n",
              "      <th>6</th>\n",
              "      <td>1</td>\n",
              "    </tr>\n",
              "    <tr>\n",
              "      <th>7</th>\n",
              "      <td>1</td>\n",
              "    </tr>\n",
              "    <tr>\n",
              "      <th>8</th>\n",
              "      <td>1</td>\n",
              "    </tr>\n",
              "    <tr>\n",
              "      <th>9</th>\n",
              "      <td>1</td>\n",
              "    </tr>\n",
              "    <tr>\n",
              "      <th>10</th>\n",
              "      <td>1</td>\n",
              "    </tr>\n",
              "    <tr>\n",
              "      <th>11</th>\n",
              "      <td>1</td>\n",
              "    </tr>\n",
              "    <tr>\n",
              "      <th>12</th>\n",
              "      <td>0</td>\n",
              "    </tr>\n",
              "    <tr>\n",
              "      <th>13</th>\n",
              "      <td>1</td>\n",
              "    </tr>\n",
              "    <tr>\n",
              "      <th>14</th>\n",
              "      <td>1</td>\n",
              "    </tr>\n",
              "    <tr>\n",
              "      <th>15</th>\n",
              "      <td>1</td>\n",
              "    </tr>\n",
              "    <tr>\n",
              "      <th>16</th>\n",
              "      <td>1</td>\n",
              "    </tr>\n",
              "    <tr>\n",
              "      <th>17</th>\n",
              "      <td>0</td>\n",
              "    </tr>\n",
              "    <tr>\n",
              "      <th>18</th>\n",
              "      <td>1</td>\n",
              "    </tr>\n",
              "    <tr>\n",
              "      <th>19</th>\n",
              "      <td>1</td>\n",
              "    </tr>\n",
              "    <tr>\n",
              "      <th>20</th>\n",
              "      <td>1</td>\n",
              "    </tr>\n",
              "    <tr>\n",
              "      <th>21</th>\n",
              "      <td>0</td>\n",
              "    </tr>\n",
              "    <tr>\n",
              "      <th>22</th>\n",
              "      <td>1</td>\n",
              "    </tr>\n",
              "    <tr>\n",
              "      <th>23</th>\n",
              "      <td>1</td>\n",
              "    </tr>\n",
              "    <tr>\n",
              "      <th>24</th>\n",
              "      <td>1</td>\n",
              "    </tr>\n",
              "    <tr>\n",
              "      <th>25</th>\n",
              "      <td>1</td>\n",
              "    </tr>\n",
              "    <tr>\n",
              "      <th>26</th>\n",
              "      <td>0</td>\n",
              "    </tr>\n",
              "    <tr>\n",
              "      <th>27</th>\n",
              "      <td>1</td>\n",
              "    </tr>\n",
              "    <tr>\n",
              "      <th>28</th>\n",
              "      <td>0</td>\n",
              "    </tr>\n",
              "    <tr>\n",
              "      <th>29</th>\n",
              "      <td>0</td>\n",
              "    </tr>\n",
              "    <tr>\n",
              "      <th>30</th>\n",
              "      <td>0</td>\n",
              "    </tr>\n",
              "    <tr>\n",
              "      <th>31</th>\n",
              "      <td>1</td>\n",
              "    </tr>\n",
              "    <tr>\n",
              "      <th>32</th>\n",
              "      <td>1</td>\n",
              "    </tr>\n",
              "    <tr>\n",
              "      <th>33</th>\n",
              "      <td>1</td>\n",
              "    </tr>\n",
              "    <tr>\n",
              "      <th>34</th>\n",
              "      <td>1</td>\n",
              "    </tr>\n",
              "    <tr>\n",
              "      <th>35</th>\n",
              "      <td>1</td>\n",
              "    </tr>\n",
              "    <tr>\n",
              "      <th>36</th>\n",
              "      <td>0</td>\n",
              "    </tr>\n",
              "    <tr>\n",
              "      <th>37</th>\n",
              "      <td>1</td>\n",
              "    </tr>\n",
              "    <tr>\n",
              "      <th>38</th>\n",
              "      <td>1</td>\n",
              "    </tr>\n",
              "    <tr>\n",
              "      <th>39</th>\n",
              "      <td>1</td>\n",
              "    </tr>\n",
              "    <tr>\n",
              "      <th>40</th>\n",
              "      <td>1</td>\n",
              "    </tr>\n",
              "    <tr>\n",
              "      <th>41</th>\n",
              "      <td>0</td>\n",
              "    </tr>\n",
              "    <tr>\n",
              "      <th>42</th>\n",
              "      <td>1</td>\n",
              "    </tr>\n",
              "    <tr>\n",
              "      <th>43</th>\n",
              "      <td>0</td>\n",
              "    </tr>\n",
              "    <tr>\n",
              "      <th>44</th>\n",
              "      <td>1</td>\n",
              "    </tr>\n",
              "    <tr>\n",
              "      <th>45</th>\n",
              "      <td>0</td>\n",
              "    </tr>\n",
              "    <tr>\n",
              "      <th>46</th>\n",
              "      <td>1</td>\n",
              "    </tr>\n",
              "    <tr>\n",
              "      <th>47</th>\n",
              "      <td>1</td>\n",
              "    </tr>\n",
              "    <tr>\n",
              "      <th>48</th>\n",
              "      <td>0</td>\n",
              "    </tr>\n",
              "    <tr>\n",
              "      <th>49</th>\n",
              "      <td>1</td>\n",
              "    </tr>\n",
              "    <tr>\n",
              "      <th>50</th>\n",
              "      <td>1</td>\n",
              "    </tr>\n",
              "    <tr>\n",
              "      <th>51</th>\n",
              "      <td>1</td>\n",
              "    </tr>\n",
              "    <tr>\n",
              "      <th>52</th>\n",
              "      <td>0</td>\n",
              "    </tr>\n",
              "    <tr>\n",
              "      <th>53</th>\n",
              "      <td>1</td>\n",
              "    </tr>\n",
              "    <tr>\n",
              "      <th>54</th>\n",
              "      <td>0</td>\n",
              "    </tr>\n",
              "    <tr>\n",
              "      <th>55</th>\n",
              "      <td>1</td>\n",
              "    </tr>\n",
              "    <tr>\n",
              "      <th>56</th>\n",
              "      <td>0</td>\n",
              "    </tr>\n",
              "    <tr>\n",
              "      <th>57</th>\n",
              "      <td>1</td>\n",
              "    </tr>\n",
              "    <tr>\n",
              "      <th>58</th>\n",
              "      <td>0</td>\n",
              "    </tr>\n",
              "    <tr>\n",
              "      <th>59</th>\n",
              "      <td>0</td>\n",
              "    </tr>\n",
              "    <tr>\n",
              "      <th>60</th>\n",
              "      <td>1</td>\n",
              "    </tr>\n",
              "    <tr>\n",
              "      <th>61</th>\n",
              "      <td>1</td>\n",
              "    </tr>\n",
              "    <tr>\n",
              "      <th>62</th>\n",
              "      <td>1</td>\n",
              "    </tr>\n",
              "    <tr>\n",
              "      <th>63</th>\n",
              "      <td>1</td>\n",
              "    </tr>\n",
              "    <tr>\n",
              "      <th>64</th>\n",
              "      <td>0</td>\n",
              "    </tr>\n",
              "    <tr>\n",
              "      <th>65</th>\n",
              "      <td>0</td>\n",
              "    </tr>\n",
              "    <tr>\n",
              "      <th>66</th>\n",
              "      <td>1</td>\n",
              "    </tr>\n",
              "    <tr>\n",
              "      <th>67</th>\n",
              "      <td>1</td>\n",
              "    </tr>\n",
              "    <tr>\n",
              "      <th>68</th>\n",
              "      <td>1</td>\n",
              "    </tr>\n",
              "    <tr>\n",
              "      <th>69</th>\n",
              "      <td>0</td>\n",
              "    </tr>\n",
              "    <tr>\n",
              "      <th>70</th>\n",
              "      <td>0</td>\n",
              "    </tr>\n",
              "    <tr>\n",
              "      <th>71</th>\n",
              "      <td>1</td>\n",
              "    </tr>\n",
              "    <tr>\n",
              "      <th>72</th>\n",
              "      <td>0</td>\n",
              "    </tr>\n",
              "    <tr>\n",
              "      <th>73</th>\n",
              "      <td>1</td>\n",
              "    </tr>\n",
              "    <tr>\n",
              "      <th>74</th>\n",
              "      <td>1</td>\n",
              "    </tr>\n",
              "    <tr>\n",
              "      <th>75</th>\n",
              "      <td>1</td>\n",
              "    </tr>\n",
              "    <tr>\n",
              "      <th>76</th>\n",
              "      <td>1</td>\n",
              "    </tr>\n",
              "    <tr>\n",
              "      <th>77</th>\n",
              "      <td>0</td>\n",
              "    </tr>\n",
              "    <tr>\n",
              "      <th>78</th>\n",
              "      <td>0</td>\n",
              "    </tr>\n",
              "    <tr>\n",
              "      <th>79</th>\n",
              "      <td>1</td>\n",
              "    </tr>\n",
              "    <tr>\n",
              "      <th>80</th>\n",
              "      <td>1</td>\n",
              "    </tr>\n",
              "    <tr>\n",
              "      <th>81</th>\n",
              "      <td>1</td>\n",
              "    </tr>\n",
              "    <tr>\n",
              "      <th>82</th>\n",
              "      <td>1</td>\n",
              "    </tr>\n",
              "    <tr>\n",
              "      <th>83</th>\n",
              "      <td>0</td>\n",
              "    </tr>\n",
              "    <tr>\n",
              "      <th>84</th>\n",
              "      <td>1</td>\n",
              "    </tr>\n",
              "    <tr>\n",
              "      <th>85</th>\n",
              "      <td>0</td>\n",
              "    </tr>\n",
              "    <tr>\n",
              "      <th>86</th>\n",
              "      <td>1</td>\n",
              "    </tr>\n",
              "    <tr>\n",
              "      <th>87</th>\n",
              "      <td>0</td>\n",
              "    </tr>\n",
              "    <tr>\n",
              "      <th>88</th>\n",
              "      <td>1</td>\n",
              "    </tr>\n",
              "    <tr>\n",
              "      <th>89</th>\n",
              "      <td>0</td>\n",
              "    </tr>\n",
              "    <tr>\n",
              "      <th>90</th>\n",
              "      <td>1</td>\n",
              "    </tr>\n",
              "    <tr>\n",
              "      <th>91</th>\n",
              "      <td>0</td>\n",
              "    </tr>\n",
              "    <tr>\n",
              "      <th>92</th>\n",
              "      <td>1</td>\n",
              "    </tr>\n",
              "    <tr>\n",
              "      <th>93</th>\n",
              "      <td>0</td>\n",
              "    </tr>\n",
              "    <tr>\n",
              "      <th>94</th>\n",
              "      <td>1</td>\n",
              "    </tr>\n",
              "    <tr>\n",
              "      <th>95</th>\n",
              "      <td>1</td>\n",
              "    </tr>\n",
              "    <tr>\n",
              "      <th>96</th>\n",
              "      <td>1</td>\n",
              "    </tr>\n",
              "    <tr>\n",
              "      <th>97</th>\n",
              "      <td>0</td>\n",
              "    </tr>\n",
              "    <tr>\n",
              "      <th>98</th>\n",
              "      <td>0</td>\n",
              "    </tr>\n",
              "    <tr>\n",
              "      <th>99</th>\n",
              "      <td>1</td>\n",
              "    </tr>\n",
              "    <tr>\n",
              "      <th>100</th>\n",
              "      <td>0</td>\n",
              "    </tr>\n",
              "    <tr>\n",
              "      <th>101</th>\n",
              "      <td>0</td>\n",
              "    </tr>\n",
              "    <tr>\n",
              "      <th>102</th>\n",
              "      <td>1</td>\n",
              "    </tr>\n",
              "    <tr>\n",
              "      <th>103</th>\n",
              "      <td>1</td>\n",
              "    </tr>\n",
              "    <tr>\n",
              "      <th>104</th>\n",
              "      <td>1</td>\n",
              "    </tr>\n",
              "    <tr>\n",
              "      <th>105</th>\n",
              "      <td>1</td>\n",
              "    </tr>\n",
              "    <tr>\n",
              "      <th>106</th>\n",
              "      <td>1</td>\n",
              "    </tr>\n",
              "    <tr>\n",
              "      <th>107</th>\n",
              "      <td>0</td>\n",
              "    </tr>\n",
              "    <tr>\n",
              "      <th>108</th>\n",
              "      <td>1</td>\n",
              "    </tr>\n",
              "    <tr>\n",
              "      <th>109</th>\n",
              "      <td>1</td>\n",
              "    </tr>\n",
              "    <tr>\n",
              "      <th>110</th>\n",
              "      <td>0</td>\n",
              "    </tr>\n",
              "    <tr>\n",
              "      <th>111</th>\n",
              "      <td>1</td>\n",
              "    </tr>\n",
              "    <tr>\n",
              "      <th>112</th>\n",
              "      <td>1</td>\n",
              "    </tr>\n",
              "    <tr>\n",
              "      <th>113</th>\n",
              "      <td>1</td>\n",
              "    </tr>\n",
              "    <tr>\n",
              "      <th>114</th>\n",
              "      <td>1</td>\n",
              "    </tr>\n",
              "    <tr>\n",
              "      <th>115</th>\n",
              "      <td>0</td>\n",
              "    </tr>\n",
              "    <tr>\n",
              "      <th>116</th>\n",
              "      <td>0</td>\n",
              "    </tr>\n",
              "    <tr>\n",
              "      <th>117</th>\n",
              "      <td>1</td>\n",
              "    </tr>\n",
              "    <tr>\n",
              "      <th>118</th>\n",
              "      <td>1</td>\n",
              "    </tr>\n",
              "    <tr>\n",
              "      <th>119</th>\n",
              "      <td>0</td>\n",
              "    </tr>\n",
              "    <tr>\n",
              "      <th>120</th>\n",
              "      <td>0</td>\n",
              "    </tr>\n",
              "    <tr>\n",
              "      <th>121</th>\n",
              "      <td>0</td>\n",
              "    </tr>\n",
              "    <tr>\n",
              "      <th>122</th>\n",
              "      <td>0</td>\n",
              "    </tr>\n",
              "    <tr>\n",
              "      <th>123</th>\n",
              "      <td>0</td>\n",
              "    </tr>\n",
              "    <tr>\n",
              "      <th>124</th>\n",
              "      <td>1</td>\n",
              "    </tr>\n",
              "    <tr>\n",
              "      <th>125</th>\n",
              "      <td>1</td>\n",
              "    </tr>\n",
              "    <tr>\n",
              "      <th>126</th>\n",
              "      <td>0</td>\n",
              "    </tr>\n",
              "    <tr>\n",
              "      <th>127</th>\n",
              "      <td>1</td>\n",
              "    </tr>\n",
              "    <tr>\n",
              "      <th>128</th>\n",
              "      <td>1</td>\n",
              "    </tr>\n",
              "    <tr>\n",
              "      <th>129</th>\n",
              "      <td>1</td>\n",
              "    </tr>\n",
              "    <tr>\n",
              "      <th>130</th>\n",
              "      <td>1</td>\n",
              "    </tr>\n",
              "    <tr>\n",
              "      <th>131</th>\n",
              "      <td>1</td>\n",
              "    </tr>\n",
              "    <tr>\n",
              "      <th>132</th>\n",
              "      <td>1</td>\n",
              "    </tr>\n",
              "    <tr>\n",
              "      <th>133</th>\n",
              "      <td>1</td>\n",
              "    </tr>\n",
              "    <tr>\n",
              "      <th>134</th>\n",
              "      <td>0</td>\n",
              "    </tr>\n",
              "    <tr>\n",
              "      <th>135</th>\n",
              "      <td>1</td>\n",
              "    </tr>\n",
              "    <tr>\n",
              "      <th>136</th>\n",
              "      <td>0</td>\n",
              "    </tr>\n",
              "    <tr>\n",
              "      <th>137</th>\n",
              "      <td>1</td>\n",
              "    </tr>\n",
              "    <tr>\n",
              "      <th>138</th>\n",
              "      <td>1</td>\n",
              "    </tr>\n",
              "    <tr>\n",
              "      <th>139</th>\n",
              "      <td>0</td>\n",
              "    </tr>\n",
              "    <tr>\n",
              "      <th>140</th>\n",
              "      <td>1</td>\n",
              "    </tr>\n",
              "    <tr>\n",
              "      <th>141</th>\n",
              "      <td>1</td>\n",
              "    </tr>\n",
              "    <tr>\n",
              "      <th>142</th>\n",
              "      <td>1</td>\n",
              "    </tr>\n",
              "    <tr>\n",
              "      <th>143</th>\n",
              "      <td>0</td>\n",
              "    </tr>\n",
              "    <tr>\n",
              "      <th>144</th>\n",
              "      <td>1</td>\n",
              "    </tr>\n",
              "    <tr>\n",
              "      <th>145</th>\n",
              "      <td>0</td>\n",
              "    </tr>\n",
              "    <tr>\n",
              "      <th>146</th>\n",
              "      <td>1</td>\n",
              "    </tr>\n",
              "    <tr>\n",
              "      <th>147</th>\n",
              "      <td>1</td>\n",
              "    </tr>\n",
              "    <tr>\n",
              "      <th>148</th>\n",
              "      <td>1</td>\n",
              "    </tr>\n",
              "    <tr>\n",
              "      <th>149</th>\n",
              "      <td>0</td>\n",
              "    </tr>\n",
              "    <tr>\n",
              "      <th>150</th>\n",
              "      <td>0</td>\n",
              "    </tr>\n",
              "    <tr>\n",
              "      <th>151</th>\n",
              "      <td>1</td>\n",
              "    </tr>\n",
              "    <tr>\n",
              "      <th>152</th>\n",
              "      <td>1</td>\n",
              "    </tr>\n",
              "    <tr>\n",
              "      <th>153</th>\n",
              "      <td>1</td>\n",
              "    </tr>\n",
              "    <tr>\n",
              "      <th>154</th>\n",
              "      <td>0</td>\n",
              "    </tr>\n",
              "    <tr>\n",
              "      <th>155</th>\n",
              "      <td>1</td>\n",
              "    </tr>\n",
              "    <tr>\n",
              "      <th>156</th>\n",
              "      <td>1</td>\n",
              "    </tr>\n",
              "    <tr>\n",
              "      <th>157</th>\n",
              "      <td>0</td>\n",
              "    </tr>\n",
              "    <tr>\n",
              "      <th>158</th>\n",
              "      <td>0</td>\n",
              "    </tr>\n",
              "    <tr>\n",
              "      <th>159</th>\n",
              "      <td>0</td>\n",
              "    </tr>\n",
              "    <tr>\n",
              "      <th>160</th>\n",
              "      <td>0</td>\n",
              "    </tr>\n",
              "    <tr>\n",
              "      <th>161</th>\n",
              "      <td>1</td>\n",
              "    </tr>\n",
              "    <tr>\n",
              "      <th>162</th>\n",
              "      <td>1</td>\n",
              "    </tr>\n",
              "    <tr>\n",
              "      <th>163</th>\n",
              "      <td>0</td>\n",
              "    </tr>\n",
              "    <tr>\n",
              "      <th>164</th>\n",
              "      <td>1</td>\n",
              "    </tr>\n",
              "    <tr>\n",
              "      <th>165</th>\n",
              "      <td>0</td>\n",
              "    </tr>\n",
              "    <tr>\n",
              "      <th>166</th>\n",
              "      <td>1</td>\n",
              "    </tr>\n",
              "    <tr>\n",
              "      <th>167</th>\n",
              "      <td>1</td>\n",
              "    </tr>\n",
              "    <tr>\n",
              "      <th>168</th>\n",
              "      <td>1</td>\n",
              "    </tr>\n",
              "    <tr>\n",
              "      <th>169</th>\n",
              "      <td>0</td>\n",
              "    </tr>\n",
              "    <tr>\n",
              "      <th>170</th>\n",
              "      <td>1</td>\n",
              "    </tr>\n",
              "  </tbody>\n",
              "</table>\n",
              "</div>"
            ],
            "text/plain": [
              "     predict\n",
              "0          1\n",
              "1          1\n",
              "2          0\n",
              "3          0\n",
              "4          1\n",
              "5          0\n",
              "6          1\n",
              "7          1\n",
              "8          1\n",
              "9          1\n",
              "10         1\n",
              "11         1\n",
              "12         0\n",
              "13         1\n",
              "14         1\n",
              "15         1\n",
              "16         1\n",
              "17         0\n",
              "18         1\n",
              "19         1\n",
              "20         1\n",
              "21         0\n",
              "22         1\n",
              "23         1\n",
              "24         1\n",
              "25         1\n",
              "26         0\n",
              "27         1\n",
              "28         0\n",
              "29         0\n",
              "30         0\n",
              "31         1\n",
              "32         1\n",
              "33         1\n",
              "34         1\n",
              "35         1\n",
              "36         0\n",
              "37         1\n",
              "38         1\n",
              "39         1\n",
              "40         1\n",
              "41         0\n",
              "42         1\n",
              "43         0\n",
              "44         1\n",
              "45         0\n",
              "46         1\n",
              "47         1\n",
              "48         0\n",
              "49         1\n",
              "50         1\n",
              "51         1\n",
              "52         0\n",
              "53         1\n",
              "54         0\n",
              "55         1\n",
              "56         0\n",
              "57         1\n",
              "58         0\n",
              "59         0\n",
              "60         1\n",
              "61         1\n",
              "62         1\n",
              "63         1\n",
              "64         0\n",
              "65         0\n",
              "66         1\n",
              "67         1\n",
              "68         1\n",
              "69         0\n",
              "70         0\n",
              "71         1\n",
              "72         0\n",
              "73         1\n",
              "74         1\n",
              "75         1\n",
              "76         1\n",
              "77         0\n",
              "78         0\n",
              "79         1\n",
              "80         1\n",
              "81         1\n",
              "82         1\n",
              "83         0\n",
              "84         1\n",
              "85         0\n",
              "86         1\n",
              "87         0\n",
              "88         1\n",
              "89         0\n",
              "90         1\n",
              "91         0\n",
              "92         1\n",
              "93         0\n",
              "94         1\n",
              "95         1\n",
              "96         1\n",
              "97         0\n",
              "98         0\n",
              "99         1\n",
              "100        0\n",
              "101        0\n",
              "102        1\n",
              "103        1\n",
              "104        1\n",
              "105        1\n",
              "106        1\n",
              "107        0\n",
              "108        1\n",
              "109        1\n",
              "110        0\n",
              "111        1\n",
              "112        1\n",
              "113        1\n",
              "114        1\n",
              "115        0\n",
              "116        0\n",
              "117        1\n",
              "118        1\n",
              "119        0\n",
              "120        0\n",
              "121        0\n",
              "122        0\n",
              "123        0\n",
              "124        1\n",
              "125        1\n",
              "126        0\n",
              "127        1\n",
              "128        1\n",
              "129        1\n",
              "130        1\n",
              "131        1\n",
              "132        1\n",
              "133        1\n",
              "134        0\n",
              "135        1\n",
              "136        0\n",
              "137        1\n",
              "138        1\n",
              "139        0\n",
              "140        1\n",
              "141        1\n",
              "142        1\n",
              "143        0\n",
              "144        1\n",
              "145        0\n",
              "146        1\n",
              "147        1\n",
              "148        1\n",
              "149        0\n",
              "150        0\n",
              "151        1\n",
              "152        1\n",
              "153        1\n",
              "154        0\n",
              "155        1\n",
              "156        1\n",
              "157        0\n",
              "158        0\n",
              "159        0\n",
              "160        0\n",
              "161        1\n",
              "162        1\n",
              "163        0\n",
              "164        1\n",
              "165        0\n",
              "166        1\n",
              "167        1\n",
              "168        1\n",
              "169        0\n",
              "170        1"
            ]
          },
          "metadata": {
            "tags": []
          },
          "execution_count": 59
        }
      ]
    },
    {
      "cell_type": "code",
      "metadata": {
        "id": "sdxpQ40LKJCf"
      },
      "source": [
        "df_predict.to_csv ('cancer_type_predict_v2.csv', index = False, header=False)"
      ],
      "execution_count": null,
      "outputs": []
    },
    {
      "cell_type": "markdown",
      "metadata": {
        "id": "49u-7aa6TQel"
      },
      "source": [
        ""
      ]
    },
    {
      "cell_type": "code",
      "metadata": {
        "id": "AF8SGgRdL1OB",
        "colab": {
          "base_uri": "https://localhost:8080/",
          "height": 17
        },
        "outputId": "b5ba4271-b561-421d-f450-66263f8d0da6"
      },
      "source": [
        "from google.colab import files\n",
        "files.download('cancer_type_predict_v2.csv')"
      ],
      "execution_count": null,
      "outputs": [
        {
          "output_type": "display_data",
          "data": {
            "application/javascript": [
              "\n",
              "    async function download(id, filename, size) {\n",
              "      if (!google.colab.kernel.accessAllowed) {\n",
              "        return;\n",
              "      }\n",
              "      const div = document.createElement('div');\n",
              "      const label = document.createElement('label');\n",
              "      label.textContent = `Downloading \"${filename}\": `;\n",
              "      div.appendChild(label);\n",
              "      const progress = document.createElement('progress');\n",
              "      progress.max = size;\n",
              "      div.appendChild(progress);\n",
              "      document.body.appendChild(div);\n",
              "\n",
              "      const buffers = [];\n",
              "      let downloaded = 0;\n",
              "\n",
              "      const channel = await google.colab.kernel.comms.open(id);\n",
              "      // Send a message to notify the kernel that we're ready.\n",
              "      channel.send({})\n",
              "\n",
              "      for await (const message of channel.messages) {\n",
              "        // Send a message to notify the kernel that we're ready.\n",
              "        channel.send({})\n",
              "        if (message.buffers) {\n",
              "          for (const buffer of message.buffers) {\n",
              "            buffers.push(buffer);\n",
              "            downloaded += buffer.byteLength;\n",
              "            progress.value = downloaded;\n",
              "          }\n",
              "        }\n",
              "      }\n",
              "      const blob = new Blob(buffers, {type: 'application/binary'});\n",
              "      const a = document.createElement('a');\n",
              "      a.href = window.URL.createObjectURL(blob);\n",
              "      a.download = filename;\n",
              "      div.appendChild(a);\n",
              "      a.click();\n",
              "      div.remove();\n",
              "    }\n",
              "  "
            ],
            "text/plain": [
              "<IPython.core.display.Javascript object>"
            ]
          },
          "metadata": {
            "tags": []
          }
        },
        {
          "output_type": "display_data",
          "data": {
            "application/javascript": [
              "download(\"download_8bad734b-7f57-4ea6-b434-56e533da545d\", \"cancer_type_predict_v2.csv\", 342)"
            ],
            "text/plain": [
              "<IPython.core.display.Javascript object>"
            ]
          },
          "metadata": {
            "tags": []
          }
        }
      ]
    },
    {
      "cell_type": "code",
      "metadata": {
        "id": "-0KxczMyG-B9",
        "colab": {
          "base_uri": "https://localhost:8080/"
        },
        "outputId": "a5ca4ad8-8e8b-49c2-dfec-f2c7676484c0"
      },
      "source": [
        "# Shutdown h2o instance\n",
        "h2o.cluster().shutdown()"
      ],
      "execution_count": null,
      "outputs": [
        {
          "output_type": "stream",
          "text": [
            "H2O session _sid_a356 closed.\n"
          ],
          "name": "stdout"
        }
      ]
    }
  ]
}