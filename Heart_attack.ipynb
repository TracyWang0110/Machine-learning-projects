{
  "nbformat": 4,
  "nbformat_minor": 0,
  "metadata": {
    "colab": {
      "name": "Heart_attack.ipynb",
      "provenance": [],
      "collapsed_sections": [],
      "authorship_tag": "ABX9TyNgCYoOrpNkgbft/G+u5Q9t",
      "include_colab_link": true
    },
    "kernelspec": {
      "name": "python3",
      "display_name": "Python 3"
    },
    "language_info": {
      "name": "python"
    }
  },
  "cells": [
    {
      "cell_type": "markdown",
      "metadata": {
        "id": "view-in-github",
        "colab_type": "text"
      },
      "source": [
        "<a href=\"https://colab.research.google.com/github/TracyWang0110/Machine-learning-projects/blob/main/Heart_attack.ipynb\" target=\"_parent\"><img src=\"https://colab.research.google.com/assets/colab-badge.svg\" alt=\"Open In Colab\"/></a>"
      ]
    },
    {
      "cell_type": "code",
      "metadata": {
        "colab": {
          "base_uri": "https://localhost:8080/"
        },
        "id": "0wnmaudpL1Jo",
        "outputId": "ad85c09d-5a37-4a97-ce5d-390cf9e2f822"
      },
      "source": [
        "pip install kmodes"
      ],
      "execution_count": null,
      "outputs": [
        {
          "output_type": "stream",
          "text": [
            "Requirement already satisfied: kmodes in /usr/local/lib/python3.7/dist-packages (0.11.0)\n",
            "Requirement already satisfied: scipy>=0.13.3 in /usr/local/lib/python3.7/dist-packages (from kmodes) (1.4.1)\n",
            "Requirement already satisfied: scikit-learn>=0.22.0 in /usr/local/lib/python3.7/dist-packages (from kmodes) (0.22.2.post1)\n",
            "Requirement already satisfied: numpy>=1.10.4 in /usr/local/lib/python3.7/dist-packages (from kmodes) (1.19.5)\n",
            "Requirement already satisfied: joblib>=0.11 in /usr/local/lib/python3.7/dist-packages (from kmodes) (1.0.1)\n"
          ],
          "name": "stdout"
        }
      ]
    },
    {
      "cell_type": "code",
      "metadata": {
        "id": "PUxRo6bV4lw0"
      },
      "source": [
        "import warnings\n",
        "warnings.simplefilter('ignore')\n",
        "\n",
        "import numpy as np\n",
        "import pandas as pd\n",
        "import seaborn as sns\n",
        "import matplotlib.pyplot as plt\n",
        "\n",
        "from sklearn.cluster import KMeans\n",
        "from sklearn.decomposition import PCA\n",
        "from sklearn.metrics import silhouette_score\n",
        "\n",
        "from kmodes.kmodes import KModes\n",
        "\n",
        "from sklearn.preprocessing import StandardScaler, normalize"
      ],
      "execution_count": null,
      "outputs": []
    },
    {
      "cell_type": "code",
      "metadata": {
        "id": "0USUCKvi43Pq"
      },
      "source": [
        "#load the csv file\n",
        "df = pd.read_csv('heart_attack_data.csv')"
      ],
      "execution_count": null,
      "outputs": []
    },
    {
      "cell_type": "code",
      "metadata": {
        "colab": {
          "base_uri": "https://localhost:8080/",
          "height": 204
        },
        "id": "Shd3pBXj58-y",
        "outputId": "a2c4c234-7751-47d1-977d-890c2ae5a3c8"
      },
      "source": [
        "df.head()"
      ],
      "execution_count": null,
      "outputs": [
        {
          "output_type": "execute_result",
          "data": {
            "text/html": [
              "<div>\n",
              "<style scoped>\n",
              "    .dataframe tbody tr th:only-of-type {\n",
              "        vertical-align: middle;\n",
              "    }\n",
              "\n",
              "    .dataframe tbody tr th {\n",
              "        vertical-align: top;\n",
              "    }\n",
              "\n",
              "    .dataframe thead th {\n",
              "        text-align: right;\n",
              "    }\n",
              "</style>\n",
              "<table border=\"1\" class=\"dataframe\">\n",
              "  <thead>\n",
              "    <tr style=\"text-align: right;\">\n",
              "      <th></th>\n",
              "      <th>age</th>\n",
              "      <th>smoking</th>\n",
              "      <th>alcohol_use</th>\n",
              "      <th>physical_activity</th>\n",
              "      <th>diet</th>\n",
              "      <th>obesity</th>\n",
              "      <th>patient_id</th>\n",
              "      <th>gender</th>\n",
              "      <th>height</th>\n",
              "    </tr>\n",
              "  </thead>\n",
              "  <tbody>\n",
              "    <tr>\n",
              "      <th>0</th>\n",
              "      <td>82</td>\n",
              "      <td>no</td>\n",
              "      <td>no</td>\n",
              "      <td>running</td>\n",
              "      <td>balanced</td>\n",
              "      <td>no</td>\n",
              "      <td>3</td>\n",
              "      <td>male</td>\n",
              "      <td>154</td>\n",
              "    </tr>\n",
              "    <tr>\n",
              "      <th>1</th>\n",
              "      <td>76</td>\n",
              "      <td>no</td>\n",
              "      <td>no</td>\n",
              "      <td>running</td>\n",
              "      <td>vegan</td>\n",
              "      <td>no</td>\n",
              "      <td>104</td>\n",
              "      <td>female</td>\n",
              "      <td>191</td>\n",
              "    </tr>\n",
              "    <tr>\n",
              "      <th>2</th>\n",
              "      <td>76</td>\n",
              "      <td>no</td>\n",
              "      <td>no</td>\n",
              "      <td>swimming</td>\n",
              "      <td>vegetarian</td>\n",
              "      <td>no</td>\n",
              "      <td>97</td>\n",
              "      <td>female</td>\n",
              "      <td>164</td>\n",
              "    </tr>\n",
              "    <tr>\n",
              "      <th>3</th>\n",
              "      <td>83</td>\n",
              "      <td>no</td>\n",
              "      <td>no</td>\n",
              "      <td>running</td>\n",
              "      <td>vegetarian</td>\n",
              "      <td>no</td>\n",
              "      <td>112</td>\n",
              "      <td>male</td>\n",
              "      <td>187</td>\n",
              "    </tr>\n",
              "    <tr>\n",
              "      <th>4</th>\n",
              "      <td>69</td>\n",
              "      <td>no</td>\n",
              "      <td>no</td>\n",
              "      <td>exercise</td>\n",
              "      <td>vegetarian</td>\n",
              "      <td>no</td>\n",
              "      <td>70</td>\n",
              "      <td>female</td>\n",
              "      <td>163</td>\n",
              "    </tr>\n",
              "  </tbody>\n",
              "</table>\n",
              "</div>"
            ],
            "text/plain": [
              "   age smoking alcohol_use  ... patient_id  gender height\n",
              "0   82      no          no  ...          3    male    154\n",
              "1   76      no          no  ...        104  female    191\n",
              "2   76      no          no  ...         97  female    164\n",
              "3   83      no          no  ...        112    male    187\n",
              "4   69      no          no  ...         70  female    163\n",
              "\n",
              "[5 rows x 9 columns]"
            ]
          },
          "metadata": {
            "tags": []
          },
          "execution_count": 329
        }
      ]
    },
    {
      "cell_type": "code",
      "metadata": {
        "colab": {
          "base_uri": "https://localhost:8080/"
        },
        "id": "afXyGt3l6Huc",
        "outputId": "fbaa2474-46f1-4240-d98c-43eddb7fdf36"
      },
      "source": [
        "df.info()"
      ],
      "execution_count": null,
      "outputs": [
        {
          "output_type": "stream",
          "text": [
            "<class 'pandas.core.frame.DataFrame'>\n",
            "RangeIndex: 200 entries, 0 to 199\n",
            "Data columns (total 9 columns):\n",
            " #   Column             Non-Null Count  Dtype \n",
            "---  ------             --------------  ----- \n",
            " 0   age                200 non-null    int64 \n",
            " 1   smoking            200 non-null    object\n",
            " 2   alcohol_use        200 non-null    object\n",
            " 3   physical_activity  200 non-null    object\n",
            " 4   diet               200 non-null    object\n",
            " 5   obesity            200 non-null    object\n",
            " 6   patient_id         200 non-null    int64 \n",
            " 7   gender             200 non-null    object\n",
            " 8   height             200 non-null    int64 \n",
            "dtypes: int64(3), object(6)\n",
            "memory usage: 14.2+ KB\n"
          ],
          "name": "stdout"
        }
      ]
    },
    {
      "cell_type": "code",
      "metadata": {
        "colab": {
          "base_uri": "https://localhost:8080/",
          "height": 355
        },
        "id": "r9YvsqZ66hl-",
        "outputId": "4179ffd1-2641-4862-b492-3960d7a8f6e3"
      },
      "source": [
        "#there is no missing value\n",
        "sns.heatmap(df.isnull(), yticklabels = False, cbar = False, cmap=\"Blues\")"
      ],
      "execution_count": null,
      "outputs": [
        {
          "output_type": "execute_result",
          "data": {
            "text/plain": [
              "<matplotlib.axes._subplots.AxesSubplot at 0x7feb6d171050>"
            ]
          },
          "metadata": {
            "tags": []
          },
          "execution_count": 331
        },
        {
          "output_type": "display_data",
          "data": {
            "image/png": "[encoded data removed]",
            "text/plain": [
              "<Figure size 432x288 with 1 Axes>"
            ]
          },
          "metadata": {
            "tags": [],
            "needs_background": "light"
          }
        }
      ]
    },
    {
      "cell_type": "code",
      "metadata": {
        "colab": {
          "base_uri": "https://localhost:8080/"
        },
        "id": "FHt1pOmt61PD",
        "outputId": "44f77612-a41b-4ca4-a0fb-64fced451da9"
      },
      "source": [
        "#check the duplication \n",
        "#there is no duplication in data \n",
        "df.duplicated().sum()"
      ],
      "execution_count": null,
      "outputs": [
        {
          "output_type": "execute_result",
          "data": {
            "text/plain": [
              "0"
            ]
          },
          "metadata": {
            "tags": []
          },
          "execution_count": 332
        }
      ]
    },
    {
      "cell_type": "code",
      "metadata": {
        "colab": {
          "base_uri": "https://localhost:8080/",
          "height": 390
        },
        "id": "rlI3Rt0-658J",
        "outputId": "3b30b057-3500-4986-a106-0f54bc090f5d"
      },
      "source": [
        "df.describe(include='all')\n",
        "# Mean age is 73 "
      ],
      "execution_count": null,
      "outputs": [
        {
          "output_type": "execute_result",
          "data": {
            "text/html": [
              "<div>\n",
              "<style scoped>\n",
              "    .dataframe tbody tr th:only-of-type {\n",
              "        vertical-align: middle;\n",
              "    }\n",
              "\n",
              "    .dataframe tbody tr th {\n",
              "        vertical-align: top;\n",
              "    }\n",
              "\n",
              "    .dataframe thead th {\n",
              "        text-align: right;\n",
              "    }\n",
              "</style>\n",
              "<table border=\"1\" class=\"dataframe\">\n",
              "  <thead>\n",
              "    <tr style=\"text-align: right;\">\n",
              "      <th></th>\n",
              "      <th>age</th>\n",
              "      <th>smoking</th>\n",
              "      <th>alcohol_use</th>\n",
              "      <th>physical_activity</th>\n",
              "      <th>diet</th>\n",
              "      <th>obesity</th>\n",
              "      <th>patient_id</th>\n",
              "      <th>gender</th>\n",
              "      <th>height</th>\n",
              "    </tr>\n",
              "  </thead>\n",
              "  <tbody>\n",
              "    <tr>\n",
              "      <th>count</th>\n",
              "      <td>200.000000</td>\n",
              "      <td>200</td>\n",
              "      <td>200</td>\n",
              "      <td>200</td>\n",
              "      <td>200</td>\n",
              "      <td>200</td>\n",
              "      <td>200.000000</td>\n",
              "      <td>200</td>\n",
              "      <td>200.000000</td>\n",
              "    </tr>\n",
              "    <tr>\n",
              "      <th>unique</th>\n",
              "      <td>NaN</td>\n",
              "      <td>3</td>\n",
              "      <td>3</td>\n",
              "      <td>6</td>\n",
              "      <td>5</td>\n",
              "      <td>2</td>\n",
              "      <td>NaN</td>\n",
              "      <td>2</td>\n",
              "      <td>NaN</td>\n",
              "    </tr>\n",
              "    <tr>\n",
              "      <th>top</th>\n",
              "      <td>NaN</td>\n",
              "      <td>no</td>\n",
              "      <td>no</td>\n",
              "      <td>no</td>\n",
              "      <td>no</td>\n",
              "      <td>no</td>\n",
              "      <td>NaN</td>\n",
              "      <td>female</td>\n",
              "      <td>NaN</td>\n",
              "    </tr>\n",
              "    <tr>\n",
              "      <th>freq</th>\n",
              "      <td>NaN</td>\n",
              "      <td>140</td>\n",
              "      <td>140</td>\n",
              "      <td>60</td>\n",
              "      <td>60</td>\n",
              "      <td>188</td>\n",
              "      <td>NaN</td>\n",
              "      <td>101</td>\n",
              "      <td>NaN</td>\n",
              "    </tr>\n",
              "    <tr>\n",
              "      <th>mean</th>\n",
              "      <td>72.980000</td>\n",
              "      <td>NaN</td>\n",
              "      <td>NaN</td>\n",
              "      <td>NaN</td>\n",
              "      <td>NaN</td>\n",
              "      <td>NaN</td>\n",
              "      <td>154.710000</td>\n",
              "      <td>NaN</td>\n",
              "      <td>173.605000</td>\n",
              "    </tr>\n",
              "    <tr>\n",
              "      <th>std</th>\n",
              "      <td>11.275428</td>\n",
              "      <td>NaN</td>\n",
              "      <td>NaN</td>\n",
              "      <td>NaN</td>\n",
              "      <td>NaN</td>\n",
              "      <td>NaN</td>\n",
              "      <td>87.345245</td>\n",
              "      <td>NaN</td>\n",
              "      <td>14.288801</td>\n",
              "    </tr>\n",
              "    <tr>\n",
              "      <th>min</th>\n",
              "      <td>38.000000</td>\n",
              "      <td>NaN</td>\n",
              "      <td>NaN</td>\n",
              "      <td>NaN</td>\n",
              "      <td>NaN</td>\n",
              "      <td>NaN</td>\n",
              "      <td>2.000000</td>\n",
              "      <td>NaN</td>\n",
              "      <td>150.000000</td>\n",
              "    </tr>\n",
              "    <tr>\n",
              "      <th>25%</th>\n",
              "      <td>66.000000</td>\n",
              "      <td>NaN</td>\n",
              "      <td>NaN</td>\n",
              "      <td>NaN</td>\n",
              "      <td>NaN</td>\n",
              "      <td>NaN</td>\n",
              "      <td>78.750000</td>\n",
              "      <td>NaN</td>\n",
              "      <td>161.000000</td>\n",
              "    </tr>\n",
              "    <tr>\n",
              "      <th>50%</th>\n",
              "      <td>74.500000</td>\n",
              "      <td>NaN</td>\n",
              "      <td>NaN</td>\n",
              "      <td>NaN</td>\n",
              "      <td>NaN</td>\n",
              "      <td>NaN</td>\n",
              "      <td>155.000000</td>\n",
              "      <td>NaN</td>\n",
              "      <td>172.500000</td>\n",
              "    </tr>\n",
              "    <tr>\n",
              "      <th>75%</th>\n",
              "      <td>82.000000</td>\n",
              "      <td>NaN</td>\n",
              "      <td>NaN</td>\n",
              "      <td>NaN</td>\n",
              "      <td>NaN</td>\n",
              "      <td>NaN</td>\n",
              "      <td>229.250000</td>\n",
              "      <td>NaN</td>\n",
              "      <td>185.000000</td>\n",
              "    </tr>\n",
              "    <tr>\n",
              "      <th>max</th>\n",
              "      <td>89.000000</td>\n",
              "      <td>NaN</td>\n",
              "      <td>NaN</td>\n",
              "      <td>NaN</td>\n",
              "      <td>NaN</td>\n",
              "      <td>NaN</td>\n",
              "      <td>299.000000</td>\n",
              "      <td>NaN</td>\n",
              "      <td>199.000000</td>\n",
              "    </tr>\n",
              "  </tbody>\n",
              "</table>\n",
              "</div>"
            ],
            "text/plain": [
              "               age smoking alcohol_use  ...  patient_id  gender      height\n",
              "count   200.000000     200         200  ...  200.000000     200  200.000000\n",
              "unique         NaN       3           3  ...         NaN       2         NaN\n",
              "top            NaN      no          no  ...         NaN  female         NaN\n",
              "freq           NaN     140         140  ...         NaN     101         NaN\n",
              "mean     72.980000     NaN         NaN  ...  154.710000     NaN  173.605000\n",
              "std      11.275428     NaN         NaN  ...   87.345245     NaN   14.288801\n",
              "min      38.000000     NaN         NaN  ...    2.000000     NaN  150.000000\n",
              "25%      66.000000     NaN         NaN  ...   78.750000     NaN  161.000000\n",
              "50%      74.500000     NaN         NaN  ...  155.000000     NaN  172.500000\n",
              "75%      82.000000     NaN         NaN  ...  229.250000     NaN  185.000000\n",
              "max      89.000000     NaN         NaN  ...  299.000000     NaN  199.000000\n",
              "\n",
              "[11 rows x 9 columns]"
            ]
          },
          "metadata": {
            "tags": []
          },
          "execution_count": 333
        }
      ]
    },
    {
      "cell_type": "code",
      "metadata": {
        "id": "mVRqFao0-CjK"
      },
      "source": [
        "# Drop patientID since it has no meaning here \n",
        "df.drop(\"patient_id\", axis = 1, inplace= True)"
      ],
      "execution_count": null,
      "outputs": []
    },
    {
      "cell_type": "code",
      "metadata": {
        "colab": {
          "base_uri": "https://localhost:8080/"
        },
        "id": "APrJwz49-Sch",
        "outputId": "903e98e8-ff95-40db-df0f-520059251ecb"
      },
      "source": [
        "len(df) #n=200"
      ],
      "execution_count": null,
      "outputs": [
        {
          "output_type": "execute_result",
          "data": {
            "text/plain": [
              "200"
            ]
          },
          "metadata": {
            "tags": []
          },
          "execution_count": 335
        }
      ]
    },
    {
      "cell_type": "code",
      "metadata": {
        "colab": {
          "base_uri": "https://localhost:8080/",
          "height": 387
        },
        "id": "l4nEjhVV-w0Q",
        "outputId": "9f61b448-b733-4911-c21e-b106af7a54bd"
      },
      "source": [
        "#distribution \n",
        "df.hist(bins = 30, figsize = (10,5), color = 'b')"
      ],
      "execution_count": null,
      "outputs": [
        {
          "output_type": "execute_result",
          "data": {
            "text/plain": [
              "array([[<matplotlib.axes._subplots.AxesSubplot object at 0x7feb6d0a2490>,\n",
              "        <matplotlib.axes._subplots.AxesSubplot object at 0x7feb6d0bcbd0>]],\n",
              "      dtype=object)"
            ]
          },
          "metadata": {
            "tags": []
          },
          "execution_count": 336
        },
        {
          "output_type": "display_data",
          "data": {
            "image/png": "[encoded data removed]",
            "text/plain": [
              "<Figure size 720x360 with 2 Axes>"
            ]
          },
          "metadata": {
            "tags": [],
            "needs_background": "light"
          }
        }
      ]
    },
    {
      "cell_type": "code",
      "metadata": {
        "colab": {
          "base_uri": "https://localhost:8080/",
          "height": 296
        },
        "id": "hfGRkGWw_L2M",
        "outputId": "eafd4832-e9ac-4b10-848f-e07acd81cb1a"
      },
      "source": [
        "plt.scatter(df['age'], df['height'])\n",
        "plt.xlabel('Age')\n",
        "plt.ylabel('hight')\n"
      ],
      "execution_count": null,
      "outputs": [
        {
          "output_type": "execute_result",
          "data": {
            "text/plain": [
              "Text(0, 0.5, 'hight')"
            ]
          },
          "metadata": {
            "tags": []
          },
          "execution_count": 337
        },
        {
          "output_type": "display_data",
          "data": {
            "image/png": "[encoded data removed]",
            "text/plain": [
              "<Figure size 432x288 with 1 Axes>"
            ]
          },
          "metadata": {
            "tags": [],
            "needs_background": "light"
          }
        }
      ]
    },
    {
      "cell_type": "code",
      "metadata": {
        "colab": {
          "base_uri": "https://localhost:8080/",
          "height": 369
        },
        "id": "s0qNkpfaD7c_",
        "outputId": "1e7db7f6-c8bf-4a86-d0a7-c5c3a5844519"
      },
      "source": [
        "hist_kws={'histtype': 'bar', 'edgecolor':'black', 'alpha': 0.2}\n",
        "# visualization of height and female\n",
        "fig, ax = plt.subplots(figsize=(8, 5))\n",
        "sns.distplot(df[df['gender']=='female']['height'], label='female', ax=ax, hist_kws=hist_kws)\n",
        "sns.distplot(df[df['gender']=='male']['height'], label='male', ax=ax, hist_kws=hist_kws)\n",
        "ax.legend(fontsize=12)\n",
        "plt.tight_layout()\n",
        "plt.show()"
      ],
      "execution_count": null,
      "outputs": [
        {
          "output_type": "display_data",
          "data": {
            "image/png": "[encoded data removed]",
            "text/plain": [
              "<Figure size 576x360 with 1 Axes>"
            ]
          },
          "metadata": {
            "tags": [],
            "needs_background": "light"
          }
        }
      ]
    },
    {
      "cell_type": "code",
      "metadata": {
        "colab": {
          "base_uri": "https://localhost:8080/"
        },
        "id": "py6QNmlu_zL6",
        "outputId": "9910da57-c70a-4831-b1b5-214de3a75f24"
      },
      "source": [
        "df.info()"
      ],
      "execution_count": null,
      "outputs": [
        {
          "output_type": "stream",
          "text": [
            "<class 'pandas.core.frame.DataFrame'>\n",
            "RangeIndex: 200 entries, 0 to 199\n",
            "Data columns (total 8 columns):\n",
            " #   Column             Non-Null Count  Dtype \n",
            "---  ------             --------------  ----- \n",
            " 0   age                200 non-null    int64 \n",
            " 1   smoking            200 non-null    object\n",
            " 2   alcohol_use        200 non-null    object\n",
            " 3   physical_activity  200 non-null    object\n",
            " 4   diet               200 non-null    object\n",
            " 5   obesity            200 non-null    object\n",
            " 6   gender             200 non-null    object\n",
            " 7   height             200 non-null    int64 \n",
            "dtypes: int64(2), object(6)\n",
            "memory usage: 12.6+ KB\n"
          ],
          "name": "stdout"
        }
      ]
    },
    {
      "cell_type": "code",
      "metadata": {
        "colab": {
          "base_uri": "https://localhost:8080/",
          "height": 424
        },
        "id": "a4WcaPoEkynP",
        "outputId": "7a0e23c1-dd81-42dc-b0c2-231e45e9baba"
      },
      "source": [
        "# visualization of smoking, alcohol_use\n",
        "fig, ax = plt.subplots(nrows=1, ncols=2, figsize=(18, 6))\n",
        "sns.countplot(x='smoking', data=df, ax=ax[0], order = df['smoking'].value_counts().index)\n",
        "ax[0].set_title('Count Plot of smoking', fontsize=16)\n",
        "\n",
        "sns.countplot(x='alcohol_use', data=df, ax=ax[1], order = df['alcohol_use'].value_counts().index)\n",
        "ax[1].set_title('Count Plot of alcohol use', fontsize=16)\n"
      ],
      "execution_count": null,
      "outputs": [
        {
          "output_type": "execute_result",
          "data": {
            "text/plain": [
              "Text(0.5, 1.0, 'Count Plot of alcohol use')"
            ]
          },
          "metadata": {
            "tags": []
          },
          "execution_count": 340
        },
        {
          "output_type": "display_data",
          "data": {
            "image/png": "[encoded data removed]",
            "text/plain": [
              "<Figure size 1296x432 with 2 Axes>"
            ]
          },
          "metadata": {
            "tags": [],
            "needs_background": "light"
          }
        }
      ]
    },
    {
      "cell_type": "code",
      "metadata": {
        "id": "mrYpUcpHjdv4"
      },
      "source": [
        ""
      ],
      "execution_count": null,
      "outputs": []
    },
    {
      "cell_type": "code",
      "metadata": {
        "colab": {
          "base_uri": "https://localhost:8080/",
          "height": 424
        },
        "id": "4pJz50hVAJu_",
        "outputId": "d20f0b5d-c264-40cf-ea28-a30ca0c00daf"
      },
      "source": [
        "# visualization of obesity , diet\n",
        "fig, ax = plt.subplots(nrows=1, ncols=2, figsize=(18, 6))\n",
        "sns.countplot(x='physical_activity', data=df, ax=ax[0], order = df['physical_activity'].value_counts().index)\n",
        "ax[0].set_title('Count Plot of physical activity', fontsize=16)\n",
        "\n",
        "sns.countplot(x='diet', data=df, ax=ax[1], order = df['diet'].value_counts().index)\n",
        "ax[1].set_title('Count Plot of diet', fontsize=16)\n"
      ],
      "execution_count": null,
      "outputs": [
        {
          "output_type": "execute_result",
          "data": {
            "text/plain": [
              "Text(0.5, 1.0, 'Count Plot of diet')"
            ]
          },
          "metadata": {
            "tags": []
          },
          "execution_count": 341
        },
        {
          "output_type": "display_data",
          "data": {
            "image/png": "[encoded data removed]",
            "text/plain": [
              "<Figure size 1296x432 with 2 Axes>"
            ]
          },
          "metadata": {
            "tags": [],
            "needs_background": "light"
          }
        }
      ]
    },
    {
      "cell_type": "code",
      "metadata": {
        "id": "bn6kgpsnB8Yh",
        "colab": {
          "base_uri": "https://localhost:8080/",
          "height": 423
        },
        "outputId": "bca4ecb6-ec52-435c-cb86-fa57159fe450"
      },
      "source": [
        "# visualization of obesity, gender\n",
        "fig, ax = plt.subplots(nrows=1, ncols=2, figsize=(18, 6))\n",
        "sns.countplot(x='obesity', data=df, ax=ax[0], order = df['obesity'].value_counts().index)\n",
        "ax[0].set_title('Count Plot of obesity', fontsize=16)\n",
        "\n",
        "sns.countplot(x='gender', data=df, ax=ax[1], order = df['gender'].value_counts().index)\n",
        "ax[1].set_title('Count Plot of gender', fontsize=16)\n"
      ],
      "execution_count": null,
      "outputs": [
        {
          "output_type": "execute_result",
          "data": {
            "text/plain": [
              "Text(0.5, 1.0, 'Count Plot of gender')"
            ]
          },
          "metadata": {
            "tags": []
          },
          "execution_count": 342
        },
        {
          "output_type": "display_data",
          "data": {
            "image/png": "[encoded data removed]",
            "text/plain": [
              "<Figure size 1296x432 with 2 Axes>"
            ]
          },
          "metadata": {
            "tags": [],
            "needs_background": "light"
          }
        }
      ]
    },
    {
      "cell_type": "code",
      "metadata": {
        "id": "kR37Y8eUE1Qr"
      },
      "source": [
        ""
      ],
      "execution_count": null,
      "outputs": []
    },
    {
      "cell_type": "markdown",
      "metadata": {
        "id": "aHHyUDBTFCPX"
      },
      "source": [
        "Data processing and modeling "
      ]
    },
    {
      "cell_type": "code",
      "metadata": {
        "id": "VmVPWgs9FJsg"
      },
      "source": [
        "# Let's scale the data first\n",
        "value_cols = ['age','height']\n",
        "X = df.loc[:, df.columns.isin(value_cols)]\n",
        "scaler = StandardScaler()\n",
        "df_scaled = scaler.fit_transform(X)\n",
        "\n"
      ],
      "execution_count": null,
      "outputs": []
    },
    {
      "cell_type": "code",
      "metadata": {
        "id": "5_cHAMZbNplC"
      },
      "source": [
        "# determine the best number of clusters\n",
        "clusters = range(2, 20)\n",
        "inertias = []\n",
        "silhouettes = []\n",
        "\n",
        "for n_clusters in clusters:\n",
        "    kmeans = KMeans(n_clusters=n_clusters, init='k-means++', random_state=42, n_jobs=-1)\n",
        "    kmeans = kmeans.fit(df_scaled)\n",
        "    label = kmeans.predict(df_scaled)\n",
        "    \n",
        "    inertias.append(kmeans.inertia_)\n",
        "    silhouettes.append(silhouette_score(df_scaled, label))"
      ],
      "execution_count": null,
      "outputs": []
    },
    {
      "cell_type": "code",
      "metadata": {
        "colab": {
          "base_uri": "https://localhost:8080/",
          "height": 404
        },
        "id": "wUnX7MklN6Ak",
        "outputId": "42b84dbf-f192-4b88-ef5d-3b5eeb291a2f"
      },
      "source": [
        "\n",
        "# visualization\n",
        "fig, ax = plt.subplots(nrows=1, ncols=2, figsize=(18, 6))\n",
        "ax[0].plot(clusters, inertias, 'o-', label='Sum of Squared Distances')\n",
        "ax[0].grid(True)\n",
        "ax[1].plot(clusters, silhouettes, 'o-', label='Silhouette Coefficient')\n",
        "ax[1].grid(True)\n",
        "plt.legend(fontsize=12)\n",
        "plt.tight_layout()\n",
        "plt.show()"
      ],
      "execution_count": null,
      "outputs": [
        {
          "output_type": "display_data",
          "data": {
            "image/png": "[encoded data removed]",
            "text/plain": [
              "<Figure size 1296x432 with 2 Axes>"
            ]
          },
          "metadata": {
            "tags": [],
            "needs_background": "light"
          }
        }
      ]
    },
    {
      "cell_type": "code",
      "metadata": {
        "colab": {
          "base_uri": "https://localhost:8080/",
          "height": 295
        },
        "id": "sNURZ_MCOHkf",
        "outputId": "946ea1e5-7ee4-4631-f93e-c2e24eab2e69"
      },
      "source": [
        "scores_1 = []\n",
        "\n",
        "range_values = range(1, 20)\n",
        "\n",
        "for i in range_values:\n",
        "  kmeans = KMeans(n_clusters = i)\n",
        "  kmeans.fit(df_scaled)\n",
        "  scores_1.append(kmeans.inertia_) \n",
        "\n",
        "plt.plot(scores_1, 'bx-')\n",
        "plt.title('Finding the right number of clusters')\n",
        "plt.xlabel('Clusters')\n",
        "plt.ylabel('Scores') \n",
        "plt.show()\n"
      ],
      "execution_count": null,
      "outputs": [
        {
          "output_type": "display_data",
          "data": {
            "image/png": "[encoded data removed]",
            "text/plain": [
              "<Figure size 432x288 with 1 Axes>"
            ]
          },
          "metadata": {
            "tags": [],
            "needs_background": "light"
          }
        }
      ]
    },
    {
      "cell_type": "code",
      "metadata": {
        "id": "Xyx_O5yIPbB9"
      },
      "source": [
        "# build K-Means model\n",
        "kmeans = KMeans(4)\n",
        "kmeans.fit(df_scaled)\n",
        "labels = kmeans.labels_"
      ],
      "execution_count": null,
      "outputs": []
    },
    {
      "cell_type": "code",
      "metadata": {
        "colab": {
          "base_uri": "https://localhost:8080/"
        },
        "id": "iS_mp0eKQftg",
        "outputId": "4e546571-64a6-4e6f-c6b0-e3c2390a3495"
      },
      "source": [
        "kmeans.cluster_centers_.shape"
      ],
      "execution_count": null,
      "outputs": [
        {
          "output_type": "execute_result",
          "data": {
            "text/plain": [
              "(4, 2)"
            ]
          },
          "metadata": {
            "tags": []
          },
          "execution_count": 348
        }
      ]
    },
    {
      "cell_type": "code",
      "metadata": {
        "colab": {
          "base_uri": "https://localhost:8080/",
          "height": 173
        },
        "id": "7lio1SM6Qrkt",
        "outputId": "50e1e9da-f975-4619-f100-703cecad251c"
      },
      "source": [
        "cluster_centers = pd.DataFrame(data = kmeans.cluster_centers_, columns = [X.columns])\n",
        "cluster_centers       "
      ],
      "execution_count": null,
      "outputs": [
        {
          "output_type": "execute_result",
          "data": {
            "text/html": [
              "<div>\n",
              "<style scoped>\n",
              "    .dataframe tbody tr th:only-of-type {\n",
              "        vertical-align: middle;\n",
              "    }\n",
              "\n",
              "    .dataframe tbody tr th {\n",
              "        vertical-align: top;\n",
              "    }\n",
              "\n",
              "    .dataframe thead tr th {\n",
              "        text-align: left;\n",
              "    }\n",
              "</style>\n",
              "<table border=\"1\" class=\"dataframe\">\n",
              "  <thead>\n",
              "    <tr>\n",
              "      <th></th>\n",
              "      <th>age</th>\n",
              "      <th>height</th>\n",
              "    </tr>\n",
              "  </thead>\n",
              "  <tbody>\n",
              "    <tr>\n",
              "      <th>0</th>\n",
              "      <td>0.881816</td>\n",
              "      <td>0.851025</td>\n",
              "    </tr>\n",
              "    <tr>\n",
              "      <th>1</th>\n",
              "      <td>0.445063</td>\n",
              "      <td>-0.916446</td>\n",
              "    </tr>\n",
              "    <tr>\n",
              "      <th>2</th>\n",
              "      <td>-1.629103</td>\n",
              "      <td>-0.645827</td>\n",
              "    </tr>\n",
              "    <tr>\n",
              "      <th>3</th>\n",
              "      <td>-0.377060</td>\n",
              "      <td>0.979456</td>\n",
              "    </tr>\n",
              "  </tbody>\n",
              "</table>\n",
              "</div>"
            ],
            "text/plain": [
              "        age    height\n",
              "0  0.881816  0.851025\n",
              "1  0.445063 -0.916446\n",
              "2 -1.629103 -0.645827\n",
              "3 -0.377060  0.979456"
            ]
          },
          "metadata": {
            "tags": []
          },
          "execution_count": 349
        }
      ]
    },
    {
      "cell_type": "code",
      "metadata": {
        "colab": {
          "base_uri": "https://localhost:8080/",
          "height": 173
        },
        "id": "KSkDH96rROXN",
        "outputId": "c8453671-0056-454f-ec84-f1f27401e916"
      },
      "source": [
        "# In order to understand what these numbers mean, let's perform inverse transformation\n",
        "cluster_centers = scaler.inverse_transform(cluster_centers)\n",
        "cluster_centers = pd.DataFrame(data = cluster_centers, columns = [X.columns])\n",
        "cluster_centers\n"
      ],
      "execution_count": null,
      "outputs": [
        {
          "output_type": "execute_result",
          "data": {
            "text/html": [
              "<div>\n",
              "<style scoped>\n",
              "    .dataframe tbody tr th:only-of-type {\n",
              "        vertical-align: middle;\n",
              "    }\n",
              "\n",
              "    .dataframe tbody tr th {\n",
              "        vertical-align: top;\n",
              "    }\n",
              "\n",
              "    .dataframe thead tr th {\n",
              "        text-align: left;\n",
              "    }\n",
              "</style>\n",
              "<table border=\"1\" class=\"dataframe\">\n",
              "  <thead>\n",
              "    <tr>\n",
              "      <th></th>\n",
              "      <th>age</th>\n",
              "      <th>height</th>\n",
              "    </tr>\n",
              "  </thead>\n",
              "  <tbody>\n",
              "    <tr>\n",
              "      <th>0</th>\n",
              "      <td>82.897959</td>\n",
              "      <td>185.734694</td>\n",
              "    </tr>\n",
              "    <tr>\n",
              "      <th>1</th>\n",
              "      <td>77.985714</td>\n",
              "      <td>160.542857</td>\n",
              "    </tr>\n",
              "    <tr>\n",
              "      <th>2</th>\n",
              "      <td>54.657143</td>\n",
              "      <td>164.400000</td>\n",
              "    </tr>\n",
              "    <tr>\n",
              "      <th>3</th>\n",
              "      <td>68.739130</td>\n",
              "      <td>187.565217</td>\n",
              "    </tr>\n",
              "  </tbody>\n",
              "</table>\n",
              "</div>"
            ],
            "text/plain": [
              "         age      height\n",
              "0  82.897959  185.734694\n",
              "1  77.985714  160.542857\n",
              "2  54.657143  164.400000\n",
              "3  68.739130  187.565217"
            ]
          },
          "metadata": {
            "tags": []
          },
          "execution_count": 350
        }
      ]
    },
    {
      "cell_type": "code",
      "metadata": {
        "colab": {
          "base_uri": "https://localhost:8080/"
        },
        "id": "uX9cjiPTSH6e",
        "outputId": "987a6798-f692-4beb-f6a6-2284bb5436a4"
      },
      "source": [
        "labels.shape # Labels associated to each data point"
      ],
      "execution_count": null,
      "outputs": [
        {
          "output_type": "execute_result",
          "data": {
            "text/plain": [
              "(200,)"
            ]
          },
          "metadata": {
            "tags": []
          },
          "execution_count": 351
        }
      ]
    },
    {
      "cell_type": "code",
      "metadata": {
        "colab": {
          "base_uri": "https://localhost:8080/"
        },
        "id": "ppBlnca-SK2M",
        "outputId": "f4438a28-72e1-4485-ee10-b6b76336c4ef"
      },
      "source": [
        "labels.max()"
      ],
      "execution_count": null,
      "outputs": [
        {
          "output_type": "execute_result",
          "data": {
            "text/plain": [
              "3"
            ]
          },
          "metadata": {
            "tags": []
          },
          "execution_count": 352
        }
      ]
    },
    {
      "cell_type": "code",
      "metadata": {
        "colab": {
          "base_uri": "https://localhost:8080/"
        },
        "id": "94Q7KJQDSNrA",
        "outputId": "3b224120-06f6-42c4-8f0f-d09b68c1de36"
      },
      "source": [
        "labels.min()"
      ],
      "execution_count": null,
      "outputs": [
        {
          "output_type": "execute_result",
          "data": {
            "text/plain": [
              "0"
            ]
          },
          "metadata": {
            "tags": []
          },
          "execution_count": 353
        }
      ]
    },
    {
      "cell_type": "code",
      "metadata": {
        "colab": {
          "base_uri": "https://localhost:8080/"
        },
        "id": "HkxHLQogSQyV",
        "outputId": "5d368e2f-7f32-4834-8e76-ed17ec573533"
      },
      "source": [
        "y_kmeans = kmeans.fit_predict(X)\n",
        "y_kmeans\n"
      ],
      "execution_count": null,
      "outputs": [
        {
          "output_type": "execute_result",
          "data": {
            "text/plain": [
              "array([0, 1, 0, 3, 0, 0, 0, 1, 3, 0, 0, 3, 0, 1, 0, 0, 0, 3, 0, 0, 3, 3,\n",
              "       0, 1, 3, 0, 3, 2, 3, 1, 0, 1, 1, 3, 0, 1, 3, 2, 0, 0, 0, 3, 1, 3,\n",
              "       3, 1, 2, 3, 0, 2, 0, 0, 2, 3, 0, 3, 0, 2, 1, 2, 1, 3, 0, 2, 3, 2,\n",
              "       0, 0, 1, 2, 0, 2, 0, 1, 2, 1, 1, 0, 0, 1, 3, 2, 3, 1, 1, 0, 1, 1,\n",
              "       0, 0, 1, 3, 2, 0, 0, 3, 0, 1, 0, 3, 0, 2, 0, 0, 3, 1, 0, 2, 1, 0,\n",
              "       2, 0, 0, 1, 0, 0, 2, 3, 2, 0, 3, 3, 2, 1, 1, 2, 0, 1, 2, 1, 0, 2,\n",
              "       0, 2, 1, 1, 3, 0, 2, 3, 3, 3, 0, 0, 1, 1, 0, 1, 3, 1, 2, 3, 2, 2,\n",
              "       0, 1, 3, 0, 1, 3, 0, 2, 0, 0, 0, 3, 3, 3, 3, 1, 3, 0, 3, 3, 0, 3,\n",
              "       1, 3, 0, 0, 1, 0, 3, 3, 1, 0, 2, 0, 0, 3, 1, 1, 2, 2, 3, 2, 0, 3,\n",
              "       3, 2], dtype=int32)"
            ]
          },
          "metadata": {
            "tags": []
          },
          "execution_count": 354
        }
      ]
    },
    {
      "cell_type": "code",
      "metadata": {
        "colab": {
          "base_uri": "https://localhost:8080/",
          "height": 204
        },
        "id": "DRpv7qQ7Sci3",
        "outputId": "67ced737-3a25-4793-a03e-0b15ba283dfe"
      },
      "source": [
        "# concatenate the clusters labels to our original dataframe\n",
        "X_cluster = pd.concat([X, pd.DataFrame({'cluster':labels})], axis = 1)\n",
        "X_cluster.head()"
      ],
      "execution_count": null,
      "outputs": [
        {
          "output_type": "execute_result",
          "data": {
            "text/html": [
              "<div>\n",
              "<style scoped>\n",
              "    .dataframe tbody tr th:only-of-type {\n",
              "        vertical-align: middle;\n",
              "    }\n",
              "\n",
              "    .dataframe tbody tr th {\n",
              "        vertical-align: top;\n",
              "    }\n",
              "\n",
              "    .dataframe thead th {\n",
              "        text-align: right;\n",
              "    }\n",
              "</style>\n",
              "<table border=\"1\" class=\"dataframe\">\n",
              "  <thead>\n",
              "    <tr style=\"text-align: right;\">\n",
              "      <th></th>\n",
              "      <th>age</th>\n",
              "      <th>height</th>\n",
              "      <th>cluster</th>\n",
              "    </tr>\n",
              "  </thead>\n",
              "  <tbody>\n",
              "    <tr>\n",
              "      <th>0</th>\n",
              "      <td>82</td>\n",
              "      <td>154</td>\n",
              "      <td>1</td>\n",
              "    </tr>\n",
              "    <tr>\n",
              "      <th>1</th>\n",
              "      <td>76</td>\n",
              "      <td>191</td>\n",
              "      <td>3</td>\n",
              "    </tr>\n",
              "    <tr>\n",
              "      <th>2</th>\n",
              "      <td>76</td>\n",
              "      <td>164</td>\n",
              "      <td>1</td>\n",
              "    </tr>\n",
              "    <tr>\n",
              "      <th>3</th>\n",
              "      <td>83</td>\n",
              "      <td>187</td>\n",
              "      <td>0</td>\n",
              "    </tr>\n",
              "    <tr>\n",
              "      <th>4</th>\n",
              "      <td>69</td>\n",
              "      <td>163</td>\n",
              "      <td>1</td>\n",
              "    </tr>\n",
              "  </tbody>\n",
              "</table>\n",
              "</div>"
            ],
            "text/plain": [
              "   age  height  cluster\n",
              "0   82     154        1\n",
              "1   76     191        3\n",
              "2   76     164        1\n",
              "3   83     187        0\n",
              "4   69     163        1"
            ]
          },
          "metadata": {
            "tags": []
          },
          "execution_count": 355
        }
      ]
    },
    {
      "cell_type": "code",
      "metadata": {
        "colab": {
          "base_uri": "https://localhost:8080/",
          "height": 235
        },
        "id": "CD3H5ayNAxX6",
        "outputId": "a24865a2-5cc5-434f-bfee-32b9ac476cad"
      },
      "source": [
        "X_cluster.groupby(['cluster']).agg({'age': ['mean', 'min', 'max','count'],'height': ['mean', 'min', 'max','count']})"
      ],
      "execution_count": null,
      "outputs": [
        {
          "output_type": "execute_result",
          "data": {
            "text/html": [
              "<div>\n",
              "<style scoped>\n",
              "    .dataframe tbody tr th:only-of-type {\n",
              "        vertical-align: middle;\n",
              "    }\n",
              "\n",
              "    .dataframe tbody tr th {\n",
              "        vertical-align: top;\n",
              "    }\n",
              "\n",
              "    .dataframe thead tr th {\n",
              "        text-align: left;\n",
              "    }\n",
              "\n",
              "    .dataframe thead tr:last-of-type th {\n",
              "        text-align: right;\n",
              "    }\n",
              "</style>\n",
              "<table border=\"1\" class=\"dataframe\">\n",
              "  <thead>\n",
              "    <tr>\n",
              "      <th></th>\n",
              "      <th colspan=\"4\" halign=\"left\">age</th>\n",
              "      <th colspan=\"4\" halign=\"left\">height</th>\n",
              "    </tr>\n",
              "    <tr>\n",
              "      <th></th>\n",
              "      <th>mean</th>\n",
              "      <th>min</th>\n",
              "      <th>max</th>\n",
              "      <th>count</th>\n",
              "      <th>mean</th>\n",
              "      <th>min</th>\n",
              "      <th>max</th>\n",
              "      <th>count</th>\n",
              "    </tr>\n",
              "    <tr>\n",
              "      <th>cluster</th>\n",
              "      <th></th>\n",
              "      <th></th>\n",
              "      <th></th>\n",
              "      <th></th>\n",
              "      <th></th>\n",
              "      <th></th>\n",
              "      <th></th>\n",
              "      <th></th>\n",
              "    </tr>\n",
              "  </thead>\n",
              "  <tbody>\n",
              "    <tr>\n",
              "      <th>0</th>\n",
              "      <td>82.897959</td>\n",
              "      <td>77</td>\n",
              "      <td>89</td>\n",
              "      <td>49</td>\n",
              "      <td>185.734694</td>\n",
              "      <td>172</td>\n",
              "      <td>199</td>\n",
              "      <td>49</td>\n",
              "    </tr>\n",
              "    <tr>\n",
              "      <th>1</th>\n",
              "      <td>77.985714</td>\n",
              "      <td>66</td>\n",
              "      <td>89</td>\n",
              "      <td>70</td>\n",
              "      <td>160.542857</td>\n",
              "      <td>150</td>\n",
              "      <td>173</td>\n",
              "      <td>70</td>\n",
              "    </tr>\n",
              "    <tr>\n",
              "      <th>2</th>\n",
              "      <td>54.657143</td>\n",
              "      <td>38</td>\n",
              "      <td>66</td>\n",
              "      <td>35</td>\n",
              "      <td>164.400000</td>\n",
              "      <td>151</td>\n",
              "      <td>183</td>\n",
              "      <td>35</td>\n",
              "    </tr>\n",
              "    <tr>\n",
              "      <th>3</th>\n",
              "      <td>68.739130</td>\n",
              "      <td>60</td>\n",
              "      <td>76</td>\n",
              "      <td>46</td>\n",
              "      <td>187.565217</td>\n",
              "      <td>173</td>\n",
              "      <td>199</td>\n",
              "      <td>46</td>\n",
              "    </tr>\n",
              "  </tbody>\n",
              "</table>\n",
              "</div>"
            ],
            "text/plain": [
              "               age                    height                \n",
              "              mean min max count        mean  min  max count\n",
              "cluster                                                     \n",
              "0        82.897959  77  89    49  185.734694  172  199    49\n",
              "1        77.985714  66  89    70  160.542857  150  173    70\n",
              "2        54.657143  38  66    35  164.400000  151  183    35\n",
              "3        68.739130  60  76    46  187.565217  173  199    46"
            ]
          },
          "metadata": {
            "tags": []
          },
          "execution_count": 356
        }
      ]
    },
    {
      "cell_type": "code",
      "metadata": {
        "colab": {
          "base_uri": "https://localhost:8080/",
          "height": 235
        },
        "id": "Pz6tZ9ATCG1p",
        "outputId": "7b77c121-5d52-4ec6-ed3d-195199944211"
      },
      "source": [
        "X_cluster.groupby(['cluster']).agg({'height': ['mean', 'min', 'max','count']})"
      ],
      "execution_count": null,
      "outputs": [
        {
          "output_type": "execute_result",
          "data": {
            "text/html": [
              "<div>\n",
              "<style scoped>\n",
              "    .dataframe tbody tr th:only-of-type {\n",
              "        vertical-align: middle;\n",
              "    }\n",
              "\n",
              "    .dataframe tbody tr th {\n",
              "        vertical-align: top;\n",
              "    }\n",
              "\n",
              "    .dataframe thead tr th {\n",
              "        text-align: left;\n",
              "    }\n",
              "\n",
              "    .dataframe thead tr:last-of-type th {\n",
              "        text-align: right;\n",
              "    }\n",
              "</style>\n",
              "<table border=\"1\" class=\"dataframe\">\n",
              "  <thead>\n",
              "    <tr>\n",
              "      <th></th>\n",
              "      <th colspan=\"4\" halign=\"left\">height</th>\n",
              "    </tr>\n",
              "    <tr>\n",
              "      <th></th>\n",
              "      <th>mean</th>\n",
              "      <th>min</th>\n",
              "      <th>max</th>\n",
              "      <th>count</th>\n",
              "    </tr>\n",
              "    <tr>\n",
              "      <th>cluster</th>\n",
              "      <th></th>\n",
              "      <th></th>\n",
              "      <th></th>\n",
              "      <th></th>\n",
              "    </tr>\n",
              "  </thead>\n",
              "  <tbody>\n",
              "    <tr>\n",
              "      <th>0</th>\n",
              "      <td>185.734694</td>\n",
              "      <td>172</td>\n",
              "      <td>199</td>\n",
              "      <td>49</td>\n",
              "    </tr>\n",
              "    <tr>\n",
              "      <th>1</th>\n",
              "      <td>160.542857</td>\n",
              "      <td>150</td>\n",
              "      <td>173</td>\n",
              "      <td>70</td>\n",
              "    </tr>\n",
              "    <tr>\n",
              "      <th>2</th>\n",
              "      <td>164.400000</td>\n",
              "      <td>151</td>\n",
              "      <td>183</td>\n",
              "      <td>35</td>\n",
              "    </tr>\n",
              "    <tr>\n",
              "      <th>3</th>\n",
              "      <td>187.565217</td>\n",
              "      <td>173</td>\n",
              "      <td>199</td>\n",
              "      <td>46</td>\n",
              "    </tr>\n",
              "  </tbody>\n",
              "</table>\n",
              "</div>"
            ],
            "text/plain": [
              "             height                \n",
              "               mean  min  max count\n",
              "cluster                            \n",
              "0        185.734694  172  199    49\n",
              "1        160.542857  150  173    70\n",
              "2        164.400000  151  183    35\n",
              "3        187.565217  173  199    46"
            ]
          },
          "metadata": {
            "tags": []
          },
          "execution_count": 357
        }
      ]
    },
    {
      "cell_type": "code",
      "metadata": {
        "colab": {
          "base_uri": "https://localhost:8080/",
          "height": 414
        },
        "id": "gLo5woAASrCc",
        "outputId": "a6e8a491-f26d-4f2a-943d-3516b0a650f4"
      },
      "source": [
        "# Plot the histogram of various clusters\n",
        "for i in X.columns:\n",
        "  plt.figure(figsize = (35, 5))\n",
        "  for j in range(4):\n",
        "    plt.subplot(1,4,j+1)\n",
        "    cluster = X_cluster[X_cluster['cluster'] == j]\n",
        "    cluster[i].hist(bins = 20)\n",
        "    plt.title('{}    \\nCluster {} '.format(i,j))\n",
        "  \n",
        "  plt.show()\n",
        "\n"
      ],
      "execution_count": null,
      "outputs": [
        {
          "output_type": "display_data",
          "data": {
            "image/png": "[encoded data removed]",
            "text/plain": [
              "<Figure size 2520x360 with 4 Axes>"
            ]
          },
          "metadata": {
            "tags": [],
            "needs_background": "light"
          }
        },
        {
          "output_type": "display_data",
          "data": {
            "image/png": "[encoded data removed]",
            "text/plain": [
              "<Figure size 2520x360 with 4 Axes>"
            ]
          },
          "metadata": {
            "tags": [],
            "needs_background": "light"
          }
        }
      ]
    },
    {
      "cell_type": "code",
      "metadata": {
        "id": "H4h6am2ZTc1p"
      },
      "source": [
        ""
      ],
      "execution_count": null,
      "outputs": []
    },
    {
      "cell_type": "markdown",
      "metadata": {
        "id": "VlwlLg5CTdYF"
      },
      "source": [
        "PCA"
      ]
    },
    {
      "cell_type": "code",
      "metadata": {
        "id": "SwDXSVpdTfbh"
      },
      "source": [
        "# PCA for dimension reduction\n",
        "pca = PCA(n_components=2, random_state=42)\n",
        "pca = pca.fit(df_scaled)\n",
        "pca_feature = pca.transform(df_scaled)"
      ],
      "execution_count": null,
      "outputs": []
    },
    {
      "cell_type": "code",
      "metadata": {
        "colab": {
          "base_uri": "https://localhost:8080/"
        },
        "id": "fn20bFs7T86v",
        "outputId": "f57eed66-0799-4461-838c-e2a8c53d8085"
      },
      "source": [
        "# Obtain the principal components \n",
        "pca = PCA(n_components=2)\n",
        "principal_comp = pca.fit_transform(df_scaled)\n",
        "principal_comp"
      ],
      "execution_count": null,
      "outputs": [
        {
          "output_type": "execute_result",
          "data": {
            "text/plain": [
              "array([[ 4.05539553e-01, -1.53970643e+00],\n",
              "       [-1.05284883e+00,  6.73116682e-01],\n",
              "       [ 2.86647256e-01, -6.66379403e-01],\n",
              "       [-1.29449189e+00,  3.45858924e-02],\n",
              "       [ 7.76345147e-01, -2.75903444e-01],\n",
              "       [ 7.42981133e-01, -1.49993064e+00],\n",
              "       [ 1.56028542e+00, -6.82626355e-01],\n",
              "       [-1.12555357e+00,  9.97299668e-01],\n",
              "       [-1.17217618e+00, -3.39208060e-01],\n",
              "       [ 6.51096148e-02, -1.93363519e-01],\n",
              "       [-2.42826419e-01, -1.39429694e+00],\n",
              "       [-1.46641856e+00,  4.57990811e-01],\n",
              "       [ 4.12386378e-01, -5.40640281e-01],\n",
              "       [-2.06038993e-01,  3.29263332e-01],\n",
              "       [ 9.58107005e-01, -1.08636091e+00],\n",
              "       [ 4.61997344e-01, -5.90251248e-01],\n",
              "       [ 1.18306806e+00, -1.05984372e+00],\n",
              "       [-1.43348961e+00, -2.03633756e-01],\n",
              "       [ 2.83223844e-01, -1.16591248e+00],\n",
              "       [ 8.45626478e-01, -1.09961950e+00],\n",
              "       [-1.54597013e+00, -2.16892351e-01],\n",
              "       [-1.75424918e+00,  3.68604061e-01],\n",
              "       [ 9.08496039e-01, -1.03674994e+00],\n",
              "       [-1.66263209e-01,  6.66704912e-01],\n",
              "       [-1.77093119e+00, -2.43409540e-01],\n",
              "       [ 5.97571647e-01, -8.51564673e-01],\n",
              "       [-9.17274525e-01,  4.11803257e-01],\n",
              "       [ 1.86479804e+00,  1.87739954e-02],\n",
              "       [-6.19608729e-01,  1.14137460e-01],\n",
              "       [ 3.43105047e-01,  2.83075778e-01],\n",
              "       [ 2.46871472e-01, -1.00382098e+00],\n",
              "       [ 1.87860379e-01,  1.31849430e+00],\n",
              "       [-7.58171390e-01,  1.76156958e+00],\n",
              "       [-1.32100908e+00, -1.90375161e-01],\n",
              "       [ 7.23310769e-01, -7.25825551e-01],\n",
              "       [-3.15096107e-01,  8.15537811e-01],\n",
              "       [-1.37062005e+00, -1.40764195e-01],\n",
              "       [ 8.49484945e-01,  1.28556534e+00],\n",
              "       [ 5.31278674e-01, -1.41396731e+00],\n",
              "       [ 5.82627899e-02, -1.19242967e+00],\n",
              "       [ 7.83682094e-02, -8.08829918e-02],\n",
              "       [-6.85901702e-01, -4.48265174e-01],\n",
              "       [ 1.48084595e-01,  9.81052716e-01],\n",
              "       [-6.42702505e-01,  3.88709480e-01],\n",
              "       [-2.82167148e-01,  1.53913244e-01],\n",
              "       [-9.46780072e-01,  1.57296090e+00],\n",
              "       [ 8.42638121e-01,  2.86499190e-01],\n",
              "       [-1.10930662e+00, -2.76338499e-01],\n",
              "       [ 4.98349715e-01, -7.52342741e-01],\n",
              "       [ 2.97335636e+00,  1.42499811e+00],\n",
              "       [-4.81046068e-01, -1.53329466e+00],\n",
              "       [ 5.82627899e-02, -1.19242967e+00],\n",
              "       [ 1.61331980e+00, -2.32704248e-01],\n",
              "       [-1.29449189e+00,  3.45858924e-02],\n",
              "       [ 1.37510015e+00, -3.71701964e-01],\n",
              "       [-1.39371382e+00,  1.33807825e-01],\n",
              "       [ 8.85402262e-01, -7.62177923e-01],\n",
              "       [ 1.48116891e+00,  5.28142251e-01],\n",
              "       [-7.41924438e-01,  4.87931412e-01],\n",
              "       [ 1.55729707e+00,  7.03492339e-01],\n",
              "       [ 1.01897041e-01,  1.53019676e+00],\n",
              "       [-1.27139811e+00, -2.39986127e-01],\n",
              "       [ 2.86647256e-01, -6.66379403e-01],\n",
              "       [ 1.85838627e+00,  9.05359616e-01],\n",
              "       [-9.96826093e-01, -2.63079904e-01],\n",
              "       [ 2.43062409e+00,  5.84600042e-01],\n",
              "       [ 2.27201108e-01, -2.29715890e-01],\n",
              "       [-1.56863082e-01, -1.60599940e+00],\n",
              "       [-5.99503309e-01,  1.22568413e+00],\n",
              "       [ 2.29504979e+00,  8.45913467e-01],\n",
              "       [ 1.77155087e-01, -2.06575669e+00],\n",
              "       [ 9.32024871e-01,  5.74329805e-01],\n",
              "       [ 2.90070668e-01, -1.66846329e-01],\n",
              "       [-4.47246998e-01,  1.57638431e+00],\n",
              "       [ 1.84855109e+00,  1.29241216e+00],\n",
              "       [ 1.31402588e-01,  3.69039116e-01],\n",
              "       [-4.24153222e-01,  1.30181229e+00],\n",
              "       [ 6.14253654e-01, -2.39551072e-01],\n",
              "       [-4.37846871e-01, -6.96320005e-01],\n",
              "       [-1.22477550e+00,  1.09652160e+00],\n",
              "       [-1.49293575e+00,  2.33029757e-01],\n",
              "       [ 2.81126487e+00,  1.46135048e+00],\n",
              "       [-1.24830434e+00, -5.14558147e-01],\n",
              "       [-4.10894627e-01,  1.41429282e+00],\n",
              "       [-4.54093823e-01,  5.77318162e-01],\n",
              "       [ 2.63553479e-01, -3.91807383e-01],\n",
              "       [ 3.46528459e-01,  7.82608852e-01],\n",
              "       [-1.26455129e+00,  7.59080020e-01],\n",
              "       [ 8.55461660e-01, -1.48667205e+00],\n",
              "       [ 2.46871472e-01, -1.00382098e+00],\n",
              "       [-8.34299545e-01,  1.58621949e+00],\n",
              "       [-1.42023101e+00, -9.11532291e-02],\n",
              "       [ 1.89816206e+00,  1.24280120e+00],\n",
              "       [-3.68565541e-01, -1.52003606e+00],\n",
              "       [-1.26922480e-01, -8.81505274e-01],\n",
              "       [-1.82695392e+00,  6.92787046e-01],\n",
              "       [ 1.18306806e+00, -1.05984372e+00],\n",
              "       [ 2.30624520e-01,  2.69817183e-01],\n",
              "       [ 2.23777695e-01, -7.29248964e-01],\n",
              "       [-1.40354900e+00,  5.20860371e-01],\n",
              "       [ 2.30189465e-01, -1.61583458e+00],\n",
              "       [ 2.42763573e+00,  1.97071874e+00],\n",
              "       [-5.76844587e-01, -9.34539653e-01],\n",
              "       [ 2.87572433e-02, -3.12720257e-02],\n",
              "       [-6.69219695e-01,  1.63748426e-01],\n",
              "       [-1.08920120e+00,  8.35208175e-01],\n",
              "       [ 1.77155087e-01, -2.06575669e+00],\n",
              "       [ 1.15698592e+00,  6.00846994e-01],\n",
              "       [-2.42391364e-01,  4.91354825e-01],\n",
              "       [ 7.13475587e-01, -3.38773005e-01],\n",
              "       [ 8.69155310e-01,  5.11460244e-01],\n",
              "       [-1.70121676e-01, -1.71847993e+00],\n",
              "       [ 6.16862023e-02, -6.92896592e-01],\n",
              "       [-6.95301829e-01,  1.82443914e+00],\n",
              "       [ 5.67631046e-01, -1.57605880e+00],\n",
              "       [ 5.57795863e-01, -1.18900625e+00],\n",
              "       [ 1.44139313e+00,  1.90700671e-01],\n",
              "       [-1.07936602e+00,  4.48155628e-01],\n",
              "       [ 1.93750279e+00, -3.05408990e-01],\n",
              "       [ 1.21132351e-01, -1.12956011e+00],\n",
              "       [-1.13240040e+00, -1.76647907e-03],\n",
              "       [-1.27139811e+00, -2.39986127e-01],\n",
              "       [ 1.88490346e+00,  1.13032067e+00],\n",
              "       [-4.14318039e-01,  9.14759743e-01],\n",
              "       [-1.17516454e+00,  1.04691063e+00],\n",
              "       [ 1.74889411e+00, -4.94017673e-01],\n",
              "       [ 6.33924019e-01, -1.01365617e+00],\n",
              "       [ 3.10176088e-01,  9.44700345e-01],\n",
              "       [ 1.13389215e+00,  8.75419014e-01],\n",
              "       [-4.20729809e-01,  1.80134536e+00],\n",
              "       [-3.15531162e-01, -1.07011396e+00],\n",
              "       [ 1.63043686e+00,  2.26496112e+00],\n",
              "       [-3.51883534e-01, -9.08022464e-01],\n",
              "       [ 7.46839601e-01,  8.85254196e-01],\n",
              "       [ 1.61343190e-01,  1.09353324e+00],\n",
              "       [-1.35051463e+00,  9.70782479e-01],\n",
              "       [-8.18052593e-01,  3.12581325e-01],\n",
              "       [ 1.02097657e+00, -1.02349135e+00],\n",
              "       [ 1.28913682e+00, -1.59999505e-01],\n",
              "       [-9.86990911e-01, -6.50132451e-01],\n",
              "       [-1.01008469e+00, -3.75560431e-01],\n",
              "       [-1.20510514e+00,  3.22416507e-01],\n",
              "       [-2.65920196e-01, -1.11972492e+00],\n",
              "       [ 6.93370167e-01, -1.45031968e+00],\n",
              "       [-4.05240873e-02,  7.92444034e-01],\n",
              "       [-4.20729809e-01,  1.80134536e+00],\n",
              "       [-1.43604487e-01, -1.49351887e+00],\n",
              "       [-1.12555357e+00,  9.97299668e-01],\n",
              "       [-6.59384512e-01, -2.23304120e-01],\n",
              "       [-1.29910837e-01,  5.04613419e-01],\n",
              "       [ 2.17914585e+00,  3.33121799e-01],\n",
              "       [-2.02882120e+00,  3.91697837e-01],\n",
              "       [ 2.32156698e+00,  1.07087452e+00],\n",
              "       [ 1.28957187e+00,  1.72565226e+00],\n",
              "       [ 6.40770844e-01, -1.45900187e-02],\n",
              "       [-2.06038993e-01,  3.29263332e-01],\n",
              "       [-8.64675202e-01, -1.02392640e+00],\n",
              "       [ 2.86647256e-01, -6.66379403e-01],\n",
              "       [-8.14629181e-01,  8.12114398e-01],\n",
              "       [-9.43791715e-01,  1.86842203e-01],\n",
              "       [ 6.46745597e-02, -2.07901529e+00],\n",
              "       [ 1.45807513e+00,  8.02714271e-01],\n",
              "       [ 1.13688050e+00, -5.10699680e-01],\n",
              "       [ 1.70743317e-01, -1.17917107e+00],\n",
              "       [ 6.73699803e-01, -6.76214585e-01],\n",
              "       [-1.63193347e+00, -5.18989149e-03],\n",
              "       [-1.20510514e+00,  3.22416507e-01],\n",
              "       [-1.34752627e+00, -4.15336215e-01],\n",
              "       [-1.63193347e+00, -5.18989149e-03],\n",
              "       [-1.21151691e+00,  1.20900213e+00],\n",
              "       [-9.30533120e-01,  2.99322730e-01],\n",
              "       [ 9.35013228e-01, -8.11788889e-01],\n",
              "       [-1.05969565e+00, -3.25949465e-01],\n",
              "       [-1.25813952e+00, -1.27505601e-01],\n",
              "       [-2.35979594e-01, -3.95230796e-01],\n",
              "       [-4.44258641e-01,  1.90265616e-01],\n",
              "       [-1.16652243e-01,  6.17093946e-01],\n",
              "       [-6.36290736e-01, -4.97876140e-01],\n",
              "       [-5.07943245e-02, -7.06155187e-01],\n",
              "       [ 5.84313053e-01, -9.64045200e-01],\n",
              "       [-7.84688579e-01,  1.53660853e+00],\n",
              "       [-2.62496784e-01, -6.20191849e-01],\n",
              "       [-7.71865039e-01, -2.36562715e-01],\n",
              "       [-1.34067944e+00,  5.83729932e-01],\n",
              "       [ 1.24990818e-01,  1.25562474e+00],\n",
              "       [-9.39935208e-02, -1.54312984e+00],\n",
              "       [ 1.35586484e+00,  2.28805490e+00],\n",
              "       [-3.51883534e-01, -9.08022464e-01],\n",
              "       [ 9.71365599e-01, -9.73880382e-01],\n",
              "       [-1.09604803e+00, -1.63857972e-01],\n",
              "       [-5.49892343e-01,  1.17607317e+00],\n",
              "       [ 1.84436966e-01,  8.18961223e-01],\n",
              "       [ 1.53719165e+00, -4.08054335e-01],\n",
              "       [ 9.41860053e-01,  1.87277258e-01],\n",
              "       [-1.54254672e+00,  2.82640723e-01],\n",
              "       [ 8.65731897e-01,  1.19271706e-02],\n",
              "       [ 7.59663140e-01, -8.87917044e-01],\n",
              "       [-1.02676669e+00, -9.87574032e-01],\n",
              "       [-1.81711874e+00,  3.05734500e-01],\n",
              "       [ 1.45465172e+00,  3.03181197e-01]])"
            ]
          },
          "metadata": {
            "tags": []
          },
          "execution_count": 360
        }
      ]
    },
    {
      "cell_type": "code",
      "metadata": {
        "colab": {
          "base_uri": "https://localhost:8080/",
          "height": 204
        },
        "id": "8lzHhoq9Ue-R",
        "outputId": "af707683-c464-4b11-8d19-01a003eadf83"
      },
      "source": [
        "# Create a dataframe with the two components\n",
        "pca_df = pd.DataFrame(data = principal_comp, columns =['pca1','pca2'])\n",
        "pca_df.head()"
      ],
      "execution_count": null,
      "outputs": [
        {
          "output_type": "execute_result",
          "data": {
            "text/html": [
              "<div>\n",
              "<style scoped>\n",
              "    .dataframe tbody tr th:only-of-type {\n",
              "        vertical-align: middle;\n",
              "    }\n",
              "\n",
              "    .dataframe tbody tr th {\n",
              "        vertical-align: top;\n",
              "    }\n",
              "\n",
              "    .dataframe thead th {\n",
              "        text-align: right;\n",
              "    }\n",
              "</style>\n",
              "<table border=\"1\" class=\"dataframe\">\n",
              "  <thead>\n",
              "    <tr style=\"text-align: right;\">\n",
              "      <th></th>\n",
              "      <th>pca1</th>\n",
              "      <th>pca2</th>\n",
              "    </tr>\n",
              "  </thead>\n",
              "  <tbody>\n",
              "    <tr>\n",
              "      <th>0</th>\n",
              "      <td>0.405540</td>\n",
              "      <td>-1.539706</td>\n",
              "    </tr>\n",
              "    <tr>\n",
              "      <th>1</th>\n",
              "      <td>-1.052849</td>\n",
              "      <td>0.673117</td>\n",
              "    </tr>\n",
              "    <tr>\n",
              "      <th>2</th>\n",
              "      <td>0.286647</td>\n",
              "      <td>-0.666379</td>\n",
              "    </tr>\n",
              "    <tr>\n",
              "      <th>3</th>\n",
              "      <td>-1.294492</td>\n",
              "      <td>0.034586</td>\n",
              "    </tr>\n",
              "    <tr>\n",
              "      <th>4</th>\n",
              "      <td>0.776345</td>\n",
              "      <td>-0.275903</td>\n",
              "    </tr>\n",
              "  </tbody>\n",
              "</table>\n",
              "</div>"
            ],
            "text/plain": [
              "       pca1      pca2\n",
              "0  0.405540 -1.539706\n",
              "1 -1.052849  0.673117\n",
              "2  0.286647 -0.666379\n",
              "3 -1.294492  0.034586\n",
              "4  0.776345 -0.275903"
            ]
          },
          "metadata": {
            "tags": []
          },
          "execution_count": 361
        }
      ]
    },
    {
      "cell_type": "code",
      "metadata": {
        "colab": {
          "base_uri": "https://localhost:8080/",
          "height": 204
        },
        "id": "cHaqCU-LUkfp",
        "outputId": "39af81a3-fd62-4527-ac5b-0b674c36b908"
      },
      "source": [
        "# Concatenate the clusters labels to the dataframe\n",
        "pca_df = pd.concat([pca_df,pd.DataFrame({'cluster':labels})], axis = 1)\n",
        "pca_df.head()"
      ],
      "execution_count": null,
      "outputs": [
        {
          "output_type": "execute_result",
          "data": {
            "text/html": [
              "<div>\n",
              "<style scoped>\n",
              "    .dataframe tbody tr th:only-of-type {\n",
              "        vertical-align: middle;\n",
              "    }\n",
              "\n",
              "    .dataframe tbody tr th {\n",
              "        vertical-align: top;\n",
              "    }\n",
              "\n",
              "    .dataframe thead th {\n",
              "        text-align: right;\n",
              "    }\n",
              "</style>\n",
              "<table border=\"1\" class=\"dataframe\">\n",
              "  <thead>\n",
              "    <tr style=\"text-align: right;\">\n",
              "      <th></th>\n",
              "      <th>pca1</th>\n",
              "      <th>pca2</th>\n",
              "      <th>cluster</th>\n",
              "    </tr>\n",
              "  </thead>\n",
              "  <tbody>\n",
              "    <tr>\n",
              "      <th>0</th>\n",
              "      <td>0.405540</td>\n",
              "      <td>-1.539706</td>\n",
              "      <td>1</td>\n",
              "    </tr>\n",
              "    <tr>\n",
              "      <th>1</th>\n",
              "      <td>-1.052849</td>\n",
              "      <td>0.673117</td>\n",
              "      <td>3</td>\n",
              "    </tr>\n",
              "    <tr>\n",
              "      <th>2</th>\n",
              "      <td>0.286647</td>\n",
              "      <td>-0.666379</td>\n",
              "      <td>1</td>\n",
              "    </tr>\n",
              "    <tr>\n",
              "      <th>3</th>\n",
              "      <td>-1.294492</td>\n",
              "      <td>0.034586</td>\n",
              "      <td>0</td>\n",
              "    </tr>\n",
              "    <tr>\n",
              "      <th>4</th>\n",
              "      <td>0.776345</td>\n",
              "      <td>-0.275903</td>\n",
              "      <td>1</td>\n",
              "    </tr>\n",
              "  </tbody>\n",
              "</table>\n",
              "</div>"
            ],
            "text/plain": [
              "       pca1      pca2  cluster\n",
              "0  0.405540 -1.539706        1\n",
              "1 -1.052849  0.673117        3\n",
              "2  0.286647 -0.666379        1\n",
              "3 -1.294492  0.034586        0\n",
              "4  0.776345 -0.275903        1"
            ]
          },
          "metadata": {
            "tags": []
          },
          "execution_count": 362
        }
      ]
    },
    {
      "cell_type": "code",
      "metadata": {
        "colab": {
          "base_uri": "https://localhost:8080/",
          "height": 606
        },
        "id": "eaWjsCpAUnbv",
        "outputId": "5d1c2f13-9f98-44d6-f193-f8ae4e93bc65"
      },
      "source": [
        "plt.figure(figsize=(10,10))\n",
        "ax = sns.scatterplot(x=\"pca1\", y=\"pca2\", hue = \"cluster\", data = pca_df, palette =['red','green','blue','pink'])\n",
        "plt.show()"
      ],
      "execution_count": null,
      "outputs": [
        {
          "output_type": "display_data",
          "data": {
            "image/png": "[encoded data removed]",
            "text/plain": [
              "<Figure size 720x720 with 1 Axes>"
            ]
          },
          "metadata": {
            "tags": [],
            "needs_background": "light"
          }
        }
      ]
    },
    {
      "cell_type": "code",
      "metadata": {
        "id": "dNrtQ7cjALza"
      },
      "source": [
        "# Cluster interpretation\n"
      ],
      "execution_count": null,
      "outputs": []
    },
    {
      "cell_type": "markdown",
      "metadata": {
        "id": "K50KdSXfYCB2"
      },
      "source": [
        "K-prototype"
      ]
    },
    {
      "cell_type": "code",
      "metadata": {
        "id": "OEuxvtn5bdvD"
      },
      "source": [
        "# Import module for data visualization\n",
        "from plotnine import *\n",
        "import plotnine\n",
        "# Import module for k-protoype cluster\n",
        "from kmodes.kprototypes import KPrototypes"
      ],
      "execution_count": null,
      "outputs": []
    },
    {
      "cell_type": "code",
      "metadata": {
        "id": "ErGPmGX8KDhd"
      },
      "source": [
        "#df_cat=df"
      ],
      "execution_count": null,
      "outputs": []
    },
    {
      "cell_type": "code",
      "metadata": {
        "id": "rtKAuQFlDb8g"
      },
      "source": [
        "#df_cat['Age_cat']=pd.cut(df_cat.age,bins=[0,60,70,80,90],labels=['<=60','60-70','70-80','80-90'])\n",
        "#df_cat['Age_cat']=df_cat['Age_cat'].astype('object')"
      ],
      "execution_count": null,
      "outputs": []
    },
    {
      "cell_type": "code",
      "metadata": {
        "id": "H_XJtuZoEYW8"
      },
      "source": [
        "#df_cat['Height_cat']=pd.cut(df_cat.height,bins=[0,160,170,180,190,200],labels=['<=160','160-170','170-180','180-190','>190'])\n",
        "#df_cat['Height_cat']=df_cat['Height_cat'].astype('object')"
      ],
      "execution_count": null,
      "outputs": []
    },
    {
      "cell_type": "code",
      "metadata": {
        "colab": {
          "base_uri": "https://localhost:8080/"
        },
        "id": "Fx5jmvQVEtxs",
        "outputId": "f2fcac30-90b3-4f4d-8be1-4f1e1cfedde8"
      },
      "source": [
        "df.info()"
      ],
      "execution_count": null,
      "outputs": [
        {
          "output_type": "stream",
          "text": [
            "<class 'pandas.core.frame.DataFrame'>\n",
            "RangeIndex: 200 entries, 0 to 199\n",
            "Data columns (total 8 columns):\n",
            " #   Column             Non-Null Count  Dtype \n",
            "---  ------             --------------  ----- \n",
            " 0   age                200 non-null    int64 \n",
            " 1   smoking            200 non-null    object\n",
            " 2   alcohol_use        200 non-null    object\n",
            " 3   physical_activity  200 non-null    object\n",
            " 4   diet               200 non-null    object\n",
            " 5   obesity            200 non-null    object\n",
            " 6   gender             200 non-null    object\n",
            " 7   height             200 non-null    int64 \n",
            "dtypes: int64(2), object(6)\n",
            "memory usage: 12.6+ KB\n"
          ],
          "name": "stdout"
        }
      ]
    },
    {
      "cell_type": "code",
      "metadata": {
        "colab": {
          "base_uri": "https://localhost:8080/"
        },
        "id": "DhB6i6hxK34t",
        "outputId": "7cec8b23-9a3d-4d61-95d7-caeae654ac17"
      },
      "source": [
        "df.shape"
      ],
      "execution_count": null,
      "outputs": [
        {
          "output_type": "execute_result",
          "data": {
            "text/plain": [
              "(200, 8)"
            ]
          },
          "metadata": {
            "tags": []
          },
          "execution_count": 370
        }
      ]
    },
    {
      "cell_type": "code",
      "metadata": {
        "id": "qgWQuBdZ23SP"
      },
      "source": [
        "# Standardizing all the numerical variables\n",
        "#from sklearn import preprocessing\n",
        "#scaler = StandardScaler()\n",
        "\n",
        "#Num_features=df.select_dtypes(include=[np.number]).columns\n",
        "#df[Num_features]=scaler.fit_transform(df[Num_features])\n",
        "#df.head()\n"
      ],
      "execution_count": null,
      "outputs": []
    },
    {
      "cell_type": "code",
      "metadata": {
        "colab": {
          "base_uri": "https://localhost:8080/"
        },
        "id": "xiH-LeewY-hf",
        "outputId": "ab026cf8-6448-4988-f0f9-01a59ff1e637"
      },
      "source": [
        "# Get the position of categorical columns\n",
        "catColumnsPos = [df.columns.get_loc(col) for col in list(df.select_dtypes('object').columns)]\n",
        "print('Categorical columns           : {}'.format(list(df.select_dtypes('object').columns)))\n",
        "print('Categorical columns position  : {}'.format(catColumnsPos))"
      ],
      "execution_count": null,
      "outputs": [
        {
          "output_type": "stream",
          "text": [
            "Categorical columns           : ['smoking', 'alcohol_use', 'physical_activity', 'diet', 'obesity', 'gender']\n",
            "Categorical columns position  : [1, 2, 3, 4, 5, 6]\n"
          ],
          "name": "stdout"
        }
      ]
    },
    {
      "cell_type": "code",
      "metadata": {
        "colab": {
          "base_uri": "https://localhost:8080/"
        },
        "id": "ql9uHdUwYTdx",
        "outputId": "5d814bf7-6d9a-4d20-f818-c4ed36fef52b"
      },
      "source": [
        "#convert dataframe to matrix\n",
        "dfMatrix= df.to_numpy()\n",
        "dfMatrix"
      ],
      "execution_count": null,
      "outputs": [
        {
          "output_type": "execute_result",
          "data": {
            "text/plain": [
              "array([[82, 'no', 'no', ..., 'no', 'male', 154],\n",
              "       [76, 'no', 'no', ..., 'no', 'female', 191],\n",
              "       [76, 'no', 'no', ..., 'no', 'female', 164],\n",
              "       ...,\n",
              "       [89, 'no', 'no', ..., 'no', 'female', 174],\n",
              "       [85, 'no', 'no', ..., 'no', 'male', 195],\n",
              "       [59, 'often', 'often', ..., 'yes', 'female', 162]], dtype=object)"
            ]
          },
          "metadata": {
            "tags": []
          },
          "execution_count": 373
        }
      ]
    },
    {
      "cell_type": "code",
      "metadata": {
        "colab": {
          "base_uri": "https://localhost:8080/"
        },
        "id": "t9B53Au2YXCt",
        "outputId": "f4a35a97-a85c-42e8-98b9-e9591d19c500"
      },
      "source": [
        "# Choosing optimal K\n",
        "cost = []\n",
        "for cluster in range(1, 20):\n",
        "    try:\n",
        "        kprototype = KPrototypes(n_jobs = -1, n_clusters = cluster, init = 'Huang', random_state = 0)\n",
        "        kprototype.fit_predict(dfMatrix, categorical = catColumnsPos)\n",
        "        cost.append(kprototype.cost_)\n",
        "        print('Cluster initiation: {}'.format(cluster))\n",
        "    except:\n",
        "        break\n",
        "# Converting the results into a dataframe and plotting them\n",
        "df_cost = pd.DataFrame({'Cluster':range(1, 20), 'Cost':cost})\n",
        "# Show the first 5 rows\n",
        "df_cost.head()\n",
        "# Data viz\n",
        "plotnine.options.figure_size = (8, 4.8)\n",
        "(\n",
        "    ggplot(data = df_cost)+\n",
        "    geom_line(aes(x = 'Cluster',\n",
        "                  y = 'Cost'))+\n",
        "    geom_point(aes(x = 'Cluster',\n",
        "                   y = 'Cost'))+\n",
        "    geom_label(aes(x = 'Cluster',\n",
        "                   y = 'Cost',\n",
        "                   label = 'Cluster'),\n",
        "               size = 10,\n",
        "               nudge_y = 1000) + \n",
        "    labs(title = 'Optimal number of cluster with Elbow Method')+\n",
        "    xlab('Number of Clusters k')+\n",
        "    ylab('Cost')+\n",
        "    theme_minimal()\n",
        ")"
      ],
      "execution_count": null,
      "outputs": [
        {
          "output_type": "stream",
          "text": [
            "Cluster initiation: 1\n",
            "Cluster initiation: 2\n",
            "Cluster initiation: 3\n",
            "Cluster initiation: 4\n",
            "Cluster initiation: 5\n",
            "Cluster initiation: 6\n",
            "Cluster initiation: 7\n",
            "Cluster initiation: 8\n",
            "Cluster initiation: 9\n",
            "Cluster initiation: 10\n",
            "Cluster initiation: 11\n",
            "Cluster initiation: 12\n",
            "Cluster initiation: 13\n",
            "Cluster initiation: 14\n",
            "Cluster initiation: 15\n",
            "Cluster initiation: 16\n",
            "Cluster initiation: 17\n",
            "Cluster initiation: 18\n",
            "Cluster initiation: 19\n"
          ],
          "name": "stdout"
        },
        {
          "output_type": "display_data",
          "data": {
            "image/png": "[encoded data removed]",
            "text/plain": [
              "<Figure size 800x480 with 1 Axes>"
            ]
          },
          "metadata": {
            "tags": [],
            "needs_background": "light"
          }
        },
        {
          "output_type": "execute_result",
          "data": {
            "text/plain": [
              "<ggplot: (8790572874029)>"
            ]
          },
          "metadata": {
            "tags": []
          },
          "execution_count": 374
        }
      ]
    },
    {
      "cell_type": "code",
      "metadata": {
        "id": "zlqdljD_a0j3"
      },
      "source": [
        "# Fit the cluster\n",
        "kprototype = KPrototypes(n_jobs = -1, n_clusters = 4, init = 'Huang', random_state = 0)\n",
        "pred=kprototype.fit_predict(dfMatrix, categorical = catColumnsPos)"
      ],
      "execution_count": null,
      "outputs": []
    },
    {
      "cell_type": "code",
      "metadata": {
        "colab": {
          "base_uri": "https://localhost:8080/"
        },
        "id": "X6kyBoayZ_QR",
        "outputId": "a338ebfa-ad95-41b0-ba20-90eb1c339698"
      },
      "source": [
        "# Cluster centorid\n",
        "kprototype.cluster_centroids_\n",
        "# Check the iteration of the clusters created\n",
        "kprototype.n_iter_\n",
        "# Check the cost of the clusters created\n",
        "kprototype.cost_"
      ],
      "execution_count": null,
      "outputs": [
        {
          "output_type": "execute_result",
          "data": {
            "text/plain": [
              "28113.99483302053"
            ]
          },
          "metadata": {
            "tags": []
          },
          "execution_count": 376
        }
      ]
    },
    {
      "cell_type": "code",
      "metadata": {
        "id": "UVBzUKWigOkx"
      },
      "source": [
        "# Add the cluster to the dataframe\n",
        "df['Cluster Labels'] = kprototype.labels_\n",
        "df['Segment'] = df['Cluster Labels'].map({0:'1', 1:'2', 2:'3', 3:'4'})\n",
        "# Order the cluster\n",
        "df['Segment'] = df['Segment'].astype('category')\n",
        "df['Segment'] = df['Segment'].cat.reorder_categories(['1','2','3','4'])"
      ],
      "execution_count": null,
      "outputs": []
    },
    {
      "cell_type": "code",
      "metadata": {
        "id": "FHXMSpjtf3Cl"
      },
      "source": [
        "#df[Num_features]=scaler.inverse_transform(df[Num_features])"
      ],
      "execution_count": null,
      "outputs": []
    },
    {
      "cell_type": "code",
      "metadata": {
        "colab": {
          "base_uri": "https://localhost:8080/"
        },
        "id": "1_NtMF9egfTc",
        "outputId": "224c72e2-097e-4b0e-e77e-cc69a8317b30"
      },
      "source": [
        "df.head()"
      ],
      "execution_count": null,
      "outputs": [
        {
          "output_type": "execute_result",
          "data": {
            "text/html": [
              "<div>\n",
              "<style scoped>\n",
              "    .dataframe tbody tr th:only-of-type {\n",
              "        vertical-align: middle;\n",
              "    }\n",
              "\n",
              "    .dataframe tbody tr th {\n",
              "        vertical-align: top;\n",
              "    }\n",
              "\n",
              "    .dataframe thead th {\n",
              "        text-align: right;\n",
              "    }\n",
              "</style>\n",
              "<table border=\"1\" class=\"dataframe\">\n",
              "  <thead>\n",
              "    <tr style=\"text-align: right;\">\n",
              "      <th></th>\n",
              "      <th>age</th>\n",
              "      <th>smoking</th>\n",
              "      <th>alcohol_use</th>\n",
              "      <th>physical_activity</th>\n",
              "      <th>diet</th>\n",
              "      <th>obesity</th>\n",
              "      <th>gender</th>\n",
              "      <th>height</th>\n",
              "      <th>Cluster Labels</th>\n",
              "      <th>Segment</th>\n",
              "    </tr>\n",
              "  </thead>\n",
              "  <tbody>\n",
              "    <tr>\n",
              "      <th>0</th>\n",
              "      <td>82</td>\n",
              "      <td>no</td>\n",
              "      <td>no</td>\n",
              "      <td>running</td>\n",
              "      <td>balanced</td>\n",
              "      <td>no</td>\n",
              "      <td>male</td>\n",
              "      <td>154</td>\n",
              "      <td>1</td>\n",
              "      <td>2</td>\n",
              "    </tr>\n",
              "    <tr>\n",
              "      <th>1</th>\n",
              "      <td>76</td>\n",
              "      <td>no</td>\n",
              "      <td>no</td>\n",
              "      <td>running</td>\n",
              "      <td>vegan</td>\n",
              "      <td>no</td>\n",
              "      <td>female</td>\n",
              "      <td>191</td>\n",
              "      <td>2</td>\n",
              "      <td>3</td>\n",
              "    </tr>\n",
              "    <tr>\n",
              "      <th>2</th>\n",
              "      <td>76</td>\n",
              "      <td>no</td>\n",
              "      <td>no</td>\n",
              "      <td>swimming</td>\n",
              "      <td>vegetarian</td>\n",
              "      <td>no</td>\n",
              "      <td>female</td>\n",
              "      <td>164</td>\n",
              "      <td>1</td>\n",
              "      <td>2</td>\n",
              "    </tr>\n",
              "    <tr>\n",
              "      <th>3</th>\n",
              "      <td>83</td>\n",
              "      <td>no</td>\n",
              "      <td>no</td>\n",
              "      <td>running</td>\n",
              "      <td>vegetarian</td>\n",
              "      <td>no</td>\n",
              "      <td>male</td>\n",
              "      <td>187</td>\n",
              "      <td>0</td>\n",
              "      <td>1</td>\n",
              "    </tr>\n",
              "    <tr>\n",
              "      <th>4</th>\n",
              "      <td>69</td>\n",
              "      <td>no</td>\n",
              "      <td>no</td>\n",
              "      <td>exercise</td>\n",
              "      <td>vegetarian</td>\n",
              "      <td>no</td>\n",
              "      <td>female</td>\n",
              "      <td>163</td>\n",
              "      <td>1</td>\n",
              "      <td>2</td>\n",
              "    </tr>\n",
              "  </tbody>\n",
              "</table>\n",
              "</div>"
            ],
            "text/plain": [
              "   age smoking alcohol_use  ... height Cluster Labels Segment\n",
              "0   82      no          no  ...    154              1       2\n",
              "1   76      no          no  ...    191              2       3\n",
              "2   76      no          no  ...    164              1       2\n",
              "3   83      no          no  ...    187              0       1\n",
              "4   69      no          no  ...    163              1       2\n",
              "\n",
              "[5 rows x 10 columns]"
            ]
          },
          "metadata": {
            "tags": []
          },
          "execution_count": 379
        }
      ]
    },
    {
      "cell_type": "code",
      "metadata": {
        "colab": {
          "base_uri": "https://localhost:8080/",
          "height": 1000
        },
        "id": "MmvbfiiUqc91",
        "outputId": "f6d9de18-d733-4990-d06a-ae4223801a6a"
      },
      "source": [
        "# Plot the histogram of various clusters\n",
        "for i in df.columns:\n",
        "  plt.figure(figsize = (35, 5))\n",
        "  for j in range(4):\n",
        "    plt.subplot(1,4,j+1)\n",
        "    cluster = df[df['Cluster Labels'] == j]\n",
        "    cluster[i].hist(bins = 20)\n",
        "    plt.title('{}    \\nCluster {} '.format(i,j))\n",
        "  \n",
        "  plt.show()\n"
      ],
      "execution_count": null,
      "outputs": [
        {
          "output_type": "display_data",
          "data": {
            "image/png": "[encoded data removed]",
            "text/plain": [
              "<Figure size 2520x360 with 4 Axes>"
            ]
          },
          "metadata": {
            "tags": [],
            "needs_background": "light"
          }
        },
        {
          "output_type": "display_data",
          "data": {
            "image/png": "[encoded data removed]",
            "text/plain": [
              "<Figure size 2520x360 with 4 Axes>"
            ]
          },
          "metadata": {
            "tags": [],
            "needs_background": "light"
          }
        },
        {
          "output_type": "display_data",
          "data": {
            "image/png": "[encoded data removed]",
            "text/plain": [
              "<Figure size 2520x360 with 4 Axes>"
            ]
          },
          "metadata": {
            "tags": [],
            "needs_background": "light"
          }
        },
        {
          "output_type": "display_data",
          "data": {
            "image/png": "[encoded data removed]",
            "text/plain": [
              "<Figure size 2520x360 with 4 Axes>"
            ]
          },
          "metadata": {
            "tags": [],
            "needs_background": "light"
          }
        },
        {
          "output_type": "display_data",
          "data": {
            "image/png": "[encoded data removed]",
            "text/plain": [
              "<Figure size 2520x360 with 4 Axes>"
            ]
          },
          "metadata": {
            "tags": [],
            "needs_background": "light"
          }
        },
        {
          "output_type": "display_data",
          "data": {
            "image/png": "[encoded data removed]",
            "text/plain": [
              "<Figure size 2520x360 with 4 Axes>"
            ]
          },
          "metadata": {
            "tags": [],
            "needs_background": "light"
          }
        },
        {
          "output_type": "display_data",
          "data": {
            "image/png": "[encoded data removed]",
            "text/plain": [
              "<Figure size 2520x360 with 4 Axes>"
            ]
          },
          "metadata": {
            "tags": [],
            "needs_background": "light"
          }
        },
        {
          "output_type": "display_data",
          "data": {
            "image/png": "[encoded data removed]",
            "text/plain": [
              "<Figure size 2520x360 with 4 Axes>"
            ]
          },
          "metadata": {
            "tags": [],
            "needs_background": "light"
          }
        },
        {
          "output_type": "display_data",
          "data": {
            "image/png": "[encoded data removed]",
            "text/plain": [
              "<Figure size 2520x360 with 4 Axes>"
            ]
          },
          "metadata": {
            "tags": [],
            "needs_background": "light"
          }
        },
        {
          "output_type": "display_data",
          "data": {
            "image/png": "[encoded data removed]",
            "text/plain": [
              "<Figure size 2520x360 with 4 Axes>"
            ]
          },
          "metadata": {
            "tags": [],
            "needs_background": "light"
          }
        }
      ]
    },
    {
      "cell_type": "code",
      "metadata": {
        "colab": {
          "base_uri": "https://localhost:8080/",
          "height": 204
        },
        "id": "7MCyCNmEHiWS",
        "outputId": "5fb06467-b010-44d8-eb2c-0b5deb5928c7"
      },
      "source": [
        "df.head()"
      ],
      "execution_count": null,
      "outputs": [
        {
          "output_type": "execute_result",
          "data": {
            "text/html": [
              "<div>\n",
              "<style scoped>\n",
              "    .dataframe tbody tr th:only-of-type {\n",
              "        vertical-align: middle;\n",
              "    }\n",
              "\n",
              "    .dataframe tbody tr th {\n",
              "        vertical-align: top;\n",
              "    }\n",
              "\n",
              "    .dataframe thead th {\n",
              "        text-align: right;\n",
              "    }\n",
              "</style>\n",
              "<table border=\"1\" class=\"dataframe\">\n",
              "  <thead>\n",
              "    <tr style=\"text-align: right;\">\n",
              "      <th></th>\n",
              "      <th>age</th>\n",
              "      <th>smoking</th>\n",
              "      <th>alcohol_use</th>\n",
              "      <th>physical_activity</th>\n",
              "      <th>diet</th>\n",
              "      <th>obesity</th>\n",
              "      <th>gender</th>\n",
              "      <th>height</th>\n",
              "      <th>Cluster Labels</th>\n",
              "      <th>Segment</th>\n",
              "    </tr>\n",
              "  </thead>\n",
              "  <tbody>\n",
              "    <tr>\n",
              "      <th>0</th>\n",
              "      <td>82</td>\n",
              "      <td>no</td>\n",
              "      <td>no</td>\n",
              "      <td>running</td>\n",
              "      <td>balanced</td>\n",
              "      <td>no</td>\n",
              "      <td>male</td>\n",
              "      <td>154</td>\n",
              "      <td>1</td>\n",
              "      <td>2</td>\n",
              "    </tr>\n",
              "    <tr>\n",
              "      <th>1</th>\n",
              "      <td>76</td>\n",
              "      <td>no</td>\n",
              "      <td>no</td>\n",
              "      <td>running</td>\n",
              "      <td>vegan</td>\n",
              "      <td>no</td>\n",
              "      <td>female</td>\n",
              "      <td>191</td>\n",
              "      <td>2</td>\n",
              "      <td>3</td>\n",
              "    </tr>\n",
              "    <tr>\n",
              "      <th>2</th>\n",
              "      <td>76</td>\n",
              "      <td>no</td>\n",
              "      <td>no</td>\n",
              "      <td>swimming</td>\n",
              "      <td>vegetarian</td>\n",
              "      <td>no</td>\n",
              "      <td>female</td>\n",
              "      <td>164</td>\n",
              "      <td>1</td>\n",
              "      <td>2</td>\n",
              "    </tr>\n",
              "    <tr>\n",
              "      <th>3</th>\n",
              "      <td>83</td>\n",
              "      <td>no</td>\n",
              "      <td>no</td>\n",
              "      <td>running</td>\n",
              "      <td>vegetarian</td>\n",
              "      <td>no</td>\n",
              "      <td>male</td>\n",
              "      <td>187</td>\n",
              "      <td>0</td>\n",
              "      <td>1</td>\n",
              "    </tr>\n",
              "    <tr>\n",
              "      <th>4</th>\n",
              "      <td>69</td>\n",
              "      <td>no</td>\n",
              "      <td>no</td>\n",
              "      <td>exercise</td>\n",
              "      <td>vegetarian</td>\n",
              "      <td>no</td>\n",
              "      <td>female</td>\n",
              "      <td>163</td>\n",
              "      <td>1</td>\n",
              "      <td>2</td>\n",
              "    </tr>\n",
              "  </tbody>\n",
              "</table>\n",
              "</div>"
            ],
            "text/plain": [
              "   age smoking alcohol_use  ... height Cluster Labels Segment\n",
              "0   82      no          no  ...    154              1       2\n",
              "1   76      no          no  ...    191              2       3\n",
              "2   76      no          no  ...    164              1       2\n",
              "3   83      no          no  ...    187              0       1\n",
              "4   69      no          no  ...    163              1       2\n",
              "\n",
              "[5 rows x 10 columns]"
            ]
          },
          "metadata": {
            "tags": []
          },
          "execution_count": 381
        }
      ]
    },
    {
      "cell_type": "code",
      "metadata": {
        "colab": {
          "base_uri": "https://localhost:8080/",
          "height": 173
        },
        "id": "SIShDVuYgY6O",
        "outputId": "4e787234-12f7-4cf8-a0cf-76cfe3486f65"
      },
      "source": [
        "# Cluster interpretation\n",
        "df.rename(columns = {'Cluster Labels':'Total'}, inplace = True)\n",
        "df.groupby('Segment').agg(\n",
        "    {\n",
        "        'Total':'count',\n",
        "        'smoking': lambda x: x.value_counts().index[0],\n",
        "        'alcohol_use': lambda x: x.value_counts().index[0],\n",
        "        'physical_activity': lambda x: x.value_counts().index[0],\n",
        "        'diet': lambda x: x.value_counts().index[0],\n",
        "        'obesity': lambda x: x.value_counts().index[0],\n",
        "        'gender': lambda x: x.value_counts().index[0],\n",
        "        'age': 'mean',\n",
        "        'height': 'mean'\n",
        "    }\n",
        ").reset_index()"
      ],
      "execution_count": null,
      "outputs": [
        {
          "output_type": "execute_result",
          "data": {
            "text/html": [
              "<div>\n",
              "<style scoped>\n",
              "    .dataframe tbody tr th:only-of-type {\n",
              "        vertical-align: middle;\n",
              "    }\n",
              "\n",
              "    .dataframe tbody tr th {\n",
              "        vertical-align: top;\n",
              "    }\n",
              "\n",
              "    .dataframe thead th {\n",
              "        text-align: right;\n",
              "    }\n",
              "</style>\n",
              "<table border=\"1\" class=\"dataframe\">\n",
              "  <thead>\n",
              "    <tr style=\"text-align: right;\">\n",
              "      <th></th>\n",
              "      <th>Segment</th>\n",
              "      <th>Total</th>\n",
              "      <th>smoking</th>\n",
              "      <th>alcohol_use</th>\n",
              "      <th>physical_activity</th>\n",
              "      <th>diet</th>\n",
              "      <th>obesity</th>\n",
              "      <th>gender</th>\n",
              "      <th>age</th>\n",
              "      <th>height</th>\n",
              "    </tr>\n",
              "  </thead>\n",
              "  <tbody>\n",
              "    <tr>\n",
              "      <th>0</th>\n",
              "      <td>1</td>\n",
              "      <td>51</td>\n",
              "      <td>no</td>\n",
              "      <td>no</td>\n",
              "      <td>no</td>\n",
              "      <td>vegetarian</td>\n",
              "      <td>no</td>\n",
              "      <td>male</td>\n",
              "      <td>82.568627</td>\n",
              "      <td>185.470588</td>\n",
              "    </tr>\n",
              "    <tr>\n",
              "      <th>1</th>\n",
              "      <td>2</td>\n",
              "      <td>73</td>\n",
              "      <td>no</td>\n",
              "      <td>no</td>\n",
              "      <td>no</td>\n",
              "      <td>no</td>\n",
              "      <td>no</td>\n",
              "      <td>female</td>\n",
              "      <td>77.452055</td>\n",
              "      <td>160.452055</td>\n",
              "    </tr>\n",
              "    <tr>\n",
              "      <th>2</th>\n",
              "      <td>3</td>\n",
              "      <td>46</td>\n",
              "      <td>no</td>\n",
              "      <td>no</td>\n",
              "      <td>running</td>\n",
              "      <td>balanced</td>\n",
              "      <td>no</td>\n",
              "      <td>female</td>\n",
              "      <td>68.021739</td>\n",
              "      <td>187.456522</td>\n",
              "    </tr>\n",
              "    <tr>\n",
              "      <th>3</th>\n",
              "      <td>4</td>\n",
              "      <td>30</td>\n",
              "      <td>often</td>\n",
              "      <td>often</td>\n",
              "      <td>no</td>\n",
              "      <td>no</td>\n",
              "      <td>no</td>\n",
              "      <td>male</td>\n",
              "      <td>53.400000</td>\n",
              "      <td>164.200000</td>\n",
              "    </tr>\n",
              "  </tbody>\n",
              "</table>\n",
              "</div>"
            ],
            "text/plain": [
              "  Segment  Total smoking alcohol_use  ... obesity  gender        age      height\n",
              "0       1     51      no          no  ...      no    male  82.568627  185.470588\n",
              "1       2     73      no          no  ...      no  female  77.452055  160.452055\n",
              "2       3     46      no          no  ...      no  female  68.021739  187.456522\n",
              "3       4     30   often       often  ...      no    male  53.400000  164.200000\n",
              "\n",
              "[4 rows x 10 columns]"
            ]
          },
          "metadata": {
            "tags": []
          },
          "execution_count": 382
        }
      ]
    },
    {
      "cell_type": "code",
      "metadata": {
        "id": "cC4D6ZsHdb9i",
        "colab": {
          "base_uri": "https://localhost:8080/",
          "height": 359
        },
        "outputId": "f215a879-9c12-4399-9184-9e9f085b3468"
      },
      "source": [
        "df.groupby(['smoking', 'alcohol_use','gender']).agg({'smoking': np.size, 'alcohol_use': np.size, 'gender':np.size})"
      ],
      "execution_count": null,
      "outputs": [
        {
          "output_type": "execute_result",
          "data": {
            "text/html": [
              "<div>\n",
              "<style scoped>\n",
              "    .dataframe tbody tr th:only-of-type {\n",
              "        vertical-align: middle;\n",
              "    }\n",
              "\n",
              "    .dataframe tbody tr th {\n",
              "        vertical-align: top;\n",
              "    }\n",
              "\n",
              "    .dataframe thead th {\n",
              "        text-align: right;\n",
              "    }\n",
              "</style>\n",
              "<table border=\"1\" class=\"dataframe\">\n",
              "  <thead>\n",
              "    <tr style=\"text-align: right;\">\n",
              "      <th></th>\n",
              "      <th></th>\n",
              "      <th></th>\n",
              "      <th>smoking</th>\n",
              "      <th>alcohol_use</th>\n",
              "      <th>gender</th>\n",
              "    </tr>\n",
              "    <tr>\n",
              "      <th>smoking</th>\n",
              "      <th>alcohol_use</th>\n",
              "      <th>gender</th>\n",
              "      <th></th>\n",
              "      <th></th>\n",
              "      <th></th>\n",
              "    </tr>\n",
              "  </thead>\n",
              "  <tbody>\n",
              "    <tr>\n",
              "      <th rowspan=\"2\" valign=\"top\">no</th>\n",
              "      <th rowspan=\"2\" valign=\"top\">no</th>\n",
              "      <th>female</th>\n",
              "      <td>74</td>\n",
              "      <td>74</td>\n",
              "      <td>74</td>\n",
              "    </tr>\n",
              "    <tr>\n",
              "      <th>male</th>\n",
              "      <td>66</td>\n",
              "      <td>66</td>\n",
              "      <td>66</td>\n",
              "    </tr>\n",
              "    <tr>\n",
              "      <th rowspan=\"4\" valign=\"top\">often</th>\n",
              "      <th rowspan=\"2\" valign=\"top\">often</th>\n",
              "      <th>female</th>\n",
              "      <td>10</td>\n",
              "      <td>10</td>\n",
              "      <td>10</td>\n",
              "    </tr>\n",
              "    <tr>\n",
              "      <th>male</th>\n",
              "      <td>19</td>\n",
              "      <td>19</td>\n",
              "      <td>19</td>\n",
              "    </tr>\n",
              "    <tr>\n",
              "      <th rowspan=\"2\" valign=\"top\">rare</th>\n",
              "      <th>female</th>\n",
              "      <td>10</td>\n",
              "      <td>10</td>\n",
              "      <td>10</td>\n",
              "    </tr>\n",
              "    <tr>\n",
              "      <th>male</th>\n",
              "      <td>8</td>\n",
              "      <td>8</td>\n",
              "      <td>8</td>\n",
              "    </tr>\n",
              "    <tr>\n",
              "      <th rowspan=\"3\" valign=\"top\">rare</th>\n",
              "      <th rowspan=\"2\" valign=\"top\">often</th>\n",
              "      <th>female</th>\n",
              "      <td>7</td>\n",
              "      <td>7</td>\n",
              "      <td>7</td>\n",
              "    </tr>\n",
              "    <tr>\n",
              "      <th>male</th>\n",
              "      <td>3</td>\n",
              "      <td>3</td>\n",
              "      <td>3</td>\n",
              "    </tr>\n",
              "    <tr>\n",
              "      <th>rare</th>\n",
              "      <th>male</th>\n",
              "      <td>3</td>\n",
              "      <td>3</td>\n",
              "      <td>3</td>\n",
              "    </tr>\n",
              "  </tbody>\n",
              "</table>\n",
              "</div>"
            ],
            "text/plain": [
              "                            smoking  alcohol_use  gender\n",
              "smoking alcohol_use gender                              \n",
              "no      no          female       74           74      74\n",
              "                    male         66           66      66\n",
              "often   often       female       10           10      10\n",
              "                    male         19           19      19\n",
              "        rare        female       10           10      10\n",
              "                    male          8            8       8\n",
              "rare    often       female        7            7       7\n",
              "                    male          3            3       3\n",
              "        rare        male          3            3       3"
            ]
          },
          "metadata": {
            "tags": []
          },
          "execution_count": 383
        }
      ]
    },
    {
      "cell_type": "markdown",
      "metadata": {
        "id": "wVRFiy9jcalm"
      },
      "source": [
        "**Autoencoder**"
      ]
    },
    {
      "cell_type": "code",
      "metadata": {
        "id": "-PHV_OK-nBuX"
      },
      "source": [
        "cat_cols = ['smoking', 'alcohol_use', 'physical_activity', 'diet', 'obesity', 'gender']\n",
        "X_cat = df.loc[:, df.columns.isin(cat_cols)]"
      ],
      "execution_count": null,
      "outputs": []
    },
    {
      "cell_type": "code",
      "metadata": {
        "id": "yv--9Bg1gPm5"
      },
      "source": [
        "from sklearn.preprocessing import OneHotEncoder\n",
        "onehotencoder = OneHotEncoder()\n",
        "X_cat = onehotencoder.fit_transform(X_cat).toarray()"
      ],
      "execution_count": null,
      "outputs": []
    },
    {
      "cell_type": "code",
      "metadata": {
        "id": "igmkMOCihSfv"
      },
      "source": [
        "X_cat = pd.DataFrame(X_cat)"
      ],
      "execution_count": null,
      "outputs": []
    },
    {
      "cell_type": "code",
      "metadata": {
        "colab": {
          "base_uri": "https://localhost:8080/",
          "height": 419
        },
        "id": "o6nLoGb6gZPz",
        "outputId": "208ea134-fd24-480e-fb30-2c9c60192139"
      },
      "source": [
        "X_numerical = df[['age','height']]\n",
        "X_numerical"
      ],
      "execution_count": null,
      "outputs": [
        {
          "output_type": "execute_result",
          "data": {
            "text/html": [
              "<div>\n",
              "<style scoped>\n",
              "    .dataframe tbody tr th:only-of-type {\n",
              "        vertical-align: middle;\n",
              "    }\n",
              "\n",
              "    .dataframe tbody tr th {\n",
              "        vertical-align: top;\n",
              "    }\n",
              "\n",
              "    .dataframe thead th {\n",
              "        text-align: right;\n",
              "    }\n",
              "</style>\n",
              "<table border=\"1\" class=\"dataframe\">\n",
              "  <thead>\n",
              "    <tr style=\"text-align: right;\">\n",
              "      <th></th>\n",
              "      <th>age</th>\n",
              "      <th>height</th>\n",
              "    </tr>\n",
              "  </thead>\n",
              "  <tbody>\n",
              "    <tr>\n",
              "      <th>0</th>\n",
              "      <td>0.862745</td>\n",
              "      <td>0.081633</td>\n",
              "    </tr>\n",
              "    <tr>\n",
              "      <th>1</th>\n",
              "      <td>0.745098</td>\n",
              "      <td>0.836735</td>\n",
              "    </tr>\n",
              "    <tr>\n",
              "      <th>2</th>\n",
              "      <td>0.745098</td>\n",
              "      <td>0.285714</td>\n",
              "    </tr>\n",
              "    <tr>\n",
              "      <th>3</th>\n",
              "      <td>0.882353</td>\n",
              "      <td>0.755102</td>\n",
              "    </tr>\n",
              "    <tr>\n",
              "      <th>4</th>\n",
              "      <td>0.607843</td>\n",
              "      <td>0.265306</td>\n",
              "    </tr>\n",
              "    <tr>\n",
              "      <th>...</th>\n",
              "      <td>...</td>\n",
              "      <td>...</td>\n",
              "    </tr>\n",
              "    <tr>\n",
              "      <th>195</th>\n",
              "      <td>0.549020</td>\n",
              "      <td>0.306122</td>\n",
              "    </tr>\n",
              "    <tr>\n",
              "      <th>196</th>\n",
              "      <td>0.705882</td>\n",
              "      <td>0.142857</td>\n",
              "    </tr>\n",
              "    <tr>\n",
              "      <th>197</th>\n",
              "      <td>1.000000</td>\n",
              "      <td>0.489796</td>\n",
              "    </tr>\n",
              "    <tr>\n",
              "      <th>198</th>\n",
              "      <td>0.921569</td>\n",
              "      <td>0.918367</td>\n",
              "    </tr>\n",
              "    <tr>\n",
              "      <th>199</th>\n",
              "      <td>0.411765</td>\n",
              "      <td>0.244898</td>\n",
              "    </tr>\n",
              "  </tbody>\n",
              "</table>\n",
              "<p>200 rows × 2 columns</p>\n",
              "</div>"
            ],
            "text/plain": [
              "          age    height\n",
              "0    0.862745  0.081633\n",
              "1    0.745098  0.836735\n",
              "2    0.745098  0.285714\n",
              "3    0.882353  0.755102\n",
              "4    0.607843  0.265306\n",
              "..        ...       ...\n",
              "195  0.549020  0.306122\n",
              "196  0.705882  0.142857\n",
              "197  1.000000  0.489796\n",
              "198  0.921569  0.918367\n",
              "199  0.411765  0.244898\n",
              "\n",
              "[200 rows x 2 columns]"
            ]
          },
          "metadata": {
            "tags": []
          },
          "execution_count": 78
        }
      ]
    },
    {
      "cell_type": "code",
      "metadata": {
        "id": "bxkhkcCJgkFE"
      },
      "source": [
        "X_all= pd.concat([X_cat, X_numerical],axis=1)"
      ],
      "execution_count": null,
      "outputs": []
    },
    {
      "cell_type": "code",
      "metadata": {
        "colab": {
          "base_uri": "https://localhost:8080/"
        },
        "id": "tm203kwHg908",
        "outputId": "81246059-4c94-4394-ff65-ce2ce5b7ee80"
      },
      "source": [
        "from sklearn.preprocessing import MinMaxScaler\n",
        "scaler = MinMaxScaler()\n",
        "X_A = scaler.fit_transform(X_all)\n",
        "X_A.shape"
      ],
      "execution_count": null,
      "outputs": [
        {
          "output_type": "execute_result",
          "data": {
            "text/plain": [
              "(200, 23)"
            ]
          },
          "metadata": {
            "tags": []
          },
          "execution_count": 80
        }
      ]
    },
    {
      "cell_type": "code",
      "metadata": {
        "id": "LHHpE66zjIRJ"
      },
      "source": [
        ""
      ],
      "execution_count": null,
      "outputs": []
    },
    {
      "cell_type": "code",
      "metadata": {
        "id": "LfGAnIVUv44L"
      },
      "source": [
        "from tensorflow.keras.layers import Input, Add, Dense, Activation, ZeroPadding2D, BatchNormalization, Flatten, Conv2D, AveragePooling2D, MaxPooling2D, Dropout\n",
        "from tensorflow.keras.models import Model, load_model\n",
        "from tensorflow.keras.initializers import glorot_uniform\n",
        "from keras.optimizers import SGD\n",
        "\n",
        "encoding_dim = 7\n",
        "\n",
        "input_df = Input(shape=(23,))\n",
        "\n",
        "\n",
        "# Glorot normal initializer (Xavier normal initializer) draws samples from a truncated normal distribution \n",
        "\n",
        "x = Dense(encoding_dim, activation='relu')(input_df)\n",
        "x = Dense(500, activation='relu', kernel_initializer = 'glorot_uniform')(x)\n",
        "x = Dense(500, activation='relu', kernel_initializer = 'glorot_uniform')(x)\n",
        "x = Dense(2000, activation='relu', kernel_initializer = 'glorot_uniform')(x)\n",
        "\n",
        "encoded = Dense(10, activation='relu', kernel_initializer = 'glorot_uniform')(x)\n",
        "\n",
        "x = Dense(2000, activation='relu', kernel_initializer = 'glorot_uniform')(encoded)\n",
        "x = Dense(500, activation='relu', kernel_initializer = 'glorot_uniform')(x)\n",
        "\n",
        "decoded = Dense(23, kernel_initializer = 'glorot_uniform')(x)\n",
        "\n",
        "# autoencoder\n",
        "autoencoder = Model(input_df, decoded)\n",
        "\n",
        "#encoder - used for our dimention reduction\n",
        "encoder = Model(input_df, encoded)\n",
        "\n",
        "autoencoder.compile(optimizer= 'adam', loss='mean_squared_error')\n"
      ],
      "execution_count": null,
      "outputs": []
    },
    {
      "cell_type": "code",
      "metadata": {
        "colab": {
          "base_uri": "https://localhost:8080/"
        },
        "id": "hA0H1hnBkO90",
        "outputId": "cc9e5ed1-3ddb-4dab-a362-6a5eb1abd8ca"
      },
      "source": [
        "autoencoder.fit(X_A, X_A, batch_size = 128, epochs = 25,  verbose = 1)"
      ],
      "execution_count": null,
      "outputs": [
        {
          "output_type": "stream",
          "text": [
            "Epoch 1/25\n",
            "2/2 [==============================] - 1s 44ms/step - loss: 0.2949\n",
            "Epoch 2/25\n",
            "2/2 [==============================] - 0s 42ms/step - loss: 0.2604\n",
            "Epoch 3/25\n",
            "2/2 [==============================] - 0s 39ms/step - loss: 0.1939\n",
            "Epoch 4/25\n",
            "2/2 [==============================] - 0s 40ms/step - loss: 0.1660\n",
            "Epoch 5/25\n",
            "2/2 [==============================] - 0s 41ms/step - loss: 0.1489\n",
            "Epoch 6/25\n",
            "2/2 [==============================] - 0s 38ms/step - loss: 0.1418\n",
            "Epoch 7/25\n",
            "2/2 [==============================] - 0s 40ms/step - loss: 0.1326\n",
            "Epoch 8/25\n",
            "2/2 [==============================] - 0s 38ms/step - loss: 0.1181\n",
            "Epoch 9/25\n",
            "2/2 [==============================] - 0s 37ms/step - loss: 0.1079\n",
            "Epoch 10/25\n",
            "2/2 [==============================] - 0s 40ms/step - loss: 0.1026\n",
            "Epoch 11/25\n",
            "2/2 [==============================] - 0s 39ms/step - loss: 0.0986\n",
            "Epoch 12/25\n",
            "2/2 [==============================] - 0s 38ms/step - loss: 0.0931\n",
            "Epoch 13/25\n",
            "2/2 [==============================] - 0s 40ms/step - loss: 0.0898\n",
            "Epoch 14/25\n",
            "2/2 [==============================] - 0s 39ms/step - loss: 0.0866\n",
            "Epoch 15/25\n",
            "2/2 [==============================] - 0s 40ms/step - loss: 0.0849\n",
            "Epoch 16/25\n",
            "2/2 [==============================] - 0s 37ms/step - loss: 0.0821\n",
            "Epoch 17/25\n",
            "2/2 [==============================] - 0s 37ms/step - loss: 0.0793\n",
            "Epoch 18/25\n",
            "2/2 [==============================] - 0s 37ms/step - loss: 0.0772\n",
            "Epoch 19/25\n",
            "2/2 [==============================] - 0s 38ms/step - loss: 0.0753\n",
            "Epoch 20/25\n",
            "2/2 [==============================] - 0s 45ms/step - loss: 0.0729\n",
            "Epoch 21/25\n",
            "2/2 [==============================] - 0s 38ms/step - loss: 0.0710\n",
            "Epoch 22/25\n",
            "2/2 [==============================] - 0s 46ms/step - loss: 0.0690\n",
            "Epoch 23/25\n",
            "2/2 [==============================] - 0s 36ms/step - loss: 0.0671\n",
            "Epoch 24/25\n",
            "2/2 [==============================] - 0s 39ms/step - loss: 0.0654\n",
            "Epoch 25/25\n",
            "2/2 [==============================] - 0s 42ms/step - loss: 0.0639\n"
          ],
          "name": "stdout"
        },
        {
          "output_type": "execute_result",
          "data": {
            "text/plain": [
              "<tensorflow.python.keras.callbacks.History at 0x7feb72a02b10>"
            ]
          },
          "metadata": {
            "tags": []
          },
          "execution_count": 82
        }
      ]
    },
    {
      "cell_type": "code",
      "metadata": {
        "id": "UderF6DFkpPE"
      },
      "source": [
        "autoencoder.save_weights('autoencoder.h5')"
      ],
      "execution_count": null,
      "outputs": []
    },
    {
      "cell_type": "code",
      "metadata": {
        "id": "YH580Splkx0n"
      },
      "source": [
        "pred = encoder.predict(X_A)"
      ],
      "execution_count": null,
      "outputs": []
    },
    {
      "cell_type": "code",
      "metadata": {
        "colab": {
          "base_uri": "https://localhost:8080/",
          "height": 295
        },
        "id": "hakwRAEFk8LG",
        "outputId": "9583f035-da99-4b6a-9d6e-d15ced707100"
      },
      "source": [
        "scores_2 = []\n",
        "\n",
        "range_values = range(1, 20)\n",
        "\n",
        "for i in range_values:\n",
        "  kmeans = KMeans(n_clusters= i)\n",
        "  kmeans.fit(pred)\n",
        "  scores_2.append(kmeans.inertia_)\n",
        "\n",
        "plt.plot(scores_2, 'bx-')\n",
        "plt.title('Finding right number of clusters')\n",
        "plt.xlabel('Clusters')\n",
        "plt.ylabel('scores') \n",
        "plt.show()"
      ],
      "execution_count": null,
      "outputs": [
        {
          "output_type": "display_data",
          "data": {
            "image/png": "[encoded data removed]",
            "text/plain": [
              "<Figure size 432x288 with 1 Axes>"
            ]
          },
          "metadata": {
            "tags": [],
            "needs_background": "light"
          }
        }
      ]
    },
    {
      "cell_type": "code",
      "metadata": {
        "id": "tcdb0CXClH1e"
      },
      "source": [
        "kmeans = KMeans(4)\n",
        "kmeans.fit(pred)\n",
        "labels = kmeans.labels_\n",
        "y_kmeans = kmeans.fit_predict(X_A)"
      ],
      "execution_count": null,
      "outputs": []
    },
    {
      "cell_type": "code",
      "metadata": {
        "colab": {
          "base_uri": "https://localhost:8080/",
          "height": 204
        },
        "id": "Sj2IJ8GZlUEJ",
        "outputId": "b9e08207-17b6-4d7a-d56c-107825818146"
      },
      "source": [
        "df_cluster_dr = pd.concat([df, pd.DataFrame({'cluster_auto':labels})], axis = 1)\n",
        "df_cluster_dr.head()"
      ],
      "execution_count": null,
      "outputs": [
        {
          "output_type": "execute_result",
          "data": {
            "text/html": [
              "<div>\n",
              "<style scoped>\n",
              "    .dataframe tbody tr th:only-of-type {\n",
              "        vertical-align: middle;\n",
              "    }\n",
              "\n",
              "    .dataframe tbody tr th {\n",
              "        vertical-align: top;\n",
              "    }\n",
              "\n",
              "    .dataframe thead th {\n",
              "        text-align: right;\n",
              "    }\n",
              "</style>\n",
              "<table border=\"1\" class=\"dataframe\">\n",
              "  <thead>\n",
              "    <tr style=\"text-align: right;\">\n",
              "      <th></th>\n",
              "      <th>age</th>\n",
              "      <th>smoking</th>\n",
              "      <th>alcohol_use</th>\n",
              "      <th>physical_activity</th>\n",
              "      <th>diet</th>\n",
              "      <th>obesity</th>\n",
              "      <th>gender</th>\n",
              "      <th>height</th>\n",
              "      <th>Total</th>\n",
              "      <th>Segment</th>\n",
              "      <th>cluster_auto</th>\n",
              "    </tr>\n",
              "  </thead>\n",
              "  <tbody>\n",
              "    <tr>\n",
              "      <th>0</th>\n",
              "      <td>0.862745</td>\n",
              "      <td>no</td>\n",
              "      <td>no</td>\n",
              "      <td>running</td>\n",
              "      <td>balanced</td>\n",
              "      <td>no</td>\n",
              "      <td>male</td>\n",
              "      <td>0.081633</td>\n",
              "      <td>3</td>\n",
              "      <td>4</td>\n",
              "      <td>2</td>\n",
              "    </tr>\n",
              "    <tr>\n",
              "      <th>1</th>\n",
              "      <td>0.745098</td>\n",
              "      <td>no</td>\n",
              "      <td>no</td>\n",
              "      <td>running</td>\n",
              "      <td>vegan</td>\n",
              "      <td>no</td>\n",
              "      <td>female</td>\n",
              "      <td>0.836735</td>\n",
              "      <td>1</td>\n",
              "      <td>2</td>\n",
              "      <td>1</td>\n",
              "    </tr>\n",
              "    <tr>\n",
              "      <th>2</th>\n",
              "      <td>0.745098</td>\n",
              "      <td>no</td>\n",
              "      <td>no</td>\n",
              "      <td>swimming</td>\n",
              "      <td>vegetarian</td>\n",
              "      <td>no</td>\n",
              "      <td>female</td>\n",
              "      <td>0.285714</td>\n",
              "      <td>3</td>\n",
              "      <td>4</td>\n",
              "      <td>1</td>\n",
              "    </tr>\n",
              "    <tr>\n",
              "      <th>3</th>\n",
              "      <td>0.882353</td>\n",
              "      <td>no</td>\n",
              "      <td>no</td>\n",
              "      <td>running</td>\n",
              "      <td>vegetarian</td>\n",
              "      <td>no</td>\n",
              "      <td>male</td>\n",
              "      <td>0.755102</td>\n",
              "      <td>0</td>\n",
              "      <td>1</td>\n",
              "      <td>2</td>\n",
              "    </tr>\n",
              "    <tr>\n",
              "      <th>4</th>\n",
              "      <td>0.607843</td>\n",
              "      <td>no</td>\n",
              "      <td>no</td>\n",
              "      <td>exercise</td>\n",
              "      <td>vegetarian</td>\n",
              "      <td>no</td>\n",
              "      <td>female</td>\n",
              "      <td>0.265306</td>\n",
              "      <td>1</td>\n",
              "      <td>2</td>\n",
              "      <td>1</td>\n",
              "    </tr>\n",
              "  </tbody>\n",
              "</table>\n",
              "</div>"
            ],
            "text/plain": [
              "        age smoking alcohol_use  ... Total Segment cluster_auto\n",
              "0  0.862745      no          no  ...     3       4            2\n",
              "1  0.745098      no          no  ...     1       2            1\n",
              "2  0.745098      no          no  ...     3       4            1\n",
              "3  0.882353      no          no  ...     0       1            2\n",
              "4  0.607843      no          no  ...     1       2            1\n",
              "\n",
              "[5 rows x 11 columns]"
            ]
          },
          "metadata": {
            "tags": []
          },
          "execution_count": 87
        }
      ]
    },
    {
      "cell_type": "code",
      "metadata": {
        "colab": {
          "base_uri": "https://localhost:8080/",
          "height": 204
        },
        "id": "E17A6FujmNJt",
        "outputId": "c0da8512-5c52-48ef-b2d8-bfd39f9b9023"
      },
      "source": [
        "pca = PCA(n_components=2)\n",
        "prin_comp = pca.fit_transform(pred)\n",
        "pca_df = pd.DataFrame(data = prin_comp, columns =['pca1','pca2'])\n",
        "pca_df.head()"
      ],
      "execution_count": null,
      "outputs": [
        {
          "output_type": "execute_result",
          "data": {
            "text/html": [
              "<div>\n",
              "<style scoped>\n",
              "    .dataframe tbody tr th:only-of-type {\n",
              "        vertical-align: middle;\n",
              "    }\n",
              "\n",
              "    .dataframe tbody tr th {\n",
              "        vertical-align: top;\n",
              "    }\n",
              "\n",
              "    .dataframe thead th {\n",
              "        text-align: right;\n",
              "    }\n",
              "</style>\n",
              "<table border=\"1\" class=\"dataframe\">\n",
              "  <thead>\n",
              "    <tr style=\"text-align: right;\">\n",
              "      <th></th>\n",
              "      <th>pca1</th>\n",
              "      <th>pca2</th>\n",
              "    </tr>\n",
              "  </thead>\n",
              "  <tbody>\n",
              "    <tr>\n",
              "      <th>0</th>\n",
              "      <td>0.059931</td>\n",
              "      <td>0.340875</td>\n",
              "    </tr>\n",
              "    <tr>\n",
              "      <th>1</th>\n",
              "      <td>-0.435904</td>\n",
              "      <td>-0.170796</td>\n",
              "    </tr>\n",
              "    <tr>\n",
              "      <th>2</th>\n",
              "      <td>-0.491535</td>\n",
              "      <td>0.016283</td>\n",
              "    </tr>\n",
              "    <tr>\n",
              "      <th>3</th>\n",
              "      <td>-0.107328</td>\n",
              "      <td>0.273884</td>\n",
              "    </tr>\n",
              "    <tr>\n",
              "      <th>4</th>\n",
              "      <td>-0.438873</td>\n",
              "      <td>-0.121210</td>\n",
              "    </tr>\n",
              "  </tbody>\n",
              "</table>\n",
              "</div>"
            ],
            "text/plain": [
              "       pca1      pca2\n",
              "0  0.059931  0.340875\n",
              "1 -0.435904 -0.170796\n",
              "2 -0.491535  0.016283\n",
              "3 -0.107328  0.273884\n",
              "4 -0.438873 -0.121210"
            ]
          },
          "metadata": {
            "tags": []
          },
          "execution_count": 88
        }
      ]
    },
    {
      "cell_type": "code",
      "metadata": {
        "id": "nSYaZ4z5mSFH"
      },
      "source": [
        "\n"
      ],
      "execution_count": null,
      "outputs": []
    },
    {
      "cell_type": "code",
      "metadata": {
        "id": "RlSSorv65kao",
        "colab": {
          "base_uri": "https://localhost:8080/",
          "height": 204
        },
        "outputId": "6a916c28-2120-499e-ad17-55826171c8e2"
      },
      "source": [
        "pca_df = pd.concat([pca_df,pd.DataFrame({'cluster':labels})], axis = 1)\n",
        "pca_df.head()"
      ],
      "execution_count": null,
      "outputs": [
        {
          "output_type": "execute_result",
          "data": {
            "text/html": [
              "<div>\n",
              "<style scoped>\n",
              "    .dataframe tbody tr th:only-of-type {\n",
              "        vertical-align: middle;\n",
              "    }\n",
              "\n",
              "    .dataframe tbody tr th {\n",
              "        vertical-align: top;\n",
              "    }\n",
              "\n",
              "    .dataframe thead th {\n",
              "        text-align: right;\n",
              "    }\n",
              "</style>\n",
              "<table border=\"1\" class=\"dataframe\">\n",
              "  <thead>\n",
              "    <tr style=\"text-align: right;\">\n",
              "      <th></th>\n",
              "      <th>pca1</th>\n",
              "      <th>pca2</th>\n",
              "      <th>cluster</th>\n",
              "    </tr>\n",
              "  </thead>\n",
              "  <tbody>\n",
              "    <tr>\n",
              "      <th>0</th>\n",
              "      <td>0.059931</td>\n",
              "      <td>0.340875</td>\n",
              "      <td>2</td>\n",
              "    </tr>\n",
              "    <tr>\n",
              "      <th>1</th>\n",
              "      <td>-0.435904</td>\n",
              "      <td>-0.170796</td>\n",
              "      <td>1</td>\n",
              "    </tr>\n",
              "    <tr>\n",
              "      <th>2</th>\n",
              "      <td>-0.491535</td>\n",
              "      <td>0.016283</td>\n",
              "      <td>1</td>\n",
              "    </tr>\n",
              "    <tr>\n",
              "      <th>3</th>\n",
              "      <td>-0.107328</td>\n",
              "      <td>0.273884</td>\n",
              "      <td>2</td>\n",
              "    </tr>\n",
              "    <tr>\n",
              "      <th>4</th>\n",
              "      <td>-0.438873</td>\n",
              "      <td>-0.121210</td>\n",
              "      <td>1</td>\n",
              "    </tr>\n",
              "  </tbody>\n",
              "</table>\n",
              "</div>"
            ],
            "text/plain": [
              "       pca1      pca2  cluster\n",
              "0  0.059931  0.340875        2\n",
              "1 -0.435904 -0.170796        1\n",
              "2 -0.491535  0.016283        1\n",
              "3 -0.107328  0.273884        2\n",
              "4 -0.438873 -0.121210        1"
            ]
          },
          "metadata": {
            "tags": []
          },
          "execution_count": 89
        }
      ]
    },
    {
      "cell_type": "code",
      "metadata": {
        "colab": {
          "base_uri": "https://localhost:8080/",
          "height": 606
        },
        "id": "HC-kxu5LmYPF",
        "outputId": "d6cc3b45-e1fb-415c-f54f-df50040f058f"
      },
      "source": [
        "plt.figure(figsize=(10,10))\n",
        "ax = sns.scatterplot(x=\"pca1\", y=\"pca2\", hue = \"cluster\", data = pca_df, palette =['red','green','blue','yellow'])\n",
        "plt.show()"
      ],
      "execution_count": null,
      "outputs": [
        {
          "output_type": "display_data",
          "data": {
            "image/png": "[encoded data removed]",
            "text/plain": [
              "<Figure size 720x720 with 1 Axes>"
            ]
          },
          "metadata": {
            "tags": [],
            "needs_background": "light"
          }
        }
      ]
    },
    {
      "cell_type": "code",
      "metadata": {
        "id": "3RRVQAbHiBJU"
      },
      "source": [
        ""
      ],
      "execution_count": null,
      "outputs": []
    },
    {
      "cell_type": "code",
      "metadata": {
        "colab": {
          "base_uri": "https://localhost:8080/",
          "height": 204
        },
        "id": "R2YI8V50f7Xw",
        "outputId": "d7c6e67e-526a-486f-c7e2-252010436637"
      },
      "source": [
        "df_cluster_dr.head()"
      ],
      "execution_count": null,
      "outputs": [
        {
          "output_type": "execute_result",
          "data": {
            "text/html": [
              "<div>\n",
              "<style scoped>\n",
              "    .dataframe tbody tr th:only-of-type {\n",
              "        vertical-align: middle;\n",
              "    }\n",
              "\n",
              "    .dataframe tbody tr th {\n",
              "        vertical-align: top;\n",
              "    }\n",
              "\n",
              "    .dataframe thead th {\n",
              "        text-align: right;\n",
              "    }\n",
              "</style>\n",
              "<table border=\"1\" class=\"dataframe\">\n",
              "  <thead>\n",
              "    <tr style=\"text-align: right;\">\n",
              "      <th></th>\n",
              "      <th>age</th>\n",
              "      <th>smoking</th>\n",
              "      <th>alcohol_use</th>\n",
              "      <th>physical_activity</th>\n",
              "      <th>diet</th>\n",
              "      <th>obesity</th>\n",
              "      <th>gender</th>\n",
              "      <th>height</th>\n",
              "      <th>Total</th>\n",
              "      <th>Segment</th>\n",
              "      <th>cluster_auto</th>\n",
              "    </tr>\n",
              "  </thead>\n",
              "  <tbody>\n",
              "    <tr>\n",
              "      <th>0</th>\n",
              "      <td>0.862745</td>\n",
              "      <td>no</td>\n",
              "      <td>no</td>\n",
              "      <td>running</td>\n",
              "      <td>balanced</td>\n",
              "      <td>no</td>\n",
              "      <td>male</td>\n",
              "      <td>0.081633</td>\n",
              "      <td>3</td>\n",
              "      <td>4</td>\n",
              "      <td>2</td>\n",
              "    </tr>\n",
              "    <tr>\n",
              "      <th>1</th>\n",
              "      <td>0.745098</td>\n",
              "      <td>no</td>\n",
              "      <td>no</td>\n",
              "      <td>running</td>\n",
              "      <td>vegan</td>\n",
              "      <td>no</td>\n",
              "      <td>female</td>\n",
              "      <td>0.836735</td>\n",
              "      <td>1</td>\n",
              "      <td>2</td>\n",
              "      <td>1</td>\n",
              "    </tr>\n",
              "    <tr>\n",
              "      <th>2</th>\n",
              "      <td>0.745098</td>\n",
              "      <td>no</td>\n",
              "      <td>no</td>\n",
              "      <td>swimming</td>\n",
              "      <td>vegetarian</td>\n",
              "      <td>no</td>\n",
              "      <td>female</td>\n",
              "      <td>0.285714</td>\n",
              "      <td>3</td>\n",
              "      <td>4</td>\n",
              "      <td>1</td>\n",
              "    </tr>\n",
              "    <tr>\n",
              "      <th>3</th>\n",
              "      <td>0.882353</td>\n",
              "      <td>no</td>\n",
              "      <td>no</td>\n",
              "      <td>running</td>\n",
              "      <td>vegetarian</td>\n",
              "      <td>no</td>\n",
              "      <td>male</td>\n",
              "      <td>0.755102</td>\n",
              "      <td>0</td>\n",
              "      <td>1</td>\n",
              "      <td>2</td>\n",
              "    </tr>\n",
              "    <tr>\n",
              "      <th>4</th>\n",
              "      <td>0.607843</td>\n",
              "      <td>no</td>\n",
              "      <td>no</td>\n",
              "      <td>exercise</td>\n",
              "      <td>vegetarian</td>\n",
              "      <td>no</td>\n",
              "      <td>female</td>\n",
              "      <td>0.265306</td>\n",
              "      <td>1</td>\n",
              "      <td>2</td>\n",
              "      <td>1</td>\n",
              "    </tr>\n",
              "  </tbody>\n",
              "</table>\n",
              "</div>"
            ],
            "text/plain": [
              "        age smoking alcohol_use  ... Total Segment cluster_auto\n",
              "0  0.862745      no          no  ...     3       4            2\n",
              "1  0.745098      no          no  ...     1       2            1\n",
              "2  0.745098      no          no  ...     3       4            1\n",
              "3  0.882353      no          no  ...     0       1            2\n",
              "4  0.607843      no          no  ...     1       2            1\n",
              "\n",
              "[5 rows x 11 columns]"
            ]
          },
          "metadata": {
            "tags": []
          },
          "execution_count": 91
        }
      ]
    },
    {
      "cell_type": "code",
      "metadata": {
        "colab": {
          "base_uri": "https://localhost:8080/"
        },
        "id": "lc3wFVvyECde",
        "outputId": "c87a13b4-47fe-489d-db96-2ffce66c792d"
      },
      "source": [
        "df_cluster_dr.info"
      ],
      "execution_count": null,
      "outputs": [
        {
          "output_type": "execute_result",
          "data": {
            "text/plain": [
              "<bound method DataFrame.info of           age smoking alcohol_use  ... Total Segment cluster_auto\n",
              "0    0.862745      no          no  ...     3       4            2\n",
              "1    0.745098      no          no  ...     1       2            1\n",
              "2    0.745098      no          no  ...     3       4            1\n",
              "3    0.882353      no          no  ...     0       1            2\n",
              "4    0.607843      no          no  ...     1       2            1\n",
              "..        ...     ...         ...  ...   ...     ...          ...\n",
              "195  0.549020      no          no  ...     1       2            1\n",
              "196  0.705882      no          no  ...     3       4            1\n",
              "197  1.000000      no          no  ...     1       2            1\n",
              "198  0.921569      no          no  ...     0       1            2\n",
              "199  0.411765   often       often  ...     2       3            0\n",
              "\n",
              "[200 rows x 11 columns]>"
            ]
          },
          "metadata": {
            "tags": []
          },
          "execution_count": 92
        }
      ]
    },
    {
      "cell_type": "code",
      "metadata": {
        "id": "ZJ1X5ukRglCC"
      },
      "source": [
        ""
      ],
      "execution_count": null,
      "outputs": []
    },
    {
      "cell_type": "code",
      "metadata": {
        "id": "Uj8dyJ02xGn9"
      },
      "source": [
        "df.to_csv ('df_heart_attack.csv', index = False, header=True)"
      ],
      "execution_count": null,
      "outputs": []
    },
    {
      "cell_type": "code",
      "metadata": {
        "colab": {
          "base_uri": "https://localhost:8080/",
          "height": 17
        },
        "id": "ncWz_Vr5xSWf",
        "outputId": "4d717681-8fe4-4788-af83-504c2d04dcc4"
      },
      "source": [
        "from google.colab import files\n",
        "files.download('df_heart_attack.csv')"
      ],
      "execution_count": null,
      "outputs": [
        {
          "output_type": "display_data",
          "data": {
            "application/javascript": [
              "\n",
              "    async function download(id, filename, size) {\n",
              "      if (!google.colab.kernel.accessAllowed) {\n",
              "        return;\n",
              "      }\n",
              "      const div = document.createElement('div');\n",
              "      const label = document.createElement('label');\n",
              "      label.textContent = `Downloading \"${filename}\": `;\n",
              "      div.appendChild(label);\n",
              "      const progress = document.createElement('progress');\n",
              "      progress.max = size;\n",
              "      div.appendChild(progress);\n",
              "      document.body.appendChild(div);\n",
              "\n",
              "      const buffers = [];\n",
              "      let downloaded = 0;\n",
              "\n",
              "      const channel = await google.colab.kernel.comms.open(id);\n",
              "      // Send a message to notify the kernel that we're ready.\n",
              "      channel.send({})\n",
              "\n",
              "      for await (const message of channel.messages) {\n",
              "        // Send a message to notify the kernel that we're ready.\n",
              "        channel.send({})\n",
              "        if (message.buffers) {\n",
              "          for (const buffer of message.buffers) {\n",
              "            buffers.push(buffer);\n",
              "            downloaded += buffer.byteLength;\n",
              "            progress.value = downloaded;\n",
              "          }\n",
              "        }\n",
              "      }\n",
              "      const blob = new Blob(buffers, {type: 'application/binary'});\n",
              "      const a = document.createElement('a');\n",
              "      a.href = window.URL.createObjectURL(blob);\n",
              "      a.download = filename;\n",
              "      div.appendChild(a);\n",
              "      a.click();\n",
              "      div.remove();\n",
              "    }\n",
              "  "
            ],
            "text/plain": [
              "<IPython.core.display.Javascript object>"
            ]
          },
          "metadata": {
            "tags": []
          }
        },
        {
          "output_type": "display_data",
          "data": {
            "application/javascript": [
              "download(\"download_c6968c12-cadb-4a54-8cae-fa1342cd6dd9\", \"df_heart_attack.csv\", 8357)"
            ],
            "text/plain": [
              "<IPython.core.display.Javascript object>"
            ]
          },
          "metadata": {
            "tags": []
          }
        }
      ]
    }
  ]
}